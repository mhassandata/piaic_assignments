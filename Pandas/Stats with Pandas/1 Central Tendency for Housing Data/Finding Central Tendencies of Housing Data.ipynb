{
 "cells": [
  {
   "cell_type": "markdown",
   "metadata": {},
   "source": [
    "# Step1: Observing your Data\n",
    "1.\n",
    "You’ve to load data about one-bedroom apartments in three of New York City’s boroughs: (See the data folder to view the data files names)\n",
    "- Brooklyn, \n",
    "- Manhattan, and \n",
    "- Queens. \n",
    "\n",
    "And save the values to:\n",
    "\n",
    "- brooklyn_one_bed\n",
    "- manhattan_one_bed\n",
    "- queens_one_bed"
   ]
  },
  {
   "cell_type": "code",
   "execution_count": 1,
   "metadata": {},
   "outputs": [],
   "source": [
    "import numpy as np\n",
    "import pandas as pd\n",
    "from scipy import stats\n",
    "# load data files here\n",
    "\n"
   ]
  },
  {
   "cell_type": "markdown",
   "metadata": {},
   "source": [
    "In this project, we only care about the price of apartments, so load and save the price of apartments in each borough to:\n",
    "\n",
    "- brooklyn_price\n",
    "- manhattan_price\n",
    "- queens_price\n",
    "\n",
    "If you want to see what these arrays look like, you can use print statements to see them in the output terminal."
   ]
  },
  {
   "cell_type": "code",
   "execution_count": 2,
   "metadata": {},
   "outputs": [],
   "source": [
    "#load prices here\n",
    "\n"
   ]
  },
  {
   "cell_type": "markdown",
   "metadata": {},
   "source": [
    "# Step2: Finding the mean"
   ]
  },
  {
   "cell_type": "markdown",
   "metadata": {},
   "source": [
    "Find the average values of one-bedroom apartments in \n",
    "\n",
    "- Brooklyn\n",
    "- Manhattan\n",
    "- Queens\n",
    "\n",
    "and save the value to:\n",
    "\n",
    "- brooklyn_mean \n",
    "- manhattan_mean\n",
    "- queens_mean"
   ]
  },
  {
   "cell_type": "code",
   "execution_count": 3,
   "metadata": {},
   "outputs": [],
   "source": [
    "# Add mean calculations below\n",
    "\n"
   ]
  },
  {
   "cell_type": "markdown",
   "metadata": {},
   "source": [
    "# Step3: Find the Median"
   ]
  },
  {
   "cell_type": "markdown",
   "metadata": {},
   "source": [
    "Find the median values of one-bedroom apartments in\n",
    "\n",
    "- Brooklyn\n",
    "- Manhattan\n",
    "- Queens\n",
    "\n",
    "and save the value to:\n",
    "\n",
    "- brooklyn_median\n",
    "- manhattan_median\n",
    "- queens_median"
   ]
  },
  {
   "cell_type": "code",
   "execution_count": 4,
   "metadata": {},
   "outputs": [],
   "source": [
    "# Add median calculations below\n",
    "\n"
   ]
  },
  {
   "cell_type": "markdown",
   "metadata": {},
   "source": [
    "# Step4: Find the mode\n",
    "    "
   ]
  },
  {
   "cell_type": "markdown",
   "metadata": {},
   "source": [
    "Find the mode values of one-bedroom apartments in\n",
    "\n",
    "- Brooklyn\n",
    "- Manhattan\n",
    "- Queens\n",
    "\n",
    "and save the value to:\n",
    "\n",
    "- brooklyn_mode\n",
    "- manhattan_mode\n",
    "- queens_mode"
   ]
  },
  {
   "cell_type": "code",
   "execution_count": 5,
   "metadata": {},
   "outputs": [],
   "source": [
    "# Add mode calculations below\n",
    "\n",
    "\n"
   ]
  },
  {
   "cell_type": "code",
   "execution_count": 6,
   "metadata": {},
   "outputs": [
    {
     "name": "stdout",
     "output_type": "stream",
     "text": [
      "The mean price in Brooklyn is not yet defined.\n",
      "The mean in Manhattan is not yet defined.\n",
      "The mean price in Queens is not yet defined.\n",
      "The median price in Brooklyn is not yet defined.\n",
      "The median price in Manhattan is not yet defined.\n",
      "The median price in Queens is not yet defined.\n",
      "The mode price in Brooklyn is not yet defined.\n",
      "The mode price in Manhattan is not yet defined.\n",
      "The mode price in Queens is not yet defined.\n"
     ]
    }
   ],
   "source": [
    "# Don't look below here\n",
    "# Mean\n",
    "try:\n",
    "    print(\"The mean price in Brooklyn is \" + str(round(brooklyn_mean, 2)))\n",
    "except NameError:\n",
    "    print(\"The mean price in Brooklyn is not yet defined.\")\n",
    "try:\n",
    "    print(\"The mean price in Manhattan is \" + str(round(manhattan_mean, 2)))\n",
    "except NameError:\n",
    "    print(\"The mean in Manhattan is not yet defined.\")\n",
    "try:\n",
    "    print(\"The mean price in Queens is \" + str(round(queens_mean, 2)))\n",
    "except NameError:\n",
    "    print(\"The mean price in Queens is not yet defined.\")\n",
    "    \n",
    "    \n",
    "# Median\n",
    "try:\n",
    "    print(\"The median price in Brooklyn is \" + str(brooklyn_median))\n",
    "except NameError:\n",
    "    print(\"The median price in Brooklyn is not yet defined.\")\n",
    "try:\n",
    "    print(\"The median price in Manhattan is \" + str(manhattan_median))\n",
    "except NameError:\n",
    "    print(\"The median price in Manhattan is not yet defined.\")\n",
    "try:\n",
    "    print(\"The median price in Queens is \" + str(queens_median))\n",
    "except NameError:\n",
    "    print(\"The median price in Queens is not yet defined.\")\n",
    "    \n",
    "    \n",
    "#Mode\n",
    "try:\n",
    "    print(\"The mode price in Brooklyn is \" + str(brooklyn_mode[0][0]) + \" and it appears \" + str(brooklyn_mode[1][0]) + \" times out of \" + str(len(brooklyn_price)))\n",
    "except NameError:\n",
    "    print(\"The mode price in Brooklyn is not yet defined.\")\n",
    "try:\n",
    "    print(\"The mode price in Manhattan is \" + str(manhattan_mode[0][0]) + \" and it appears \" + str(manhattan_mode[1][0]) + \" times out of \" + str(len(manhattan_price)))\n",
    "except NameError:\n",
    "    print(\"The mode price in Manhattan is not yet defined.\")\n",
    "try:\n",
    "    print(\"The mode price in Queens is \" + str(queens_mode[0][0]) + \" and it appears \" + str(queens_mode[1][0]) + \" times out of \" + str(len(queens_price)))\n",
    "except NameError:\n",
    "    print(\"The mode price in Queens is not yet defined.\")\n",
    "\n",
    "\n"
   ]
  },
  {
   "cell_type": "code",
   "execution_count": null,
   "metadata": {},
   "outputs": [],
   "source": []
  }
 ],
 "metadata": {
  "kernelspec": {
   "display_name": "Python 3",
   "language": "python",
   "name": "python3"
  },
  "language_info": {
   "codemirror_mode": {
    "name": "ipython",
    "version": 3
   },
   "file_extension": ".py",
   "mimetype": "text/x-python",
   "name": "python",
   "nbconvert_exporter": "python",
   "pygments_lexer": "ipython3",
   "version": "3.7.4"
  }
 },
 "nbformat": 4,
 "nbformat_minor": 2
}
