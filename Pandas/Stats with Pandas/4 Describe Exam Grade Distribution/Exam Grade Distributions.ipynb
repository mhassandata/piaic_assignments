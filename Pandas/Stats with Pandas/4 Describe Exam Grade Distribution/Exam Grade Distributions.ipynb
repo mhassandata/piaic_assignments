{
 "cells": [
  {
   "cell_type": "markdown",
   "id": "757ea91c",
   "metadata": {},
   "source": [
    "# Describe Exam Grade Distributions\n",
    "You are teaching a middle school computer science class, and have taken it upon yourself to understand how your class performed on each exam over the past year.\n",
    "\n",
    "\n",
    "\n",
    "2.\n",
    "Exam 2: Use the following information, and the distribution to the right to fill in the Exam 2 blanks in summary.txt.\n",
    "\n",
    "Average: 82\n",
    "\n",
    "Median: 84\n",
    "\n",
    "Check the hint for the answer and an interpretation of the results.\n",
    "3.\n",
    "Exam 3: Use the following information, and the distribution to the right to fill in the Exam 3 blanks in summary.txt.\n",
    "\n",
    "Average: 77\n",
    "\n",
    "Median: 80\n",
    "\n",
    "Check the hint for the answer and an interpretation of the results.\n",
    "\n",
    "4.\n",
    "Final Exam: Use the following information, and the distribution to the right to fill in the Final Exam blanks in summary.txt.\n",
    "\n",
    "Average: 80\n",
    "\n",
    "Median: 80\n",
    "\n",
    "Check the hint for the answer and an interpretation of the results.\n"
   ]
  },
  {
   "cell_type": "code",
   "execution_count": 5,
   "id": "c2c4de97",
   "metadata": {},
   "outputs": [
    {
     "name": "stdout",
     "output_type": "stream",
     "text": [
      "80.09073873115288\n",
      "79.75422527628585\n"
     ]
    },
    {
     "data": {
      "image/png": "[encoded data removed]",
      "text/plain": [
       "<Figure size 432x288 with 4 Axes>"
      ]
     },
     "metadata": {
      "needs_background": "light"
     },
     "output_type": "display_data"
    }
   ],
   "source": [
    "\n",
    "import pandas as pd \n",
    "import numpy as np\n",
    "from matplotlib import pyplot as plt\n",
    "\n",
    "\n",
    "np.random.seed(1)\n",
    "\n",
    "fig, axes = plt.subplots(nrows=4, ncols=1)\n",
    "\n",
    "plt.subplot(4,1,1)\n",
    "mu, sigma = 80,5\n",
    "exam_1 = np.random.normal(mu, sigma, 120)\n",
    "exam_1[50] = 55\n",
    "exam_1[51] = 55\n",
    "count, bins, ignored = plt.hist(exam_1, 25, range=[50, 100])\n",
    "plt.ylabel(\"Count\", fontsize=12)\n",
    "plt.title(\"Exam 1\", fontsize=14)\n",
    "\n",
    "\n",
    "\n",
    "\n",
    "plt.subplot(4,1,2)\n",
    "mu, sigma = 85,5\n",
    "exam_2_norm = np.random.normal(mu, sigma, 85)\n",
    "exam_2_u = np.random.uniform(60, 80, 35)\n",
    "exam_2 = np.concatenate((exam_2_norm, exam_2_u))\n",
    "\n",
    "count, bins, ignored = plt.hist(exam_2, 25, range=[50, 100])\n",
    "plt.ylabel(\"Count\", fontsize=12)\n",
    "plt.title(\"Exam 2\", fontsize=14)\n",
    "\n",
    "\n",
    "\n",
    "plt.subplot(4,1,3)\n",
    "mu, sigma = 85,5\n",
    "exam_2_norm = np.random.normal(mu, sigma, 70)\n",
    "exam_2_u = np.random.normal(65, 3.5, 50)\n",
    "exam_2 = np.concatenate((exam_2_norm, exam_2_u))\n",
    "\n",
    "count, bins, ignored = plt.hist(exam_2, 25, range=[50, 100])\n",
    "plt.ylabel(\"Count\", fontsize=12)\n",
    "plt.title(\"Exam 3\", fontsize=14)\n",
    "\n",
    "\n",
    "\n",
    "plt.subplot(4,1,4)\n",
    "mu, sigma = 80,6\n",
    "exam_2_norm = np.random.normal(mu, sigma, 120)\n",
    "exam_2 = np.concatenate((exam_2_norm, np.array([96,96])))\n",
    "print(np.average(exam_2))\n",
    "print(np.median(exam_2))\n",
    "\n",
    "\n",
    "count, bins, ignored = plt.hist(exam_2, 25, range=[50, 100])\n",
    "plt.xlabel(\"Score (%)\", fontsize=12)\n",
    "plt.ylabel(\"Count\", fontsize=12)\n",
    "plt.title(\"Final Exam\", fontsize=14)\n",
    "\n",
    "fig.tight_layout()\n",
    "\n",
    "plt.show()"
   ]
  },
  {
   "cell_type": "code",
   "execution_count": null,
   "id": "2ef68f56",
   "metadata": {},
   "outputs": [],
   "source": []
  }
 ],
 "metadata": {
  "kernelspec": {
   "display_name": "Python 3",
   "language": "python",
   "name": "python3"
  },
  "language_info": {
   "codemirror_mode": {
    "name": "ipython",
    "version": 3
   },
   "file_extension": ".py",
   "mimetype": "text/x-python",
   "name": "python",
   "nbconvert_exporter": "python",
   "pygments_lexer": "ipython3",
   "version": "3.7.4"
  }
 },
 "nbformat": 4,
 "nbformat_minor": 5
}
