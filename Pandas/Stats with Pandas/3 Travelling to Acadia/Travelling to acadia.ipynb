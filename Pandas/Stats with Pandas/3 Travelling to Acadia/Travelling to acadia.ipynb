{
 "cells": [
  {
   "cell_type": "markdown",
   "id": "16773863",
   "metadata": {},
   "source": [
    "# Traveling to Acadia\n",
    "Imagine you work at a travel agency and want to inform your customers of the best time to visit one of your favorite vacation locations, Acadia, Maine. In this project, you will use flower bloom data, and flight information to recommend the best time of year for someone to make a trip to Maine.\n",
    "\n",
    "In below code , i’ve imported the following data:\n",
    "\n",
    "in_bloom is a NumPy array containing 900 numbers. Each number is a day of the year, which represents the average start date of a flower blooming.\n",
    "flights is a NumPy array with 11,000 numbers. Each number is a day of the year, which represents a flight from your hometown to airports near Acadia, Maine.\n",
    "Your goal is to create two histograms, each displaying the frequency of an occurrence each day of the year (either flights or flower blooms).\n",
    "\n",
    "You will use the in_bloom variable to find a count of the number of flowers that start blooming each day of the year.\n",
    "\n",
    "You will use the flights variable to find a count of the number of flights that occur each day of the year.\n",
    "\n",
    "\n",
    "\n",
    "\n",
    "\n",
    "Making a Histogram\n",
    "1.\n",
    "Use Matplotlib to create a flights histogram.\t\n",
    "2.\n",
    "If you haven’t done so already, set the range of your histogram to (0, 365)\n",
    "\n",
    "3.\n",
    "Set the number of bins in your plot to 365, so you have a separate bin for each day of the year\n",
    "\n",
    "4.\n",
    "Add an x-label, y-label, and title to your figure.\n",
    "\n",
    "\n",
    "Multiple Plots\n",
    "5.\n",
    "Now, we’re going to set up our figure so it displays two plots at once. Above your plt.hist() line, add the following:\n",
    "\n",
    "plt.figure(1)\n",
    "plt.subplot(211)\n",
    "6.\n",
    "Between the last line for plotting your histogram and the show command, add plt.subplot(212).\n",
    "\n",
    "At this point, your code should look something like:\n",
    "\n",
    "plt.figure(1)\n",
    "plt.subplot(211)\n",
    "\n",
    "plt.hist(flights, range=(0, 365), bins=365)\n",
    "plt.title(\"Flights by Day\")\n",
    "plt.xlabel(\"Day of the Year\")\n",
    "plt.ylabel(\"Flight Count\")\n",
    "\n",
    "plt.subplot(212)\n",
    "\n",
    "# Next histogram below\n",
    "\n",
    "\n",
    "plt.show()\n",
    "Second Histogram\n",
    "7.\n",
    "Under plt.subplot(212), use plt.hist() to make a histogram that displays the number of flowers that begin to bloom each day of the year.\n",
    "\n",
    "8.\n",
    "Label the y-axis of the plot. In the hint, we’ve added our code.\n",
    "\n",
    "Right before calling plt.show() call plt.tight_layout(). This will prevent the labels from overlapping with the graphs.\n",
    "\n",
    "Thinking About the Data\n",
    "9.\n",
    "How would you use these histograms to help inform customers when they should go to Acadia, Maine. For example, if someone said they wanted to visit Acadia while there weren’t many people there, but while flowers were blooming, when would you recommend?\n",
    "\n",
    "Check the hint to see how we answered this question.\n"
   ]
  },
  {
   "cell_type": "code",
   "execution_count": 4,
   "id": "8253c8a4",
   "metadata": {},
   "outputs": [
    {
     "data": {
      "image/png": "[encoded data removed]",
      "text/plain": [
       "<Figure size 432x288 with 2 Axes>"
      ]
     },
     "metadata": {
      "needs_background": "light"
     },
     "output_type": "display_data"
    }
   ],
   "source": [
    "import numpy as np\n",
    "from matplotlib import pyplot as plt\n",
    "\n",
    "# load in data\n",
    "in_bloom = np.loadtxt(open(\"in-bloom.csv\"), delimiter=\",\")\n",
    "flights = np.loadtxt(open(\"flights.csv\"), delimiter=\",\")\n",
    "\n",
    "#plt hist()\n",
    "plt.figure(1)\n",
    "plt.subplot(211)\n",
    "plt.hist(flights, range = (0,365),bins = 365,edgecolor = 'black')\n",
    "plt.xlabel('days')\n",
    "plt.ylabel('flight rate')\n",
    "plt.title('Day by Day flight rate')\n",
    "\n",
    "plt.subplot(212)\n",
    "plt.hist(in_bloom,range = (0,365),bins = 365)\n",
    "plt.title(\"Flower Blooms and Flights by Day\")\n",
    "plt.ylabel(\"Bloom Count\")\n",
    "plt.xlabel(\"Day of the Year\")\n",
    "\n",
    "\n",
    "\n",
    "plt.show()"
   ]
  },
  {
   "cell_type": "code",
   "execution_count": null,
   "id": "4a5ea645",
   "metadata": {},
   "outputs": [],
   "source": []
  }
 ],
 "metadata": {
  "kernelspec": {
   "display_name": "Python 3",
   "language": "python",
   "name": "python3"
  },
  "language_info": {
   "codemirror_mode": {
    "name": "ipython",
    "version": 3
   },
   "file_extension": ".py",
   "mimetype": "text/x-python",
   "name": "python",
   "nbconvert_exporter": "python",
   "pygments_lexer": "ipython3",
   "version": "3.7.4"
  }
 },
 "nbformat": 4,
 "nbformat_minor": 5
}
