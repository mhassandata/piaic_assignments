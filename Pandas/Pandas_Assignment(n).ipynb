{
  "nbformat": 4,
  "nbformat_minor": 0,
  "metadata": {
    "colab": {
      "provenance": []
    },
    "kernelspec": {
      "name": "python3",
      "display_name": "Python 3"
    },
    "language_info": {
      "name": "python"
    }
  },
  "cells": [
    {
      "cell_type": "markdown",
      "source": [
        "Problem 1\n",
        "\n",
        "How to import pandas and check the version?"
      ],
      "metadata": {
        "id": "JVc3MQA3GNiX"
      }
    },
    {
      "cell_type": "code",
      "execution_count": null,
      "metadata": {
        "id": "TsCaeGctF_DV"
      },
      "outputs": [],
      "source": []
    },
    {
      "cell_type": "markdown",
      "source": [
        "Problem 2\n",
        "\n",
        "Create a pandas series from each of the items below: a list, numpy and a dictionary\n",
        "\n",
        "Input\n",
        "\n",
        "```\n",
        "import numpy as np\n",
        "mylist = list('abcedfghijklmnopqrstuvwxyz')\n",
        "myarr = np.arange(26)\n",
        "mydict = dict(zip(mylist, myarr))\n",
        "```"
      ],
      "metadata": {
        "id": "IWobUWkPGVrg"
      }
    },
    {
      "cell_type": "code",
      "source": [],
      "metadata": {
        "id": "RaWfwt6mGd02"
      },
      "execution_count": null,
      "outputs": []
    },
    {
      "cell_type": "markdown",
      "source": [
        "Problem 3\n",
        "\n",
        "Convert the series ser into a dataframe with its index as another column on the dataframe.\n",
        "\n",
        "Input\n",
        "\n",
        "```\n",
        "mylist = list('abcedfghijklmnopqrstuvwxyz')\n",
        "myarr = np.arange(26)\n",
        "mydict = dict(zip(mylist, myarr))\n",
        "ser = pd.Series(mydict)\n",
        "```"
      ],
      "metadata": {
        "id": "PoxUYAzCGxnn"
      }
    },
    {
      "cell_type": "code",
      "source": [],
      "metadata": {
        "id": "7MBTbiO6HFBQ"
      },
      "execution_count": null,
      "outputs": []
    },
    {
      "cell_type": "markdown",
      "source": [
        "Problem 4\n",
        "\n",
        "Combine ser1 and ser2 to form a dataframe.\n",
        "\n",
        "Input:\n",
        "\n",
        "```\n",
        "import numpy as np\n",
        "ser1 = pd.Series(list('abcedfghijklmnopqrstuvwxyz'))\n",
        "ser2 = pd.Series(np.arange(26))\n",
        "```"
      ],
      "metadata": {
        "id": "mgp9zTO_HFui"
      }
    },
    {
      "cell_type": "code",
      "source": [],
      "metadata": {
        "id": "DjMiWJYTHN78"
      },
      "execution_count": null,
      "outputs": []
    },
    {
      "cell_type": "markdown",
      "source": [
        "Problem 5\n",
        "\n",
        "Get all items of ser1 and ser2 not common to both.\n",
        "\n",
        "Input\n",
        "\n",
        "```\n",
        "ser1 = pd.Series([1, 2, 3, 4, 5])\n",
        "ser2 = pd.Series([4, 5, 6, 7, 8])\n",
        "```"
      ],
      "metadata": {
        "id": "OGf22CHDHZAy"
      }
    },
    {
      "cell_type": "code",
      "source": [],
      "metadata": {
        "id": "MvR84lDHHg8b"
      },
      "execution_count": null,
      "outputs": []
    },
    {
      "cell_type": "markdown",
      "source": [
        "Problem 6\n",
        "\n",
        "Compute the minimum, 25th percentile, median, 75th, and maximum of ser.\n",
        "\n",
        "Input\n",
        "\n",
        "```\n",
        "ser = pd.Series(np.random.normal(10, 5, 25))\n",
        "\n",
        "```"
      ],
      "metadata": {
        "id": "itVvQgIaHhl6"
      }
    },
    {
      "cell_type": "code",
      "source": [],
      "metadata": {
        "id": "h-pmzlx0HtYj"
      },
      "execution_count": null,
      "outputs": []
    },
    {
      "cell_type": "markdown",
      "source": [
        "Problem 7\n",
        "\n",
        "Calculte the frequency counts of each unique value ser.\n",
        "\n",
        "Input\n",
        "\n",
        "```\n",
        "ser = pd.Series(np.take(list('abcdefgh'), np.random.randint(8, size=30)))\n",
        "```"
      ],
      "metadata": {
        "id": "C_UfolFQHyF4"
      }
    },
    {
      "cell_type": "code",
      "source": [],
      "metadata": {
        "id": "5Y-zWyihH6nU"
      },
      "execution_count": null,
      "outputs": []
    },
    {
      "cell_type": "markdown",
      "source": [
        "Problem 8\n",
        "\n",
        "From ser, keep the top 2 most frequent items as it is and replace everything else as ‘Other’.\n",
        "\n",
        "Input\n",
        "\n",
        "```\n",
        "\n",
        "np.random.RandomState(100)\n",
        "ser = pd.Series(np.random.randint(1, 5, [12]))\n",
        "```"
      ],
      "metadata": {
        "id": "iQ2chjjtH_pe"
      }
    },
    {
      "cell_type": "code",
      "source": [],
      "metadata": {
        "id": "DgcUSiSDIDxK"
      },
      "execution_count": null,
      "outputs": []
    },
    {
      "cell_type": "markdown",
      "source": [
        "Problem 9\n",
        "\n",
        "Bin the series ser into 10 equal deciles and replace the values with the bin name.\n",
        "\n",
        "Input\n",
        "```\n",
        "ser = pd.Series(np.random.random(20))\n",
        "```\n",
        "Desired Output\n",
        "\n",
        "```\n",
        "# First 5 items\n",
        "0    7th\n",
        "1    9th\n",
        "2    7th\n",
        "3    3rd\n",
        "4    8th\n",
        "dtype: category\n",
        "Categories (10, object): [1st < 2nd < 3rd < 4th ... 7th < 8th < 9th < 10th]\n",
        "```"
      ],
      "metadata": {
        "id": "oNgI4HanIMX0"
      }
    },
    {
      "cell_type": "code",
      "source": [],
      "metadata": {
        "id": "N-omd50TITJH"
      },
      "execution_count": null,
      "outputs": []
    },
    {
      "cell_type": "markdown",
      "source": [
        "Problem 10\n",
        "\n",
        "Reshape the series ser into a dataframe with 7 rows and 5 columns\n",
        "\n",
        "Input\n",
        "\n",
        "```\n",
        "ser = pd.Series(np.random.randint(1, 10, 35))\n",
        "```"
      ],
      "metadata": {
        "id": "dmbKsLjMIXGe"
      }
    },
    {
      "cell_type": "code",
      "source": [],
      "metadata": {
        "id": "oL1_q6NxIa96"
      },
      "execution_count": null,
      "outputs": []
    },
    {
      "cell_type": "markdown",
      "source": [
        "Problem 11 \n",
        "\n",
        "Find the positions of numbers that are multiples of 3 from ser.\n",
        "\n",
        "Input\n",
        "\n",
        "```\n",
        "ser = pd.Series(np.random.randint(1, 10, 7))\n",
        "```"
      ],
      "metadata": {
        "id": "r25bXiieIhMN"
      }
    },
    {
      "cell_type": "code",
      "source": [],
      "metadata": {
        "id": "Sa4OR2HNIkrw"
      },
      "execution_count": null,
      "outputs": []
    },
    {
      "cell_type": "markdown",
      "source": [
        "Problem 12\n",
        "\n",
        "Stack ser1 and ser2 vertically and horizontally (to form a dataframe).\n",
        "\n",
        "Input\n",
        "\n",
        "```\n",
        "ser1 = pd.Series(range(5))\n",
        "ser2 = pd.Series(list('abcde'))\n",
        "```"
      ],
      "metadata": {
        "id": "rL8B1cy2Ila9"
      }
    },
    {
      "cell_type": "code",
      "source": [],
      "metadata": {
        "id": "HELmwXrsLDwt"
      },
      "execution_count": null,
      "outputs": []
    },
    {
      "cell_type": "markdown",
      "source": [
        "Problem 13\n",
        "\n",
        "Stack ser1 and ser2 vertically and horizontally (to form a dataframe).\n",
        "\n",
        "Input\n",
        "```\n",
        "ser1 = pd.Series(range(5))\n",
        "ser2 = pd.Series(list('abcde'))\n",
        "```"
      ],
      "metadata": {
        "id": "0mSb7fBROfYw"
      }
    },
    {
      "cell_type": "code",
      "source": [],
      "metadata": {
        "id": "e1AgGPCxOi1c"
      },
      "execution_count": null,
      "outputs": []
    },
    {
      "cell_type": "markdown",
      "source": [
        "Problem 14\n",
        "\n",
        "\n",
        "Get the day of month, week number, day of year and day of week from ser.\n",
        "\n",
        "Input\n",
        "```\n",
        "ser = pd.Series(['01 Jan 2010', '02-02-2011', '20120303', '2013/04/04', '2014-05-05', '2015-06-06T12:20'])\n",
        "```\n",
        "Desired output\n",
        "```\n",
        "Date:  [1, 2, 3, 4, 5, 6]\n",
        "Week number:  [53, 5, 9, 14, 19, 23]\n",
        "Day num of year:  [1, 33, 63, 94, 125, 157]\n",
        "Day of week:  ['Friday', 'Wednesday', 'Saturday', 'Thursday', 'Monday', 'Saturday']\n",
        "```"
      ],
      "metadata": {
        "id": "CUpLrTnHPWlJ"
      }
    },
    {
      "cell_type": "code",
      "source": [],
      "metadata": {
        "id": "hMbDsbcWPbYg"
      },
      "execution_count": null,
      "outputs": []
    },
    {
      "cell_type": "markdown",
      "source": [
        "Problem 15\n",
        "\n",
        "From ser, extract words that contain atleast 2 vowels.\n",
        "\n",
        "Input\n",
        "```\n",
        "ser = pd.Series(['Apple', 'Orange', 'Plan', 'Python', 'Money'])\n",
        "```\n",
        "\n",
        "Desired Output\n",
        "```\n",
        "0     Apple\n",
        "1    Orange\n",
        "4     Money\n",
        "dtype: object\n",
        "```"
      ],
      "metadata": {
        "id": "XQnptv29Pi85"
      }
    },
    {
      "cell_type": "code",
      "source": [],
      "metadata": {
        "id": "Row625dURklN"
      },
      "execution_count": null,
      "outputs": []
    },
    {
      "cell_type": "markdown",
      "source": [
        "Problem 16\n",
        "\n",
        "\n",
        "Check if df has any missing values.\n",
        "\n",
        "Input\n",
        "\n",
        "```\n",
        "df = pd.read_csv('https://raw.githubusercontent.com/selva86/datasets/master/Cars93_miss.csv')\n",
        "```"
      ],
      "metadata": {
        "id": "TF4K04NjUzgB"
      }
    },
    {
      "cell_type": "code",
      "source": [],
      "metadata": {
        "id": "ly7WDYqwVFb-"
      },
      "execution_count": null,
      "outputs": []
    },
    {
      "cell_type": "markdown",
      "source": [
        "Problem 17\n",
        "\n",
        "Count the number of missing values in each column of df. Which column has the maximum number of missing values?\n",
        "\n",
        "Input\n",
        "```\n",
        "df = pd.read_csv('https://raw.githubusercontent.com/selva86/datasets/master/Cars93_miss.csv')\n",
        "```"
      ],
      "metadata": {
        "id": "-n_dA4hOVMN7"
      }
    },
    {
      "cell_type": "code",
      "source": [],
      "metadata": {
        "id": "p-VI35v_VOwU"
      },
      "execution_count": null,
      "outputs": []
    },
    {
      "cell_type": "markdown",
      "source": [
        "Problem 18\n",
        "\n",
        "Replace missing values in Min.Price and Max.Price columns with their respective mean.\n",
        "\n",
        "Input\n",
        "\n",
        "```\n",
        "df = pd.read_csv('https://raw.githubusercontent.com/selva86/datasets/master/Cars93_miss.csv')\n",
        "```"
      ],
      "metadata": {
        "id": "dJxb3GJEVVyX"
      }
    },
    {
      "cell_type": "code",
      "source": [],
      "metadata": {
        "id": "-tkl2yDeVar3"
      },
      "execution_count": null,
      "outputs": []
    },
    {
      "cell_type": "markdown",
      "source": [
        "Problem 19\n",
        "\n",
        "In df, use apply method to replace the missing values in Min.Price with the column’s mean and those in Max.Price with the column’s median.\n",
        "\n",
        "Input\n",
        "\n",
        "```\n",
        "df = pd.read_csv('https://raw.githubusercontent.com/selva86/datasets/master/Cars93_miss.csv')\n",
        "\n",
        "```"
      ],
      "metadata": {
        "id": "rRiisy9Z1nWI"
      }
    },
    {
      "cell_type": "code",
      "source": [],
      "metadata": {
        "id": "8DhwD67Y2ECu"
      },
      "execution_count": null,
      "outputs": []
    },
    {
      "cell_type": "markdown",
      "source": [
        "Problem 20\n",
        "\n",
        "Get the first column (a) in df as a dataframe (rather than as a Series).\n",
        "\n",
        "Input\n",
        "\n",
        "```\n",
        "df = pd.DataFrame(np.arange(20).reshape(-1, 5), columns=list('abcde'))\n",
        "```"
      ],
      "metadata": {
        "id": "tSatW9hL2Mqw"
      }
    },
    {
      "cell_type": "code",
      "source": [],
      "metadata": {
        "id": "ZUdJDy_92XsA"
      },
      "execution_count": null,
      "outputs": []
    },
    {
      "cell_type": "markdown",
      "source": [
        "Problem 21\n",
        "\n",
        "1 - In df, interchange columns 'a' and 'c'.\n",
        "\n",
        "2 - Create a generic function to interchange two columns, without hardcoding column names.\n",
        "\n",
        "3 - Sort the columns in reverse alphabetical order, that is colume 'e' first through column 'a' last.\n",
        "\n",
        "Input\n",
        "\n",
        "```\n",
        "\n",
        "df = pd.DataFrame(np.arange(20).reshape(-1, 5), columns=list('abcde'))\n",
        "```"
      ],
      "metadata": {
        "id": "UeFli2122eto"
      }
    },
    {
      "cell_type": "code",
      "source": [],
      "metadata": {
        "id": "Yv3hajlx2pA_"
      },
      "execution_count": null,
      "outputs": []
    },
    {
      "cell_type": "markdown",
      "source": [
        "Problem 22\n",
        "\n",
        "From df, filter the 'Manufacturer', 'Model' and 'Type' for every 20th row starting from 1st (row 0).\n",
        "\n",
        "Input\n",
        "\n",
        "```\n",
        "df = pd.read_csv('https://raw.githubusercontent.com/selva86/datasets/master/Cars93_miss.csv')\n",
        "```"
      ],
      "metadata": {
        "id": "dwt6lJbE6Gmq"
      }
    },
    {
      "cell_type": "code",
      "source": [],
      "metadata": {
        "id": "KAGjjRlF6LgU"
      },
      "execution_count": null,
      "outputs": []
    },
    {
      "cell_type": "markdown",
      "source": [
        "Problem 23 \n",
        "\n",
        "Find the row position of the 5th largest value of column 'a' in df.\n",
        "\n",
        "Input\n",
        "\n",
        "```\n",
        "df = pd.DataFrame(np.random.randint(1, 30, 30).reshape(10,-1), columns=list('abc'))\n",
        "```"
      ],
      "metadata": {
        "id": "rAUiNmQO6MKX"
      }
    },
    {
      "cell_type": "code",
      "source": [],
      "metadata": {
        "id": "54nyS3vg9gkv"
      },
      "execution_count": null,
      "outputs": []
    },
    {
      "cell_type": "markdown",
      "source": [
        "Problem 24 \n",
        "\n",
        "In ser, find the position of the 2nd largest value greater than the mean.\n",
        "\n",
        "Input\n",
        "```\n",
        "ser = pd.Series(np.random.randint(1, 100, 15))\n",
        "```"
      ],
      "metadata": {
        "id": "vlDs2IP19uLw"
      }
    },
    {
      "cell_type": "code",
      "source": [],
      "metadata": {
        "id": "WHhwrcE79xqA"
      },
      "execution_count": null,
      "outputs": []
    },
    {
      "cell_type": "markdown",
      "source": [
        "Problem 25\n",
        "\n",
        "\n",
        "Get one-hot encodings for column 'a' in the dataframe df and append it as columns.\n",
        "\n",
        "Input\n",
        "\n",
        "```\n",
        "df = pd.DataFrame(np.arange(25).reshape(5,-1), columns=list('abcde'))\n",
        "    a   b   c   d   e\n",
        "0   0   1   2   3   4\n",
        "1   5   6   7   8   9\n",
        "2  10  11  12  13  14\n",
        "3  15  16  17  18  19\n",
        "4  20  21  22  23  24\n",
        "```\n",
        "Output\n",
        "\n",
        "```\n",
        "   0  5  10  15  20   b   c   d   e\n",
        "0  1  0   0   0   0   1   2   3   4\n",
        "1  0  1   0   0   0   6   7   8   9\n",
        "2  0  0   1   0   0  11  12  13  14\n",
        "3  0  0   0   1   0  16  17  18  19\n",
        "4  0  0   0   0   1  21  22  23  24\n",
        "```"
      ],
      "metadata": {
        "id": "pInnY5DR97_s"
      }
    },
    {
      "cell_type": "code",
      "source": [],
      "metadata": {
        "id": "Q-i2N-4n-Qj3"
      },
      "execution_count": null,
      "outputs": []
    }
  ]
}