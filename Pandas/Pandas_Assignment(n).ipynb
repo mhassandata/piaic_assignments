{
 "cells": [
  {
   "cell_type": "markdown",
   "metadata": {},
   "source": [
    "##### Assignment: Pandas\n",
    "##### Teacher: Sir Nasir Hussain\n",
    "##### Submitted by: Muhamamd Hassan"
   ]
  },
  {
   "cell_type": "markdown",
   "metadata": {
    "id": "JVc3MQA3GNiX"
   },
   "source": [
    "Problem 1\n",
    "\n",
    "How to import pandas and check the version?"
   ]
  },
  {
   "cell_type": "code",
   "execution_count": 1,
   "metadata": {
    "id": "TsCaeGctF_DV"
   },
   "outputs": [
    {
     "data": {
      "text/plain": [
       "'1.4.4'"
      ]
     },
     "execution_count": 1,
     "metadata": {},
     "output_type": "execute_result"
    }
   ],
   "source": [
    "import numpy as np\n",
    "import pandas as pd\n",
    "pd.__version__"
   ]
  },
  {
   "cell_type": "markdown",
   "metadata": {
    "id": "IWobUWkPGVrg"
   },
   "source": [
    "Problem 2\n",
    "\n",
    "Create a pandas series from each of the items below: a list, numpy and a dictionary\n",
    "\n",
    "Input\n",
    "\n",
    "```\n",
    "import numpy as np\n",
    "mylist = list('abcedfghijklmnopqrstuvwxyz')\n",
    "myarr = np.arange(26)\n",
    "mydict = dict(zip(mylist, myarr))\n",
    "```"
   ]
  },
  {
   "cell_type": "code",
   "execution_count": 2,
   "metadata": {
    "id": "RaWfwt6mGd02"
   },
   "outputs": [],
   "source": [
    "import numpy as np\n",
    "mylist = list('abcedfghijklmnopqrstuvwxyz')\n",
    "myarr = np.arange(26)\n",
    "mydict = dict(zip(mylist, myarr))"
   ]
  },
  {
   "cell_type": "code",
   "execution_count": 3,
   "metadata": {},
   "outputs": [
    {
     "data": {
      "text/plain": [
       "0     a\n",
       "1     b\n",
       "2     c\n",
       "3     e\n",
       "4     d\n",
       "5     f\n",
       "6     g\n",
       "7     h\n",
       "8     i\n",
       "9     j\n",
       "10    k\n",
       "11    l\n",
       "12    m\n",
       "13    n\n",
       "14    o\n",
       "15    p\n",
       "16    q\n",
       "17    r\n",
       "18    s\n",
       "19    t\n",
       "20    u\n",
       "21    v\n",
       "22    w\n",
       "23    x\n",
       "24    y\n",
       "25    z\n",
       "dtype: object"
      ]
     },
     "execution_count": 3,
     "metadata": {},
     "output_type": "execute_result"
    }
   ],
   "source": [
    "mylist_series = pd.Series(mylist)\n",
    "mylist_series"
   ]
  },
  {
   "cell_type": "code",
   "execution_count": 4,
   "metadata": {},
   "outputs": [
    {
     "data": {
      "text/plain": [
       "0      0\n",
       "1      1\n",
       "2      2\n",
       "3      3\n",
       "4      4\n",
       "5      5\n",
       "6      6\n",
       "7      7\n",
       "8      8\n",
       "9      9\n",
       "10    10\n",
       "11    11\n",
       "12    12\n",
       "13    13\n",
       "14    14\n",
       "15    15\n",
       "16    16\n",
       "17    17\n",
       "18    18\n",
       "19    19\n",
       "20    20\n",
       "21    21\n",
       "22    22\n",
       "23    23\n",
       "24    24\n",
       "25    25\n",
       "dtype: int32"
      ]
     },
     "execution_count": 4,
     "metadata": {},
     "output_type": "execute_result"
    }
   ],
   "source": [
    "myarr_series = pd.Series(myarr)\n",
    "myarr_series"
   ]
  },
  {
   "cell_type": "code",
   "execution_count": 5,
   "metadata": {},
   "outputs": [
    {
     "data": {
      "text/plain": [
       "a     0\n",
       "b     1\n",
       "c     2\n",
       "e     3\n",
       "d     4\n",
       "f     5\n",
       "g     6\n",
       "h     7\n",
       "i     8\n",
       "j     9\n",
       "k    10\n",
       "l    11\n",
       "m    12\n",
       "n    13\n",
       "o    14\n",
       "p    15\n",
       "q    16\n",
       "r    17\n",
       "s    18\n",
       "t    19\n",
       "u    20\n",
       "v    21\n",
       "w    22\n",
       "x    23\n",
       "y    24\n",
       "z    25\n",
       "dtype: int32"
      ]
     },
     "execution_count": 5,
     "metadata": {},
     "output_type": "execute_result"
    }
   ],
   "source": [
    "mydic_series = pd.Series(mydict)\n",
    "mydic_series"
   ]
  },
  {
   "cell_type": "markdown",
   "metadata": {
    "id": "PoxUYAzCGxnn"
   },
   "source": [
    "Problem 3\n",
    "\n",
    "Convert the series ser into a dataframe with its index as another column on the dataframe.\n",
    "\n",
    "Input\n",
    "\n",
    "```\n",
    "mylist = list('abcedfghijklmnopqrstuvwxyz')\n",
    "myarr = np.arange(26)\n",
    "mydict = dict(zip(mylist, myarr))\n",
    "ser = pd.Series(mydict)\n",
    "```"
   ]
  },
  {
   "cell_type": "code",
   "execution_count": 6,
   "metadata": {
    "id": "7MBTbiO6HFBQ"
   },
   "outputs": [
    {
     "data": {
      "text/html": [
       "<div>\n",
       "<style scoped>\n",
       "    .dataframe tbody tr th:only-of-type {\n",
       "        vertical-align: middle;\n",
       "    }\n",
       "\n",
       "    .dataframe tbody tr th {\n",
       "        vertical-align: top;\n",
       "    }\n",
       "\n",
       "    .dataframe thead th {\n",
       "        text-align: right;\n",
       "    }\n",
       "</style>\n",
       "<table border=\"1\" class=\"dataframe\">\n",
       "  <thead>\n",
       "    <tr style=\"text-align: right;\">\n",
       "      <th></th>\n",
       "      <th>0</th>\n",
       "    </tr>\n",
       "  </thead>\n",
       "  <tbody>\n",
       "    <tr>\n",
       "      <th>a</th>\n",
       "      <td>0</td>\n",
       "    </tr>\n",
       "    <tr>\n",
       "      <th>b</th>\n",
       "      <td>1</td>\n",
       "    </tr>\n",
       "    <tr>\n",
       "      <th>c</th>\n",
       "      <td>2</td>\n",
       "    </tr>\n",
       "    <tr>\n",
       "      <th>e</th>\n",
       "      <td>3</td>\n",
       "    </tr>\n",
       "    <tr>\n",
       "      <th>d</th>\n",
       "      <td>4</td>\n",
       "    </tr>\n",
       "    <tr>\n",
       "      <th>f</th>\n",
       "      <td>5</td>\n",
       "    </tr>\n",
       "    <tr>\n",
       "      <th>g</th>\n",
       "      <td>6</td>\n",
       "    </tr>\n",
       "    <tr>\n",
       "      <th>h</th>\n",
       "      <td>7</td>\n",
       "    </tr>\n",
       "    <tr>\n",
       "      <th>i</th>\n",
       "      <td>8</td>\n",
       "    </tr>\n",
       "    <tr>\n",
       "      <th>j</th>\n",
       "      <td>9</td>\n",
       "    </tr>\n",
       "    <tr>\n",
       "      <th>k</th>\n",
       "      <td>10</td>\n",
       "    </tr>\n",
       "    <tr>\n",
       "      <th>l</th>\n",
       "      <td>11</td>\n",
       "    </tr>\n",
       "    <tr>\n",
       "      <th>m</th>\n",
       "      <td>12</td>\n",
       "    </tr>\n",
       "    <tr>\n",
       "      <th>n</th>\n",
       "      <td>13</td>\n",
       "    </tr>\n",
       "    <tr>\n",
       "      <th>o</th>\n",
       "      <td>14</td>\n",
       "    </tr>\n",
       "    <tr>\n",
       "      <th>p</th>\n",
       "      <td>15</td>\n",
       "    </tr>\n",
       "    <tr>\n",
       "      <th>q</th>\n",
       "      <td>16</td>\n",
       "    </tr>\n",
       "    <tr>\n",
       "      <th>r</th>\n",
       "      <td>17</td>\n",
       "    </tr>\n",
       "    <tr>\n",
       "      <th>s</th>\n",
       "      <td>18</td>\n",
       "    </tr>\n",
       "    <tr>\n",
       "      <th>t</th>\n",
       "      <td>19</td>\n",
       "    </tr>\n",
       "    <tr>\n",
       "      <th>u</th>\n",
       "      <td>20</td>\n",
       "    </tr>\n",
       "    <tr>\n",
       "      <th>v</th>\n",
       "      <td>21</td>\n",
       "    </tr>\n",
       "    <tr>\n",
       "      <th>w</th>\n",
       "      <td>22</td>\n",
       "    </tr>\n",
       "    <tr>\n",
       "      <th>x</th>\n",
       "      <td>23</td>\n",
       "    </tr>\n",
       "    <tr>\n",
       "      <th>y</th>\n",
       "      <td>24</td>\n",
       "    </tr>\n",
       "    <tr>\n",
       "      <th>z</th>\n",
       "      <td>25</td>\n",
       "    </tr>\n",
       "  </tbody>\n",
       "</table>\n",
       "</div>"
      ],
      "text/plain": [
       "    0\n",
       "a   0\n",
       "b   1\n",
       "c   2\n",
       "e   3\n",
       "d   4\n",
       "f   5\n",
       "g   6\n",
       "h   7\n",
       "i   8\n",
       "j   9\n",
       "k  10\n",
       "l  11\n",
       "m  12\n",
       "n  13\n",
       "o  14\n",
       "p  15\n",
       "q  16\n",
       "r  17\n",
       "s  18\n",
       "t  19\n",
       "u  20\n",
       "v  21\n",
       "w  22\n",
       "x  23\n",
       "y  24\n",
       "z  25"
      ]
     },
     "execution_count": 6,
     "metadata": {},
     "output_type": "execute_result"
    }
   ],
   "source": [
    "mylist = list('abcedfghijklmnopqrstuvwxyz')\n",
    "myarr = np.arange(26)\n",
    "mydict = dict(zip(mylist, myarr))\n",
    "ser = pd.Series(mydict)\n",
    "df = pd.DataFrame(ser)\n",
    "df"
   ]
  },
  {
   "cell_type": "markdown",
   "metadata": {
    "id": "mgp9zTO_HFui"
   },
   "source": [
    "Problem 4\n",
    "\n",
    "Combine ser1 and ser2 to form a dataframe.\n",
    "\n",
    "Input:\n",
    "\n",
    "```\n",
    "import numpy as np\n",
    "ser1 = pd.Series(list('abcedfghijklmnopqrstuvwxyz'))\n",
    "ser2 = pd.Series(np.arange(26))\n",
    "```"
   ]
  },
  {
   "cell_type": "code",
   "execution_count": 7,
   "metadata": {
    "id": "DjMiWJYTHN78"
   },
   "outputs": [
    {
     "data": {
      "text/html": [
       "<div>\n",
       "<style scoped>\n",
       "    .dataframe tbody tr th:only-of-type {\n",
       "        vertical-align: middle;\n",
       "    }\n",
       "\n",
       "    .dataframe tbody tr th {\n",
       "        vertical-align: top;\n",
       "    }\n",
       "\n",
       "    .dataframe thead th {\n",
       "        text-align: right;\n",
       "    }\n",
       "</style>\n",
       "<table border=\"1\" class=\"dataframe\">\n",
       "  <thead>\n",
       "    <tr style=\"text-align: right;\">\n",
       "      <th></th>\n",
       "      <th>0</th>\n",
       "    </tr>\n",
       "  </thead>\n",
       "  <tbody>\n",
       "    <tr>\n",
       "      <th>0</th>\n",
       "      <td>a</td>\n",
       "    </tr>\n",
       "    <tr>\n",
       "      <th>1</th>\n",
       "      <td>b</td>\n",
       "    </tr>\n",
       "    <tr>\n",
       "      <th>2</th>\n",
       "      <td>c</td>\n",
       "    </tr>\n",
       "    <tr>\n",
       "      <th>3</th>\n",
       "      <td>e</td>\n",
       "    </tr>\n",
       "    <tr>\n",
       "      <th>4</th>\n",
       "      <td>d</td>\n",
       "    </tr>\n",
       "    <tr>\n",
       "      <th>5</th>\n",
       "      <td>f</td>\n",
       "    </tr>\n",
       "    <tr>\n",
       "      <th>6</th>\n",
       "      <td>g</td>\n",
       "    </tr>\n",
       "    <tr>\n",
       "      <th>7</th>\n",
       "      <td>h</td>\n",
       "    </tr>\n",
       "    <tr>\n",
       "      <th>8</th>\n",
       "      <td>i</td>\n",
       "    </tr>\n",
       "    <tr>\n",
       "      <th>9</th>\n",
       "      <td>j</td>\n",
       "    </tr>\n",
       "    <tr>\n",
       "      <th>10</th>\n",
       "      <td>k</td>\n",
       "    </tr>\n",
       "    <tr>\n",
       "      <th>11</th>\n",
       "      <td>l</td>\n",
       "    </tr>\n",
       "    <tr>\n",
       "      <th>12</th>\n",
       "      <td>m</td>\n",
       "    </tr>\n",
       "    <tr>\n",
       "      <th>13</th>\n",
       "      <td>n</td>\n",
       "    </tr>\n",
       "    <tr>\n",
       "      <th>14</th>\n",
       "      <td>o</td>\n",
       "    </tr>\n",
       "    <tr>\n",
       "      <th>15</th>\n",
       "      <td>p</td>\n",
       "    </tr>\n",
       "    <tr>\n",
       "      <th>16</th>\n",
       "      <td>q</td>\n",
       "    </tr>\n",
       "    <tr>\n",
       "      <th>17</th>\n",
       "      <td>r</td>\n",
       "    </tr>\n",
       "    <tr>\n",
       "      <th>18</th>\n",
       "      <td>s</td>\n",
       "    </tr>\n",
       "    <tr>\n",
       "      <th>19</th>\n",
       "      <td>t</td>\n",
       "    </tr>\n",
       "    <tr>\n",
       "      <th>20</th>\n",
       "      <td>u</td>\n",
       "    </tr>\n",
       "    <tr>\n",
       "      <th>21</th>\n",
       "      <td>v</td>\n",
       "    </tr>\n",
       "    <tr>\n",
       "      <th>22</th>\n",
       "      <td>w</td>\n",
       "    </tr>\n",
       "    <tr>\n",
       "      <th>23</th>\n",
       "      <td>x</td>\n",
       "    </tr>\n",
       "    <tr>\n",
       "      <th>24</th>\n",
       "      <td>y</td>\n",
       "    </tr>\n",
       "    <tr>\n",
       "      <th>25</th>\n",
       "      <td>z</td>\n",
       "    </tr>\n",
       "  </tbody>\n",
       "</table>\n",
       "</div>"
      ],
      "text/plain": [
       "    0\n",
       "0   a\n",
       "1   b\n",
       "2   c\n",
       "3   e\n",
       "4   d\n",
       "5   f\n",
       "6   g\n",
       "7   h\n",
       "8   i\n",
       "9   j\n",
       "10  k\n",
       "11  l\n",
       "12  m\n",
       "13  n\n",
       "14  o\n",
       "15  p\n",
       "16  q\n",
       "17  r\n",
       "18  s\n",
       "19  t\n",
       "20  u\n",
       "21  v\n",
       "22  w\n",
       "23  x\n",
       "24  y\n",
       "25  z"
      ]
     },
     "execution_count": 7,
     "metadata": {},
     "output_type": "execute_result"
    }
   ],
   "source": [
    "ser1 = pd.Series(list('abcedfghijklmnopqrstuvwxyz'))\n",
    "ser2 = pd.Series(np.arange(26))\n",
    "\n",
    "df = pd.DataFrame(ser1,ser2)\n",
    "df"
   ]
  },
  {
   "cell_type": "markdown",
   "metadata": {
    "id": "OGf22CHDHZAy"
   },
   "source": [
    "Problem 5\n",
    "\n",
    "Get all items of ser1 and ser2 not common to both.\n",
    "\n",
    "Input\n",
    "\n",
    "```\n",
    "ser1 = pd.Series([1, 2, 3, 4, 5])\n",
    "ser2 = pd.Series([4, 5, 6, 7, 8])\n",
    "```"
   ]
  },
  {
   "cell_type": "code",
   "execution_count": 8,
   "metadata": {
    "id": "MvR84lDHHg8b"
   },
   "outputs": [
    {
     "name": "stdout",
     "output_type": "stream",
     "text": [
      "0    1\n",
      "1    2\n",
      "2    3\n",
      "3    6\n",
      "4    7\n",
      "5    8\n",
      "dtype: int64\n"
     ]
    }
   ],
   "source": [
    "ser1 = pd.Series([1, 2, 3, 4, 5])\n",
    "ser2 = pd.Series([4, 5, 6, 7, 8])\n",
    "\n",
    "set1 = set(ser1)\n",
    "set2 = set(ser2)\n",
    "\n",
    "result = pd.Series(list(set1.symmetric_difference(set2)))\n",
    "\n",
    "print(result)"
   ]
  },
  {
   "cell_type": "markdown",
   "metadata": {
    "id": "itVvQgIaHhl6"
   },
   "source": [
    "Problem 6\n",
    "\n",
    "Compute the minimum, 25th percentile, median, 75th, and maximum of ser.\n",
    "\n",
    "Input\n",
    "\n",
    "```\n",
    "ser = pd.Series(np.random.normal(10, 5, 25))\n",
    "\n",
    "```"
   ]
  },
  {
   "cell_type": "code",
   "execution_count": 9,
   "metadata": {
    "id": "h-pmzlx0HtYj"
   },
   "outputs": [
    {
     "data": {
      "text/plain": [
       "count    25.000000\n",
       "mean      8.596560\n",
       "std       5.041582\n",
       "min       0.583049\n",
       "25%       5.070811\n",
       "50%       8.400210\n",
       "75%      12.442044\n",
       "max      20.592932\n",
       "dtype: float64"
      ]
     },
     "execution_count": 9,
     "metadata": {},
     "output_type": "execute_result"
    }
   ],
   "source": [
    "ser = pd.Series(np.random.normal(10, 5, 25))\n",
    "ser.describe()"
   ]
  },
  {
   "cell_type": "markdown",
   "metadata": {
    "id": "C_UfolFQHyF4"
   },
   "source": [
    "Problem 7\n",
    "\n",
    "Calculte the frequency counts of each unique value ser.\n",
    "\n",
    "Input\n",
    "\n",
    "```\n",
    "ser = pd.Series(np.take(list('abcdefgh'), np.random.randint(8, size=30)))\n",
    "```"
   ]
  },
  {
   "cell_type": "code",
   "execution_count": 10,
   "metadata": {
    "id": "5Y-zWyihH6nU"
   },
   "outputs": [
    {
     "data": {
      "text/plain": [
       "e    7\n",
       "d    5\n",
       "a    4\n",
       "c    4\n",
       "f    4\n",
       "h    3\n",
       "b    2\n",
       "g    1\n",
       "dtype: int64"
      ]
     },
     "execution_count": 10,
     "metadata": {},
     "output_type": "execute_result"
    }
   ],
   "source": [
    "ser = pd.Series(np.take(list('abcdefgh'), np.random.randint(8, size=30)))\n",
    "ser.value_counts()"
   ]
  },
  {
   "cell_type": "markdown",
   "metadata": {
    "id": "iQ2chjjtH_pe"
   },
   "source": [
    "Problem 8\n",
    "\n",
    "From ser, keep the top 2 most frequent items as it is and replace everything else as ‘Other’.\n",
    "\n",
    "Input\n",
    "\n",
    "```\n",
    "\n",
    "np.random.RandomState(100)\n",
    "ser = pd.Series(np.random.randint(1, 5, [12]))\n",
    "```"
   ]
  },
  {
   "cell_type": "code",
   "execution_count": 11,
   "metadata": {
    "id": "DgcUSiSDIDxK"
   },
   "outputs": [
    {
     "data": {
      "text/plain": [
       "4    4\n",
       "2    3\n",
       "dtype: int64"
      ]
     },
     "execution_count": 11,
     "metadata": {},
     "output_type": "execute_result"
    }
   ],
   "source": [
    "np.random.RandomState(100)\n",
    "ser = pd.Series(np.random.randint(1, 5, [12]))\n",
    "ser.value_counts()[:2]"
   ]
  },
  {
   "cell_type": "markdown",
   "metadata": {
    "id": "oNgI4HanIMX0"
   },
   "source": [
    "Problem 9\n",
    "\n",
    "Bin the series ser into 10 equal deciles and replace the values with the bin name.\n",
    "\n",
    "Input\n",
    "```\n",
    "ser = pd.Series(np.random.random(20))\n",
    "```\n",
    "Desired Output\n",
    "\n",
    "```\n",
    "# First 5 items\n",
    "0    7th\n",
    "1    9th\n",
    "2    7th\n",
    "3    3rd\n",
    "4    8th\n",
    "dtype: category\n",
    "Categories (10, object): [1st < 2nd < 3rd < 4th ... 7th < 8th < 9th < 10th]\n",
    "```"
   ]
  },
  {
   "cell_type": "code",
   "execution_count": 12,
   "metadata": {
    "id": "N-omd50TITJH"
   },
   "outputs": [
    {
     "name": "stdout",
     "output_type": "stream",
     "text": [
      "0    7th\n",
      "1    4th\n",
      "2    2th\n",
      "3    6th\n",
      "4    9th\n",
      "dtype: category\n",
      "Categories (10, object): ['1th' < '2th' < '3th' < '4th' ... '7th' < '8th' < '9th' < '10th']\n"
     ]
    }
   ],
   "source": [
    "import numpy as np\n",
    "\n",
    "ser = pd.Series(np.random.random(20))\n",
    "\n",
    "# Bin the series into deciles and replace values with bin names\n",
    "bins = pd.qcut(ser, q=10, labels=[f\"{i}th\" for i in range(1, 11)])\n",
    "bins = bins.astype(\"category\")\n",
    "\n",
    "# Print the first 5 items of the output series\n",
    "print(bins.head())\n"
   ]
  },
  {
   "cell_type": "markdown",
   "metadata": {
    "id": "dmbKsLjMIXGe"
   },
   "source": [
    "Problem 10\n",
    "\n",
    "Reshape the series ser into a dataframe with 7 rows and 5 columns\n",
    "\n",
    "Input\n",
    "\n",
    "```\n",
    "ser = pd.Series(np.random.randint(1, 10, 35))\n",
    "```"
   ]
  },
  {
   "cell_type": "code",
   "execution_count": 13,
   "metadata": {
    "id": "oL1_q6NxIa96"
   },
   "outputs": [
    {
     "data": {
      "text/html": [
       "<div>\n",
       "<style scoped>\n",
       "    .dataframe tbody tr th:only-of-type {\n",
       "        vertical-align: middle;\n",
       "    }\n",
       "\n",
       "    .dataframe tbody tr th {\n",
       "        vertical-align: top;\n",
       "    }\n",
       "\n",
       "    .dataframe thead th {\n",
       "        text-align: right;\n",
       "    }\n",
       "</style>\n",
       "<table border=\"1\" class=\"dataframe\">\n",
       "  <thead>\n",
       "    <tr style=\"text-align: right;\">\n",
       "      <th></th>\n",
       "      <th>0</th>\n",
       "      <th>1</th>\n",
       "      <th>2</th>\n",
       "      <th>3</th>\n",
       "      <th>4</th>\n",
       "    </tr>\n",
       "  </thead>\n",
       "  <tbody>\n",
       "    <tr>\n",
       "      <th>0</th>\n",
       "      <td>7</td>\n",
       "      <td>2</td>\n",
       "      <td>3</td>\n",
       "      <td>9</td>\n",
       "      <td>4</td>\n",
       "    </tr>\n",
       "    <tr>\n",
       "      <th>1</th>\n",
       "      <td>3</td>\n",
       "      <td>3</td>\n",
       "      <td>7</td>\n",
       "      <td>8</td>\n",
       "      <td>7</td>\n",
       "    </tr>\n",
       "    <tr>\n",
       "      <th>2</th>\n",
       "      <td>8</td>\n",
       "      <td>1</td>\n",
       "      <td>5</td>\n",
       "      <td>9</td>\n",
       "      <td>2</td>\n",
       "    </tr>\n",
       "    <tr>\n",
       "      <th>3</th>\n",
       "      <td>8</td>\n",
       "      <td>6</td>\n",
       "      <td>8</td>\n",
       "      <td>2</td>\n",
       "      <td>3</td>\n",
       "    </tr>\n",
       "    <tr>\n",
       "      <th>4</th>\n",
       "      <td>3</td>\n",
       "      <td>9</td>\n",
       "      <td>7</td>\n",
       "      <td>8</td>\n",
       "      <td>4</td>\n",
       "    </tr>\n",
       "    <tr>\n",
       "      <th>5</th>\n",
       "      <td>3</td>\n",
       "      <td>3</td>\n",
       "      <td>3</td>\n",
       "      <td>6</td>\n",
       "      <td>4</td>\n",
       "    </tr>\n",
       "    <tr>\n",
       "      <th>6</th>\n",
       "      <td>8</td>\n",
       "      <td>7</td>\n",
       "      <td>1</td>\n",
       "      <td>8</td>\n",
       "      <td>3</td>\n",
       "    </tr>\n",
       "  </tbody>\n",
       "</table>\n",
       "</div>"
      ],
      "text/plain": [
       "   0  1  2  3  4\n",
       "0  7  2  3  9  4\n",
       "1  3  3  7  8  7\n",
       "2  8  1  5  9  2\n",
       "3  8  6  8  2  3\n",
       "4  3  9  7  8  4\n",
       "5  3  3  3  6  4\n",
       "6  8  7  1  8  3"
      ]
     },
     "execution_count": 13,
     "metadata": {},
     "output_type": "execute_result"
    }
   ],
   "source": [
    "ser = pd.Series(np.random.randint(1, 10, 35))\n",
    "\n",
    "arr = ser.values.reshape(7,5)\n",
    "df = pd.DataFrame(arr)\n",
    "df"
   ]
  },
  {
   "cell_type": "markdown",
   "metadata": {
    "id": "r25bXiieIhMN"
   },
   "source": [
    "Problem 11 \n",
    "\n",
    "Find the positions of numbers that are multiples of 3 from ser.\n",
    "\n",
    "Input\n",
    "\n",
    "```\n",
    "ser = pd.Series(np.random.randint(1, 10, 7))\n",
    "```"
   ]
  },
  {
   "cell_type": "code",
   "execution_count": 14,
   "metadata": {
    "id": "Sa4OR2HNIkrw"
   },
   "outputs": [
    {
     "name": "stdout",
     "output_type": "stream",
     "text": [
      "0    3\n",
      "1    4\n",
      "2    6\n",
      "3    1\n",
      "4    3\n",
      "5    7\n",
      "6    1\n",
      "dtype: int32\n",
      "[3, 6, 3]\n"
     ]
    }
   ],
   "source": [
    "ser1 = pd.Series(np.random.randint(1,10,7))\n",
    "print(ser1)\n",
    "\n",
    "multiples_of_3 = [j for j in ser1 if j%3==0]\n",
    "print(multiples_of_3)"
   ]
  },
  {
   "cell_type": "code",
   "execution_count": 16,
   "metadata": {},
   "outputs": [
    {
     "name": "stdout",
     "output_type": "stream",
     "text": [
      "Int64Index([0, 2, 4], dtype='int64')\n"
     ]
    }
   ],
   "source": [
    "# Find the positions of multiples of 3\n",
    "pos = ser1.index[ser1 % 3 == 0]\n",
    "# Print the positions\n",
    "print(pos)"
   ]
  },
  {
   "cell_type": "markdown",
   "metadata": {
    "id": "rL8B1cy2Ila9"
   },
   "source": [
    "Problem 12\n",
    "\n",
    "Stack ser1 and ser2 vertically and horizontally (to form a dataframe).\n",
    "\n",
    "Input\n",
    "\n",
    "```\n",
    "ser1 = pd.Series(range(5))\n",
    "ser2 = pd.Series(list('abcde'))\n",
    "```"
   ]
  },
  {
   "cell_type": "code",
   "execution_count": 17,
   "metadata": {
    "id": "HELmwXrsLDwt"
   },
   "outputs": [
    {
     "data": {
      "text/html": [
       "<div>\n",
       "<style scoped>\n",
       "    .dataframe tbody tr th:only-of-type {\n",
       "        vertical-align: middle;\n",
       "    }\n",
       "\n",
       "    .dataframe tbody tr th {\n",
       "        vertical-align: top;\n",
       "    }\n",
       "\n",
       "    .dataframe thead th {\n",
       "        text-align: right;\n",
       "    }\n",
       "</style>\n",
       "<table border=\"1\" class=\"dataframe\">\n",
       "  <thead>\n",
       "    <tr style=\"text-align: right;\">\n",
       "      <th></th>\n",
       "      <th>0</th>\n",
       "      <th>1</th>\n",
       "      <th>2</th>\n",
       "      <th>3</th>\n",
       "      <th>4</th>\n",
       "    </tr>\n",
       "  </thead>\n",
       "  <tbody>\n",
       "    <tr>\n",
       "      <th>0</th>\n",
       "      <td>0</td>\n",
       "      <td>1</td>\n",
       "      <td>2</td>\n",
       "      <td>3</td>\n",
       "      <td>4</td>\n",
       "    </tr>\n",
       "    <tr>\n",
       "      <th>1</th>\n",
       "      <td>a</td>\n",
       "      <td>b</td>\n",
       "      <td>c</td>\n",
       "      <td>d</td>\n",
       "      <td>e</td>\n",
       "    </tr>\n",
       "  </tbody>\n",
       "</table>\n",
       "</div>"
      ],
      "text/plain": [
       "   0  1  2  3  4\n",
       "0  0  1  2  3  4\n",
       "1  a  b  c  d  e"
      ]
     },
     "execution_count": 17,
     "metadata": {},
     "output_type": "execute_result"
    }
   ],
   "source": [
    "ser1 = pd.Series(range(5))\n",
    "ser2 = pd.Series(list('abcde'))\n",
    "comb_ser = np.stack((ser1,ser2))\n",
    "comb_ser\n",
    "df = pd.DataFrame(comb_ser)\n",
    "df"
   ]
  },
  {
   "cell_type": "markdown",
   "metadata": {
    "id": "0mSb7fBROfYw"
   },
   "source": [
    "Problem 13\n",
    "\n",
    "Stack ser1 and ser2 vertically and horizontally (to form a dataframe).\n",
    "\n",
    "Input\n",
    "```\n",
    "ser1 = pd.Series(range(5))\n",
    "ser2 = pd.Series(list('abcde'))\n",
    "```"
   ]
  },
  {
   "cell_type": "code",
   "execution_count": 19,
   "metadata": {
    "id": "e1AgGPCxOi1c"
   },
   "outputs": [
    {
     "name": "stdout",
     "output_type": "stream",
     "text": [
      "[[0 1 2 3 4]\n",
      " ['a' 'b' 'c' 'd' 'e']]\n",
      "Horizontally\n",
      "[0 1 2 3 4 'a' 'b' 'c' 'd' 'e']\n"
     ]
    }
   ],
   "source": [
    "ser1 = pd.Series(range(5))\n",
    "ser2 = pd.Series(list('abcde'))\n",
    "ver_series = np.vstack((ser1, ser2))\n",
    "print(ver_series)\n",
    "\n",
    "print(\"Horizontally\")\n",
    "\n",
    "hor_stack = np.hstack((ser1, ser2))\n",
    "print(hor_stack)"
   ]
  },
  {
   "cell_type": "markdown",
   "metadata": {
    "id": "CUpLrTnHPWlJ"
   },
   "source": [
    "Problem 14\n",
    "\n",
    "\n",
    "Get the day of month, week number, day of year and day of week from ser.\n",
    "\n",
    "Input\n",
    "```\n",
    "ser = pd.Series(['01 Jan 2010', '02-02-2011', '20120303', '2013/04/04', '2014-05-05', '2015-06-06T12:20'])\n",
    "```\n",
    "Desired output\n",
    "```\n",
    "Date:  [1, 2, 3, 4, 5, 6]\n",
    "Week number:  [53, 5, 9, 14, 19, 23]\n",
    "Day num of year:  [1, 33, 63, 94, 125, 157]\n",
    "Day of week:  ['Friday', 'Wednesday', 'Saturday', 'Thursday', 'Monday', 'Saturday']\n",
    "```"
   ]
  },
  {
   "cell_type": "code",
   "execution_count": 20,
   "metadata": {
    "id": "hMbDsbcWPbYg"
   },
   "outputs": [
    {
     "name": "stdout",
     "output_type": "stream",
     "text": [
      "Date:  [1, 2, 3, 4, 5, 6]\n",
      "Week Number:  [53, 5, 9, 14, 19, 23]\n",
      "Day Number of Year:  [1, 33, 63, 94, 125, 157]\n",
      "Day of Week:  ['Friday', 'Wednesday', 'Saturday', 'Thursday', 'Monday', 'Saturday']\n",
      "Year:  [2010, 2011, 2012, 2013, 2014, 2015]\n"
     ]
    },
    {
     "name": "stderr",
     "output_type": "stream",
     "text": [
      "C:\\Users\\Muhammad Hassan\\AppData\\Local\\Temp\\ipykernel_9912\\75932876.py:8: FutureWarning: Series.dt.weekofyear and Series.dt.week have been deprecated. Please use Series.dt.isocalendar().week instead.\n",
      "  week_of_month = dt_ser.dt.week.tolist()\n"
     ]
    }
   ],
   "source": [
    "ser = pd.Series(['01 Jan 2010', '02-02-2011', '20120303', '2013/04/04', '2014-05-05', '2015-06-06T12:20'])\n",
    "\n",
    "# Convert the strings to datetime objects\n",
    "dt_ser = pd.to_datetime(ser)\n",
    "\n",
    "# Extract the required information\n",
    "day_of_month = dt_ser.dt.day.tolist()\n",
    "week_of_month = dt_ser.dt.week.tolist()\n",
    "day_of_year = dt_ser.dt.dayofyear.tolist()\n",
    "day_of_week = dt_ser.dt.day_name().tolist()\n",
    "year = dt_ser.dt.year.tolist()\n",
    "\n",
    "# Print the results\n",
    "print(\"Date: \", day_of_month)\n",
    "print(\"Week Number: \", week_of_month)\n",
    "print(\"Day Number of Year: \", day_of_year)\n",
    "print(\"Day of Week: \", day_of_week)\n",
    "print(\"Year: \", year)"
   ]
  },
  {
   "cell_type": "markdown",
   "metadata": {
    "id": "XQnptv29Pi85"
   },
   "source": [
    "Problem 15\n",
    "\n",
    "From ser, extract words that contain atleast 2 vowels.\n",
    "\n",
    "Input\n",
    "```\n",
    "ser = pd.Series(['Apple', 'Orange', 'Plan', 'Python', 'Money'])\n",
    "```\n",
    "\n",
    "Desired Output\n",
    "```\n",
    "0     Apple\n",
    "1    Orange\n",
    "4     Money\n",
    "dtype: object\n",
    "```"
   ]
  },
  {
   "cell_type": "code",
   "execution_count": 21,
   "metadata": {
    "id": "Row625dURklN"
   },
   "outputs": [
    {
     "data": {
      "text/plain": [
       "0     Apple\n",
       "1    Orange\n",
       "4     Money\n",
       "dtype: object"
      ]
     },
     "execution_count": 21,
     "metadata": {},
     "output_type": "execute_result"
    }
   ],
   "source": [
    "ser = pd.Series(['Apple', 'Orange', 'Plan', 'Python', 'Money'])\n",
    "#by applying lambda functions\n",
    "contains_two_vowels = lambda word: sum([1 for char in word if char in 'aeiouAEIOU']) >= 2\n",
    "# Use the apply() method and the lambda function to filter the words\n",
    "result = ser[ser.apply(contains_two_vowels)]\n",
    "result"
   ]
  },
  {
   "cell_type": "markdown",
   "metadata": {
    "id": "TF4K04NjUzgB"
   },
   "source": [
    "Problem 16\n",
    "\n",
    "\n",
    "Check if df has any missing values.\n",
    "\n",
    "Input\n",
    "\n",
    "```\n",
    "df = pd.read_csv('https://raw.githubusercontent.com/selva86/datasets/master/Cars93_miss.csv')\n",
    "```"
   ]
  },
  {
   "cell_type": "code",
   "execution_count": 22,
   "metadata": {
    "id": "ly7WDYqwVFb-"
   },
   "outputs": [
    {
     "data": {
      "text/html": [
       "<div>\n",
       "<style scoped>\n",
       "    .dataframe tbody tr th:only-of-type {\n",
       "        vertical-align: middle;\n",
       "    }\n",
       "\n",
       "    .dataframe tbody tr th {\n",
       "        vertical-align: top;\n",
       "    }\n",
       "\n",
       "    .dataframe thead th {\n",
       "        text-align: right;\n",
       "    }\n",
       "</style>\n",
       "<table border=\"1\" class=\"dataframe\">\n",
       "  <thead>\n",
       "    <tr style=\"text-align: right;\">\n",
       "      <th></th>\n",
       "      <th>Manufacturer</th>\n",
       "      <th>Model</th>\n",
       "      <th>Type</th>\n",
       "      <th>Min.Price</th>\n",
       "      <th>Price</th>\n",
       "      <th>Max.Price</th>\n",
       "      <th>MPG.city</th>\n",
       "      <th>MPG.highway</th>\n",
       "      <th>AirBags</th>\n",
       "      <th>DriveTrain</th>\n",
       "      <th>...</th>\n",
       "      <th>Passengers</th>\n",
       "      <th>Length</th>\n",
       "      <th>Wheelbase</th>\n",
       "      <th>Width</th>\n",
       "      <th>Turn.circle</th>\n",
       "      <th>Rear.seat.room</th>\n",
       "      <th>Luggage.room</th>\n",
       "      <th>Weight</th>\n",
       "      <th>Origin</th>\n",
       "      <th>Make</th>\n",
       "    </tr>\n",
       "  </thead>\n",
       "  <tbody>\n",
       "    <tr>\n",
       "      <th>0</th>\n",
       "      <td>False</td>\n",
       "      <td>False</td>\n",
       "      <td>False</td>\n",
       "      <td>False</td>\n",
       "      <td>False</td>\n",
       "      <td>False</td>\n",
       "      <td>False</td>\n",
       "      <td>False</td>\n",
       "      <td>False</td>\n",
       "      <td>False</td>\n",
       "      <td>...</td>\n",
       "      <td>False</td>\n",
       "      <td>False</td>\n",
       "      <td>False</td>\n",
       "      <td>False</td>\n",
       "      <td>False</td>\n",
       "      <td>False</td>\n",
       "      <td>True</td>\n",
       "      <td>False</td>\n",
       "      <td>False</td>\n",
       "      <td>False</td>\n",
       "    </tr>\n",
       "    <tr>\n",
       "      <th>1</th>\n",
       "      <td>True</td>\n",
       "      <td>False</td>\n",
       "      <td>False</td>\n",
       "      <td>False</td>\n",
       "      <td>False</td>\n",
       "      <td>False</td>\n",
       "      <td>False</td>\n",
       "      <td>False</td>\n",
       "      <td>False</td>\n",
       "      <td>False</td>\n",
       "      <td>...</td>\n",
       "      <td>False</td>\n",
       "      <td>False</td>\n",
       "      <td>False</td>\n",
       "      <td>False</td>\n",
       "      <td>False</td>\n",
       "      <td>False</td>\n",
       "      <td>False</td>\n",
       "      <td>False</td>\n",
       "      <td>False</td>\n",
       "      <td>False</td>\n",
       "    </tr>\n",
       "    <tr>\n",
       "      <th>2</th>\n",
       "      <td>False</td>\n",
       "      <td>False</td>\n",
       "      <td>False</td>\n",
       "      <td>False</td>\n",
       "      <td>False</td>\n",
       "      <td>False</td>\n",
       "      <td>False</td>\n",
       "      <td>False</td>\n",
       "      <td>False</td>\n",
       "      <td>False</td>\n",
       "      <td>...</td>\n",
       "      <td>False</td>\n",
       "      <td>False</td>\n",
       "      <td>False</td>\n",
       "      <td>False</td>\n",
       "      <td>False</td>\n",
       "      <td>False</td>\n",
       "      <td>False</td>\n",
       "      <td>False</td>\n",
       "      <td>False</td>\n",
       "      <td>False</td>\n",
       "    </tr>\n",
       "    <tr>\n",
       "      <th>3</th>\n",
       "      <td>False</td>\n",
       "      <td>False</td>\n",
       "      <td>False</td>\n",
       "      <td>True</td>\n",
       "      <td>False</td>\n",
       "      <td>False</td>\n",
       "      <td>False</td>\n",
       "      <td>False</td>\n",
       "      <td>False</td>\n",
       "      <td>True</td>\n",
       "      <td>...</td>\n",
       "      <td>False</td>\n",
       "      <td>False</td>\n",
       "      <td>False</td>\n",
       "      <td>True</td>\n",
       "      <td>False</td>\n",
       "      <td>False</td>\n",
       "      <td>False</td>\n",
       "      <td>False</td>\n",
       "      <td>False</td>\n",
       "      <td>False</td>\n",
       "    </tr>\n",
       "    <tr>\n",
       "      <th>4</th>\n",
       "      <td>False</td>\n",
       "      <td>False</td>\n",
       "      <td>False</td>\n",
       "      <td>True</td>\n",
       "      <td>False</td>\n",
       "      <td>True</td>\n",
       "      <td>False</td>\n",
       "      <td>False</td>\n",
       "      <td>True</td>\n",
       "      <td>False</td>\n",
       "      <td>...</td>\n",
       "      <td>False</td>\n",
       "      <td>False</td>\n",
       "      <td>False</td>\n",
       "      <td>False</td>\n",
       "      <td>False</td>\n",
       "      <td>False</td>\n",
       "      <td>False</td>\n",
       "      <td>False</td>\n",
       "      <td>False</td>\n",
       "      <td>False</td>\n",
       "    </tr>\n",
       "    <tr>\n",
       "      <th>...</th>\n",
       "      <td>...</td>\n",
       "      <td>...</td>\n",
       "      <td>...</td>\n",
       "      <td>...</td>\n",
       "      <td>...</td>\n",
       "      <td>...</td>\n",
       "      <td>...</td>\n",
       "      <td>...</td>\n",
       "      <td>...</td>\n",
       "      <td>...</td>\n",
       "      <td>...</td>\n",
       "      <td>...</td>\n",
       "      <td>...</td>\n",
       "      <td>...</td>\n",
       "      <td>...</td>\n",
       "      <td>...</td>\n",
       "      <td>...</td>\n",
       "      <td>...</td>\n",
       "      <td>...</td>\n",
       "      <td>...</td>\n",
       "      <td>...</td>\n",
       "    </tr>\n",
       "    <tr>\n",
       "      <th>88</th>\n",
       "      <td>False</td>\n",
       "      <td>False</td>\n",
       "      <td>False</td>\n",
       "      <td>False</td>\n",
       "      <td>False</td>\n",
       "      <td>False</td>\n",
       "      <td>False</td>\n",
       "      <td>False</td>\n",
       "      <td>False</td>\n",
       "      <td>False</td>\n",
       "      <td>...</td>\n",
       "      <td>False</td>\n",
       "      <td>False</td>\n",
       "      <td>False</td>\n",
       "      <td>False</td>\n",
       "      <td>False</td>\n",
       "      <td>False</td>\n",
       "      <td>True</td>\n",
       "      <td>False</td>\n",
       "      <td>True</td>\n",
       "      <td>False</td>\n",
       "    </tr>\n",
       "    <tr>\n",
       "      <th>89</th>\n",
       "      <td>False</td>\n",
       "      <td>False</td>\n",
       "      <td>False</td>\n",
       "      <td>False</td>\n",
       "      <td>False</td>\n",
       "      <td>False</td>\n",
       "      <td>False</td>\n",
       "      <td>False</td>\n",
       "      <td>False</td>\n",
       "      <td>False</td>\n",
       "      <td>...</td>\n",
       "      <td>False</td>\n",
       "      <td>False</td>\n",
       "      <td>False</td>\n",
       "      <td>False</td>\n",
       "      <td>False</td>\n",
       "      <td>False</td>\n",
       "      <td>False</td>\n",
       "      <td>False</td>\n",
       "      <td>False</td>\n",
       "      <td>False</td>\n",
       "    </tr>\n",
       "    <tr>\n",
       "      <th>90</th>\n",
       "      <td>False</td>\n",
       "      <td>False</td>\n",
       "      <td>False</td>\n",
       "      <td>False</td>\n",
       "      <td>False</td>\n",
       "      <td>False</td>\n",
       "      <td>False</td>\n",
       "      <td>False</td>\n",
       "      <td>False</td>\n",
       "      <td>False</td>\n",
       "      <td>...</td>\n",
       "      <td>False</td>\n",
       "      <td>False</td>\n",
       "      <td>False</td>\n",
       "      <td>False</td>\n",
       "      <td>False</td>\n",
       "      <td>False</td>\n",
       "      <td>False</td>\n",
       "      <td>False</td>\n",
       "      <td>False</td>\n",
       "      <td>False</td>\n",
       "    </tr>\n",
       "    <tr>\n",
       "      <th>91</th>\n",
       "      <td>False</td>\n",
       "      <td>False</td>\n",
       "      <td>False</td>\n",
       "      <td>False</td>\n",
       "      <td>False</td>\n",
       "      <td>False</td>\n",
       "      <td>False</td>\n",
       "      <td>False</td>\n",
       "      <td>False</td>\n",
       "      <td>False</td>\n",
       "      <td>...</td>\n",
       "      <td>False</td>\n",
       "      <td>False</td>\n",
       "      <td>False</td>\n",
       "      <td>False</td>\n",
       "      <td>False</td>\n",
       "      <td>False</td>\n",
       "      <td>False</td>\n",
       "      <td>False</td>\n",
       "      <td>False</td>\n",
       "      <td>False</td>\n",
       "    </tr>\n",
       "    <tr>\n",
       "      <th>92</th>\n",
       "      <td>True</td>\n",
       "      <td>False</td>\n",
       "      <td>False</td>\n",
       "      <td>False</td>\n",
       "      <td>False</td>\n",
       "      <td>False</td>\n",
       "      <td>False</td>\n",
       "      <td>False</td>\n",
       "      <td>False</td>\n",
       "      <td>False</td>\n",
       "      <td>...</td>\n",
       "      <td>False</td>\n",
       "      <td>False</td>\n",
       "      <td>False</td>\n",
       "      <td>False</td>\n",
       "      <td>False</td>\n",
       "      <td>False</td>\n",
       "      <td>False</td>\n",
       "      <td>False</td>\n",
       "      <td>False</td>\n",
       "      <td>False</td>\n",
       "    </tr>\n",
       "  </tbody>\n",
       "</table>\n",
       "<p>93 rows × 27 columns</p>\n",
       "</div>"
      ],
      "text/plain": [
       "    Manufacturer  Model   Type  Min.Price  Price  Max.Price  MPG.city  \\\n",
       "0          False  False  False      False  False      False     False   \n",
       "1           True  False  False      False  False      False     False   \n",
       "2          False  False  False      False  False      False     False   \n",
       "3          False  False  False       True  False      False     False   \n",
       "4          False  False  False       True  False       True     False   \n",
       "..           ...    ...    ...        ...    ...        ...       ...   \n",
       "88         False  False  False      False  False      False     False   \n",
       "89         False  False  False      False  False      False     False   \n",
       "90         False  False  False      False  False      False     False   \n",
       "91         False  False  False      False  False      False     False   \n",
       "92          True  False  False      False  False      False     False   \n",
       "\n",
       "    MPG.highway  AirBags  DriveTrain  ...  Passengers  Length  Wheelbase  \\\n",
       "0         False    False       False  ...       False   False      False   \n",
       "1         False    False       False  ...       False   False      False   \n",
       "2         False    False       False  ...       False   False      False   \n",
       "3         False    False        True  ...       False   False      False   \n",
       "4         False     True       False  ...       False   False      False   \n",
       "..          ...      ...         ...  ...         ...     ...        ...   \n",
       "88        False    False       False  ...       False   False      False   \n",
       "89        False    False       False  ...       False   False      False   \n",
       "90        False    False       False  ...       False   False      False   \n",
       "91        False    False       False  ...       False   False      False   \n",
       "92        False    False       False  ...       False   False      False   \n",
       "\n",
       "    Width  Turn.circle  Rear.seat.room  Luggage.room  Weight  Origin   Make  \n",
       "0   False        False           False          True   False   False  False  \n",
       "1   False        False           False         False   False   False  False  \n",
       "2   False        False           False         False   False   False  False  \n",
       "3    True        False           False         False   False   False  False  \n",
       "4   False        False           False         False   False   False  False  \n",
       "..    ...          ...             ...           ...     ...     ...    ...  \n",
       "88  False        False           False          True   False    True  False  \n",
       "89  False        False           False         False   False   False  False  \n",
       "90  False        False           False         False   False   False  False  \n",
       "91  False        False           False         False   False   False  False  \n",
       "92  False        False           False         False   False   False  False  \n",
       "\n",
       "[93 rows x 27 columns]"
      ]
     },
     "execution_count": 22,
     "metadata": {},
     "output_type": "execute_result"
    }
   ],
   "source": [
    "df = pd.read_csv('https://raw.githubusercontent.com/selva86/datasets/master/Cars93_miss.csv')\n",
    "df.isnull()"
   ]
  },
  {
   "cell_type": "markdown",
   "metadata": {
    "id": "-n_dA4hOVMN7"
   },
   "source": [
    "Problem 17\n",
    "\n",
    "Count the number of missing values in each column of df. Which column has the maximum number of missing values?\n",
    "\n",
    "Input\n",
    "```\n",
    "df = pd.read_csv('https://raw.githubusercontent.com/selva86/datasets/master/Cars93_miss.csv')\n",
    "```"
   ]
  },
  {
   "cell_type": "code",
   "execution_count": 23,
   "metadata": {
    "id": "p-VI35v_VOwU"
   },
   "outputs": [
    {
     "data": {
      "text/plain": [
       "Luggage.room          19\n",
       "MPG.city               9\n",
       "Fuel.tank.capacity     8\n",
       "DriveTrain             7\n",
       "Horsepower             7\n",
       "Min.Price              7\n",
       "Weight                 7\n",
       "Rev.per.mile           6\n",
       "Width                  6\n",
       "AirBags                6\n",
       "dtype: int64"
      ]
     },
     "execution_count": 23,
     "metadata": {},
     "output_type": "execute_result"
    }
   ],
   "source": [
    "df.isnull().sum().sort_values(ascending=False)[:10]"
   ]
  },
  {
   "cell_type": "markdown",
   "metadata": {
    "id": "dJxb3GJEVVyX"
   },
   "source": [
    "Problem 18\n",
    "\n",
    "Replace missing values in Min.Price and Max.Price columns with their respective mean.\n",
    "\n",
    "Input\n",
    "\n",
    "```\n",
    "df = pd.read_csv('https://raw.githubusercontent.com/selva86/datasets/master/Cars93_miss.csv')\n",
    "```"
   ]
  },
  {
   "cell_type": "code",
   "execution_count": 26,
   "metadata": {
    "id": "-tkl2yDeVar3"
   },
   "outputs": [
    {
     "data": {
      "text/plain": [
       "Manufacturer           4\n",
       "Model                  1\n",
       "Type                   3\n",
       "Min.Price              0\n",
       "Price                  2\n",
       "Max.Price              0\n",
       "MPG.city               9\n",
       "MPG.highway            2\n",
       "AirBags                6\n",
       "DriveTrain             7\n",
       "Cylinders              5\n",
       "EngineSize             2\n",
       "Horsepower             7\n",
       "RPM                    3\n",
       "Rev.per.mile           6\n",
       "Man.trans.avail        5\n",
       "Fuel.tank.capacity     8\n",
       "Passengers             2\n",
       "Length                 4\n",
       "Wheelbase              1\n",
       "Width                  6\n",
       "Turn.circle            5\n",
       "Rear.seat.room         4\n",
       "Luggage.room          19\n",
       "Weight                 7\n",
       "Origin                 5\n",
       "Make                   3\n",
       "dtype: int64"
      ]
     },
     "execution_count": 26,
     "metadata": {},
     "output_type": "execute_result"
    }
   ],
   "source": [
    "df = pd.read_csv('https://raw.githubusercontent.com/selva86/datasets/master/Cars93_miss.csv')\n",
    "\n",
    "# mean_of_price = df['Min.Price'].mean()\n",
    "df['Min.Price'].fillna(df['Min.Price'].mean(), inplace=True)\n",
    "df['Max.Price'].fillna(df['Max.Price'].mean(), inplace=True)\n",
    "# data.Year.fillna(data.Year.mode(),inplace=True)\n",
    "df.isnull().sum()"
   ]
  },
  {
   "cell_type": "markdown",
   "metadata": {
    "id": "rRiisy9Z1nWI"
   },
   "source": [
    "Problem 19\n",
    "\n",
    "In df, use apply method to replace the missing values in Min.Price with the column’s mean and those in Max.Price with the column’s median.\n",
    "\n",
    "Input\n",
    "\n",
    "```\n",
    "df = pd.read_csv('https://raw.githubusercontent.com/selva86/datasets/master/Cars93_miss.csv')\n",
    "\n",
    "```"
   ]
  },
  {
   "cell_type": "code",
   "execution_count": 25,
   "metadata": {
    "id": "8DhwD67Y2ECu"
   },
   "outputs": [
    {
     "data": {
      "text/plain": [
       "Manufacturer           4\n",
       "Model                  1\n",
       "Type                   3\n",
       "Min.Price              0\n",
       "Price                  2\n",
       "Max.Price              5\n",
       "MPG.city               9\n",
       "MPG.highway            2\n",
       "AirBags                6\n",
       "DriveTrain             7\n",
       "Cylinders              5\n",
       "EngineSize             2\n",
       "Horsepower             7\n",
       "RPM                    3\n",
       "Rev.per.mile           6\n",
       "Man.trans.avail        5\n",
       "Fuel.tank.capacity     8\n",
       "Passengers             2\n",
       "Length                 4\n",
       "Wheelbase              1\n",
       "Width                  6\n",
       "Turn.circle            5\n",
       "Rear.seat.room         4\n",
       "Luggage.room          19\n",
       "Weight                 7\n",
       "Origin                 5\n",
       "Make                   3\n",
       "dtype: int64"
      ]
     },
     "execution_count": 25,
     "metadata": {},
     "output_type": "execute_result"
    }
   ],
   "source": [
    "df.fillna({\n",
    "    \"Max.Price\": df['Max.Price'].median(),\n",
    "    \"Min.Price\": df['Min.Price'].mean()\n",
    "})\n",
    "df.isnull().sum()"
   ]
  },
  {
   "cell_type": "markdown",
   "metadata": {
    "id": "tSatW9hL2Mqw"
   },
   "source": [
    "Problem 20\n",
    "\n",
    "Get the first column (a) in df as a dataframe (rather than as a Series).\n",
    "\n",
    "Input\n",
    "\n",
    "```\n",
    "df = pd.DataFrame(np.arange(20).reshape(-1, 5), columns=list('abcde'))\n",
    "```"
   ]
  },
  {
   "cell_type": "code",
   "execution_count": 27,
   "metadata": {
    "id": "ZUdJDy_92XsA"
   },
   "outputs": [
    {
     "data": {
      "text/html": [
       "<div>\n",
       "<style scoped>\n",
       "    .dataframe tbody tr th:only-of-type {\n",
       "        vertical-align: middle;\n",
       "    }\n",
       "\n",
       "    .dataframe tbody tr th {\n",
       "        vertical-align: top;\n",
       "    }\n",
       "\n",
       "    .dataframe thead th {\n",
       "        text-align: right;\n",
       "    }\n",
       "</style>\n",
       "<table border=\"1\" class=\"dataframe\">\n",
       "  <thead>\n",
       "    <tr style=\"text-align: right;\">\n",
       "      <th></th>\n",
       "      <th>a</th>\n",
       "    </tr>\n",
       "  </thead>\n",
       "  <tbody>\n",
       "    <tr>\n",
       "      <th>0</th>\n",
       "      <td>0</td>\n",
       "    </tr>\n",
       "    <tr>\n",
       "      <th>1</th>\n",
       "      <td>5</td>\n",
       "    </tr>\n",
       "    <tr>\n",
       "      <th>2</th>\n",
       "      <td>10</td>\n",
       "    </tr>\n",
       "    <tr>\n",
       "      <th>3</th>\n",
       "      <td>15</td>\n",
       "    </tr>\n",
       "  </tbody>\n",
       "</table>\n",
       "</div>"
      ],
      "text/plain": [
       "    a\n",
       "0   0\n",
       "1   5\n",
       "2  10\n",
       "3  15"
      ]
     },
     "execution_count": 27,
     "metadata": {},
     "output_type": "execute_result"
    }
   ],
   "source": [
    "df = pd.DataFrame(np.arange(20).reshape(-1, 5), columns=list('abcde'))\n",
    "df[['a']]"
   ]
  },
  {
   "cell_type": "markdown",
   "metadata": {
    "id": "UeFli2122eto"
   },
   "source": [
    "Problem 21\n",
    "\n",
    "1 - In df, interchange columns 'a' and 'c'.\n",
    "\n",
    "2 - Create a generic function to interchange two columns, without hardcoding column names.\n",
    "\n",
    "3 - Sort the columns in reverse alphabetical order, that is colume 'e' first through column 'a' last.\n",
    "\n",
    "Input\n",
    "\n",
    "```\n",
    "\n",
    "df = pd.DataFrame(np.arange(20).reshape(-1, 5), columns=list('abcde'))\n",
    "```"
   ]
  },
  {
   "cell_type": "code",
   "execution_count": 28,
   "metadata": {
    "id": "Yv3hajlx2pA_"
   },
   "outputs": [
    {
     "data": {
      "text/html": [
       "<div>\n",
       "<style scoped>\n",
       "    .dataframe tbody tr th:only-of-type {\n",
       "        vertical-align: middle;\n",
       "    }\n",
       "\n",
       "    .dataframe tbody tr th {\n",
       "        vertical-align: top;\n",
       "    }\n",
       "\n",
       "    .dataframe thead th {\n",
       "        text-align: right;\n",
       "    }\n",
       "</style>\n",
       "<table border=\"1\" class=\"dataframe\">\n",
       "  <thead>\n",
       "    <tr style=\"text-align: right;\">\n",
       "      <th></th>\n",
       "      <th>c</th>\n",
       "      <th>b</th>\n",
       "      <th>a</th>\n",
       "      <th>d</th>\n",
       "      <th>e</th>\n",
       "    </tr>\n",
       "  </thead>\n",
       "  <tbody>\n",
       "    <tr>\n",
       "      <th>0</th>\n",
       "      <td>2</td>\n",
       "      <td>1</td>\n",
       "      <td>0</td>\n",
       "      <td>3</td>\n",
       "      <td>4</td>\n",
       "    </tr>\n",
       "    <tr>\n",
       "      <th>1</th>\n",
       "      <td>7</td>\n",
       "      <td>6</td>\n",
       "      <td>5</td>\n",
       "      <td>8</td>\n",
       "      <td>9</td>\n",
       "    </tr>\n",
       "    <tr>\n",
       "      <th>2</th>\n",
       "      <td>12</td>\n",
       "      <td>11</td>\n",
       "      <td>10</td>\n",
       "      <td>13</td>\n",
       "      <td>14</td>\n",
       "    </tr>\n",
       "    <tr>\n",
       "      <th>3</th>\n",
       "      <td>17</td>\n",
       "      <td>16</td>\n",
       "      <td>15</td>\n",
       "      <td>18</td>\n",
       "      <td>19</td>\n",
       "    </tr>\n",
       "  </tbody>\n",
       "</table>\n",
       "</div>"
      ],
      "text/plain": [
       "    c   b   a   d   e\n",
       "0   2   1   0   3   4\n",
       "1   7   6   5   8   9\n",
       "2  12  11  10  13  14\n",
       "3  17  16  15  18  19"
      ]
     },
     "execution_count": 28,
     "metadata": {},
     "output_type": "execute_result"
    }
   ],
   "source": [
    "df = pd.DataFrame(np.arange(20).reshape(-1, 5), columns=list('abcde'))\n",
    "df[['c','b','a','d','e']]"
   ]
  },
  {
   "cell_type": "code",
   "execution_count": 29,
   "metadata": {},
   "outputs": [
    {
     "name": "stdout",
     "output_type": "stream",
     "text": [
      "    c   b   a   d   e\n",
      "0   2   1   0   3   4\n",
      "1   7   6   5   8   9\n",
      "2  12  11  10  13  14\n",
      "3  17  16  15  18  19\n"
     ]
    }
   ],
   "source": [
    "def interchange_columns(df, col1, col2):\n",
    "    cols = list(df.columns)\n",
    "    i1, i2 = cols.index(col1), cols.index(col2)\n",
    "    cols[i1], cols[i2] = cols[i2], cols[i1]\n",
    "    return df[cols]\n",
    "\n",
    "# Example usage:\n",
    "df = pd.DataFrame(np.arange(20).reshape(-1, 5), columns=list('abcde'))\n",
    "df = interchange_columns(df, 'a', 'c')\n",
    "print(df)"
   ]
  },
  {
   "cell_type": "markdown",
   "metadata": {
    "id": "dwt6lJbE6Gmq"
   },
   "source": [
    "Problem 22\n",
    "\n",
    "From df, filter the 'Manufacturer', 'Model' and 'Type' for every 20th row starting from 1st (row 0).\n",
    "\n",
    "Input\n",
    "\n",
    "```\n",
    "df = pd.read_csv('https://raw.githubusercontent.com/selva86/datasets/master/Cars93_miss.csv')\n",
    "```"
   ]
  },
  {
   "cell_type": "code",
   "execution_count": 30,
   "metadata": {
    "id": "KAGjjRlF6LgU"
   },
   "outputs": [
    {
     "name": "stdout",
     "output_type": "stream",
     "text": [
      "       Type  Min.Price  Price\n",
      "0     Small       12.9   15.9\n",
      "20  Compact       14.5   15.8\n",
      "40   Sporty       17.0   19.8\n",
      "60  Midsize       14.9   14.9\n",
      "80    Small       10.5   10.9\n"
     ]
    }
   ],
   "source": [
    "df = pd.read_csv('https://raw.githubusercontent.com/selva86/datasets/master/Cars93_miss.csv')\n",
    "filtered_df = df.iloc[::20, [2, 3, 4]]\n",
    "\n",
    "print(filtered_df)"
   ]
  },
  {
   "cell_type": "markdown",
   "metadata": {
    "id": "rAUiNmQO6MKX"
   },
   "source": [
    "Problem 23 \n",
    "\n",
    "Find the row position of the 5th largest value of column 'a' in df.\n",
    "\n",
    "Input\n",
    "\n",
    "```\n",
    "df = pd.DataFrame(np.random.randint(1, 30, 30).reshape(10,-1), columns=list('abc'))\n",
    "```"
   ]
  },
  {
   "cell_type": "code",
   "execution_count": 86,
   "metadata": {
    "id": "54nyS3vg9gkv"
   },
   "outputs": [
    {
     "name": "stdout",
     "output_type": "stream",
     "text": [
      "Row position of 5th largest value in column 'a': 4\n"
     ]
    }
   ],
   "source": [
    "df = pd.DataFrame(np.random.randint(1, 30, 30).reshape(10,-1), columns=list('abc'))\n",
    "\n",
    "\n",
    "position_5th = df.nlargest(5, 'a')['a'].iloc[-1:].index[0]\n",
    "print(\"Row position of 5th largest value in column 'a':\", position_5th)"
   ]
  },
  {
   "cell_type": "markdown",
   "metadata": {
    "id": "vlDs2IP19uLw"
   },
   "source": [
    "Problem 24 \n",
    "\n",
    "In ser, find the position of the 2nd largest value greater than the mean.\n",
    "\n",
    "Input\n",
    "```\n",
    "ser = pd.Series(np.random.randint(1, 100, 15))\n",
    "```"
   ]
  },
  {
   "cell_type": "code",
   "execution_count": 87,
   "metadata": {
    "id": "WHhwrcE79xqA"
   },
   "outputs": [
    {
     "name": "stdout",
     "output_type": "stream",
     "text": [
      "Position of the 2nd largest value greater than the mean: 5\n"
     ]
    }
   ],
   "source": [
    "ser = pd.Series(np.random.randint(1, 100, 15))\n",
    "\n",
    "mean = ser.mean()\n",
    "s = ser[ser > mean].nlargest(2)\n",
    "pos = s.index[-1]\n",
    "\n",
    "print(\"Position of the 2nd largest value greater than the mean:\", pos)"
   ]
  },
  {
   "cell_type": "markdown",
   "metadata": {
    "id": "pInnY5DR97_s"
   },
   "source": [
    "Problem 25\n",
    "\n",
    "\n",
    "Get one-hot encodings for column 'a' in the dataframe df and append it as columns.\n",
    "\n",
    "Input\n",
    "\n",
    "```\n",
    "df = pd.DataFrame(np.arange(25).reshape(5,-1), columns=list('abcde'))\n",
    "    a   b   c   d   e\n",
    "0   0   1   2   3   4\n",
    "1   5   6   7   8   9\n",
    "2  10  11  12  13  14\n",
    "3  15  16  17  18  19\n",
    "4  20  21  22  23  24\n",
    "```\n",
    "Output\n",
    "\n",
    "```\n",
    "   0  5  10  15  20   b   c   d   e\n",
    "0  1  0   0   0   0   1   2   3   4\n",
    "1  0  1   0   0   0   6   7   8   9\n",
    "2  0  0   1   0   0  11  12  13  14\n",
    "3  0  0   0   1   0  16  17  18  19\n",
    "4  0  0   0   0   1  21  22  23  24\n",
    "```"
   ]
  },
  {
   "cell_type": "code",
   "execution_count": 90,
   "metadata": {
    "id": "Q-i2N-4n-Qj3"
   },
   "outputs": [
    {
     "name": "stdout",
     "output_type": "stream",
     "text": [
      "   0  5  10  15  20   b   c   d   e\n",
      "0  1  0   0   0   0   1   2   3   4\n",
      "1  0  1   0   0   0   6   7   8   9\n",
      "2  0  0   1   0   0  11  12  13  14\n",
      "3  0  0   0   1   0  16  17  18  19\n",
      "4  0  0   0   0   1  21  22  23  24\n"
     ]
    }
   ],
   "source": [
    "df = pd.DataFrame(np.arange(25).reshape(5,-1), columns=list('abcde'))\n",
    "\n",
    "\n",
    "one_hot = pd.get_dummies(df['a'])\n",
    "\n",
    "df = pd.concat([one_hot, df.drop('a', axis=1)], axis=1)\n",
    "\n",
    "print(df)"
   ]
  },
  {
   "cell_type": "markdown",
   "metadata": {},
   "source": [
    "### Finished (16/02/2023)"
   ]
  },
  {
   "cell_type": "code",
   "execution_count": null,
   "metadata": {},
   "outputs": [],
   "source": []
  }
 ],
 "metadata": {
  "colab": {
   "provenance": []
  },
  "kernelspec": {
   "display_name": "Python 3 (ipykernel)",
   "language": "python",
   "name": "python3"
  },
  "language_info": {
   "codemirror_mode": {
    "name": "ipython",
    "version": 3
   },
   "file_extension": ".py",
   "mimetype": "text/x-python",
   "name": "python",
   "nbconvert_exporter": "python",
   "pygments_lexer": "ipython3",
   "version": "3.9.13"
  }
 },
 "nbformat": 4,
 "nbformat_minor": 1
}
