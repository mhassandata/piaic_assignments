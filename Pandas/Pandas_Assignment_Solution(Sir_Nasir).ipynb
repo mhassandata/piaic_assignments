{
  "cells": [
    {
      "cell_type": "markdown",
      "metadata": {
        "id": "JVc3MQA3GNiX"
      },
      "source": [
        "Problem 1\n",
        "\n",
        "How to import pandas and check the version?"
      ]
    },
    {
      "cell_type": "code",
      "execution_count": null,
      "metadata": {
        "id": "TsCaeGctF_DV",
        "outputId": "f8c5ee6e-fc9c-4513-87c3-8ff745bbb079"
      },
      "outputs": [
        {
          "name": "stdout",
          "output_type": "stream",
          "text": [
            "1.1.3\n"
          ]
        }
      ],
      "source": [
        "import pandas as pd\n",
        "\n",
        "print(pd.__version__)"
      ]
    },
    {
      "cell_type": "markdown",
      "metadata": {
        "id": "IWobUWkPGVrg"
      },
      "source": [
        "Problem 2\n",
        "\n",
        "Create a pandas series from each of the items below: a list, numpy and a dictionary\n",
        "\n",
        "Input\n",
        "\n",
        "```\n",
        "import numpy as np\n",
        "mylist = list('abcedfghijklmnopqrstuvwxyz')\n",
        "myarr = np.arange(26)\n",
        "mydict = dict(zip(mylist, myarr))\n",
        "```"
      ]
    },
    {
      "cell_type": "code",
      "execution_count": null,
      "metadata": {
        "id": "RaWfwt6mGd02",
        "outputId": "d223fb49-69a0-48d1-84b8-3f71f14bab57"
      },
      "outputs": [
        {
          "name": "stdout",
          "output_type": "stream",
          "text": [
            "0     a\n",
            "1     b\n",
            "2     c\n",
            "3     e\n",
            "4     d\n",
            "5     f\n",
            "6     g\n",
            "7     h\n",
            "8     i\n",
            "9     j\n",
            "10    k\n",
            "11    l\n",
            "12    m\n",
            "13    n\n",
            "14    o\n",
            "15    p\n",
            "16    q\n",
            "17    r\n",
            "18    s\n",
            "19    t\n",
            "20    u\n",
            "21    v\n",
            "22    w\n",
            "23    x\n",
            "24    y\n",
            "25    z\n",
            "dtype: object\n",
            "0      0\n",
            "1      1\n",
            "2      2\n",
            "3      3\n",
            "4      4\n",
            "5      5\n",
            "6      6\n",
            "7      7\n",
            "8      8\n",
            "9      9\n",
            "10    10\n",
            "11    11\n",
            "12    12\n",
            "13    13\n",
            "14    14\n",
            "15    15\n",
            "16    16\n",
            "17    17\n",
            "18    18\n",
            "19    19\n",
            "20    20\n",
            "21    21\n",
            "22    22\n",
            "23    23\n",
            "24    24\n",
            "25    25\n",
            "dtype: int32\n",
            "a     0\n",
            "b     1\n",
            "c     2\n",
            "e     3\n",
            "d     4\n",
            "f     5\n",
            "g     6\n",
            "h     7\n",
            "i     8\n",
            "j     9\n",
            "k    10\n",
            "l    11\n",
            "m    12\n",
            "n    13\n",
            "o    14\n",
            "p    15\n",
            "q    16\n",
            "r    17\n",
            "s    18\n",
            "t    19\n",
            "u    20\n",
            "v    21\n",
            "w    22\n",
            "x    23\n",
            "y    24\n",
            "z    25\n",
            "dtype: int64\n"
          ]
        }
      ],
      "source": [
        "import pandas as pd\n",
        "import numpy as np\n",
        "\n",
        "mylist = list('abcedfghijklmnopqrstuvwxyz')\n",
        "s1 = pd.Series(mylist)\n",
        "print(s1)\n",
        "\n",
        "myarr = np.arange(26)\n",
        "s2 = pd.Series(myarr)\n",
        "print(s2)\n",
        "\n",
        "\n",
        "mydict = dict(zip(mylist, myarr))\n",
        "\n",
        "s3 = pd.Series(mydict)\n",
        "print(s3)"
      ]
    },
    {
      "cell_type": "markdown",
      "metadata": {
        "id": "PoxUYAzCGxnn"
      },
      "source": [
        "Problem 3\n",
        "\n",
        "Convert the series ser into a dataframe with its index as another column on the dataframe.\n",
        "\n",
        "Input\n",
        "\n",
        "```\n",
        "mylist = list('abcedfghijklmnopqrstuvwxyz')\n",
        "myarr = np.arange(26)\n",
        "mydict = dict(zip(mylist, myarr))\n",
        "ser = pd.Series(mydict)\n",
        "```"
      ]
    },
    {
      "cell_type": "code",
      "execution_count": null,
      "metadata": {
        "id": "7MBTbiO6HFBQ",
        "outputId": "0e61fe27-acb8-4ec4-bb46-93a4a7572c61"
      },
      "outputs": [
        {
          "name": "stdout",
          "output_type": "stream",
          "text": [
            "   index   0\n",
            "0      a   0\n",
            "1      b   1\n",
            "2      c   2\n",
            "3      e   3\n",
            "4      d   4\n",
            "5      f   5\n",
            "6      g   6\n",
            "7      h   7\n",
            "8      i   8\n",
            "9      j   9\n",
            "10     k  10\n",
            "11     l  11\n",
            "12     m  12\n",
            "13     n  13\n",
            "14     o  14\n",
            "15     p  15\n",
            "16     q  16\n",
            "17     r  17\n",
            "18     s  18\n",
            "19     t  19\n",
            "20     u  20\n",
            "21     v  21\n",
            "22     w  22\n",
            "23     x  23\n",
            "24     y  24\n",
            "25     z  25\n"
          ]
        }
      ],
      "source": [
        "import pandas as pd\n",
        "import numpy as np\n",
        "\n",
        "mylist = list('abcedfghijklmnopqrstuvwxyz')\n",
        "myarr = np.arange(26)\n",
        "mydict = dict(zip(mylist, myarr))\n",
        "\n",
        "ser = pd.Series(mydict)\n",
        "\n",
        "df = ser.reset_index()\n",
        "\n",
        "print(df)"
      ]
    },
    {
      "cell_type": "markdown",
      "metadata": {
        "id": "mgp9zTO_HFui"
      },
      "source": [
        "Problem 4\n",
        "\n",
        "Combine ser1 and ser2 to form a dataframe.\n",
        "\n",
        "Input:\n",
        "\n",
        "```\n",
        "import numpy as np\n",
        "ser1 = pd.Series(list('abcedfghijklmnopqrstuvwxyz'))\n",
        "ser2 = pd.Series(np.arange(26))\n",
        "```"
      ]
    },
    {
      "cell_type": "code",
      "execution_count": null,
      "metadata": {
        "id": "DjMiWJYTHN78",
        "outputId": "de3fcfbb-f56d-4b19-c599-7c9478c8126a"
      },
      "outputs": [
        {
          "name": "stdout",
          "output_type": "stream",
          "text": [
            "   col1  col2\n",
            "0     a     0\n",
            "1     b     1\n",
            "2     c     2\n",
            "3     e     3\n",
            "4     d     4\n",
            "5     f     5\n",
            "6     g     6\n",
            "7     h     7\n",
            "8     i     8\n",
            "9     j     9\n",
            "10    k    10\n",
            "11    l    11\n",
            "12    m    12\n",
            "13    n    13\n",
            "14    o    14\n",
            "15    p    15\n",
            "16    q    16\n",
            "17    r    17\n",
            "18    s    18\n",
            "19    t    19\n",
            "20    u    20\n",
            "21    v    21\n",
            "22    w    22\n",
            "23    x    23\n",
            "24    y    24\n",
            "25    z    25\n"
          ]
        }
      ],
      "source": [
        "import pandas as pd\n",
        "import numpy as np\n",
        "\n",
        "ser1 = pd.Series(list('abcedfghijklmnopqrstuvwxyz'))\n",
        "ser2 = pd.Series(np.arange(26))\n",
        "\n",
        "df = pd.DataFrame({'col1': ser1, 'col2': ser2})\n",
        "print(df)"
      ]
    },
    {
      "cell_type": "markdown",
      "metadata": {
        "id": "OGf22CHDHZAy"
      },
      "source": [
        "Problem 5\n",
        "\n",
        "Get all items of ser1 and ser2 not common to both.\n",
        "\n",
        "Input\n",
        "\n",
        "```\n",
        "ser1 = pd.Series([1, 2, 3, 4, 5])\n",
        "ser2 = pd.Series([4, 5, 6, 7, 8])\n",
        "```"
      ]
    },
    {
      "cell_type": "code",
      "execution_count": null,
      "metadata": {
        "id": "MvR84lDHHg8b",
        "outputId": "bf38ea52-1265-43c3-b517-6a32e9605d20"
      },
      "outputs": [
        {
          "name": "stdout",
          "output_type": "stream",
          "text": [
            "0    1\n",
            "1    2\n",
            "2    3\n",
            "2    6\n",
            "3    7\n",
            "4    8\n",
            "dtype: int64\n"
          ]
        }
      ],
      "source": [
        "import pandas as pd\n",
        "\n",
        "ser1 = pd.Series([1, 2, 3, 4, 5])\n",
        "ser2 = pd.Series([4, 5, 6, 7, 8])\n",
        "\n",
        "not_common_to_both = ser1[~ser1.isin(ser2)].append(ser2[~ser2.isin(ser1)])\n",
        "print(not_common_to_both)"
      ]
    },
    {
      "cell_type": "markdown",
      "metadata": {
        "id": "itVvQgIaHhl6"
      },
      "source": [
        "Problem 6\n",
        "\n",
        "Compute the minimum, 25th percentile, median, 75th, and maximum of ser.\n",
        "\n",
        "Input\n",
        "\n",
        "```\n",
        "ser = pd.Series(np.random.normal(10, 5, 25))\n",
        "\n",
        "```"
      ]
    },
    {
      "cell_type": "code",
      "execution_count": null,
      "metadata": {
        "id": "h-pmzlx0HtYj",
        "outputId": "ad87bd11-f6ca-487a-c046-a61f9f057248"
      },
      "outputs": [
        {
          "name": "stdout",
          "output_type": "stream",
          "text": [
            "Minimum: 3.513226213813737\n",
            "25th percentile: 6.12860346378741\n",
            "Median: 9.57500567759903\n",
            "75th percentile: 11.514300156219909\n",
            "Maximum: 17.3027910283219\n"
          ]
        }
      ],
      "source": [
        "import pandas as pd\n",
        "import numpy as np\n",
        "\n",
        "ser = pd.Series(np.random.normal(10, 5, 25))\n",
        "\n",
        "summary = ser.describe(percentiles=[0.25, 0.5, 0.75])\n",
        "\n",
        "min_val = summary['min']\n",
        "q1 = summary['25%']\n",
        "median = summary['50%']\n",
        "q3 = summary['75%']\n",
        "max_val = summary['max']\n",
        "\n",
        "print(\"Minimum:\", min_val)\n",
        "print(\"25th percentile:\", q1)\n",
        "print(\"Median:\", median)\n",
        "print(\"75th percentile:\", q3)\n",
        "print(\"Maximum:\", max_val)"
      ]
    },
    {
      "cell_type": "markdown",
      "metadata": {
        "id": "C_UfolFQHyF4"
      },
      "source": [
        "Problem 7\n",
        "\n",
        "Calculte the frequency counts of each unique value ser.\n",
        "\n",
        "Input\n",
        "\n",
        "```\n",
        "ser = pd.Series(np.take(list('abcdefgh'), np.random.randint(8, size=30)))\n",
        "```"
      ]
    },
    {
      "cell_type": "code",
      "execution_count": null,
      "metadata": {
        "id": "5Y-zWyihH6nU",
        "outputId": "184d16cc-e1a2-4e05-c4ff-a6d8f03bce2a"
      },
      "outputs": [
        {
          "name": "stdout",
          "output_type": "stream",
          "text": [
            "h    6\n",
            "f    4\n",
            "e    4\n",
            "b    4\n",
            "a    4\n",
            "d    3\n",
            "c    3\n",
            "g    2\n",
            "dtype: int64\n"
          ]
        }
      ],
      "source": [
        "import pandas as pd\n",
        "import numpy as np\n",
        "\n",
        "ser = pd.Series(np.take(list('abcdefgh'), np.random.randint(8, size=30)))\n",
        "\n",
        "freq_counts = ser.value_counts()\n",
        "\n",
        "print(freq_counts)"
      ]
    },
    {
      "cell_type": "markdown",
      "metadata": {
        "id": "iQ2chjjtH_pe"
      },
      "source": [
        "Problem 8\n",
        "\n",
        "From ser, keep the top 2 most frequent items as it is and replace everything else as ‘Other’.\n",
        "\n",
        "Input\n",
        "\n",
        "```\n",
        "\n",
        "np.random.RandomState(100)\n",
        "ser = pd.Series(np.random.randint(1, 5, [12]))\n",
        "```"
      ]
    },
    {
      "cell_type": "code",
      "execution_count": null,
      "metadata": {
        "id": "DgcUSiSDIDxK",
        "colab": {
          "base_uri": "https://localhost:8080/"
        },
        "outputId": "a55c3493-9a3d-495d-add2-a71ca1552852"
      },
      "outputs": [
        {
          "output_type": "stream",
          "name": "stdout",
          "text": [
            "Int64Index([4, 1], dtype='int64')\n",
            "0         4\n",
            "1         4\n",
            "2     Other\n",
            "3         4\n",
            "4         4\n",
            "5         1\n",
            "6         1\n",
            "7         4\n",
            "8     Other\n",
            "9         1\n",
            "10    Other\n",
            "11        1\n",
            "dtype: object\n"
          ]
        }
      ],
      "source": [
        "import pandas as pd\n",
        "import numpy as np\n",
        "\n",
        "np.random.RandomState(100)\n",
        "ser = pd.Series(np.random.randint(1, 5, [12]))\n",
        "\n",
        "top_two = ser.value_counts().head(2).index\n",
        "print(top_two)\n",
        "\n",
        "ser[~ser.isin(top_two)] = 'Other'\n",
        "\n",
        "print(ser)"
      ]
    },
    {
      "cell_type": "markdown",
      "metadata": {
        "id": "oNgI4HanIMX0"
      },
      "source": [
        "Problem 9\n",
        "\n",
        "Bin the series ser into 10 equal deciles and replace the values with the bin name.\n",
        "\n",
        "Input\n",
        "```\n",
        "ser = pd.Series(np.random.random(20))\n",
        "```\n",
        "Desired Output\n",
        "\n",
        "```\n",
        "# First 5 items\n",
        "0    7th\n",
        "1    9th\n",
        "2    7th\n",
        "3    3rd\n",
        "4    8th\n",
        "dtype: category\n",
        "Categories (10, object): [1st < 2nd < 3rd < 4th ... 7th < 8th < 9th < 10th]\n",
        "```"
      ]
    },
    {
      "cell_type": "code",
      "execution_count": null,
      "metadata": {
        "id": "N-omd50TITJH",
        "outputId": "ca8bfd05-778f-456a-ead8-0c48553d1fa4"
      },
      "outputs": [
        {
          "name": "stdout",
          "output_type": "stream",
          "text": [
            "5     6th\n",
            "9    10th\n",
            "0     1th\n",
            "4     5th\n",
            "2     3th\n",
            "dtype: object\n"
          ]
        }
      ],
      "source": [
        "import pandas as pd\n",
        "import numpy as np\n",
        "\n",
        "\n",
        "np.random.seed(1)\n",
        "\n",
        "\n",
        "ser = pd.Series(np.random.random(20))\n",
        "\n",
        "\n",
        "bins = pd.qcut(ser, q=10, labels=False)\n",
        "labels = [f'{i+1}th' for i in range(10)]\n",
        "binned = pd.Series(labels)[bins.values]\n",
        "\n",
        "\n",
        "print(binned.head())"
      ]
    },
    {
      "cell_type": "markdown",
      "metadata": {
        "id": "dmbKsLjMIXGe"
      },
      "source": [
        "Problem 10\n",
        "\n",
        "Reshape the series ser into a dataframe with 7 rows and 5 columns\n",
        "\n",
        "Input\n",
        "\n",
        "```\n",
        "ser = pd.Series(np.random.randint(1, 10, 35))\n",
        "```"
      ]
    },
    {
      "cell_type": "code",
      "execution_count": null,
      "metadata": {
        "id": "oL1_q6NxIa96",
        "outputId": "8b67e385-bf2c-4abb-cd42-3a29ffa0bd46"
      },
      "outputs": [
        {
          "name": "stdout",
          "output_type": "stream",
          "text": [
            "   0  1  2  3  4\n",
            "0  8  7  2  1  2\n",
            "1  9  9  4  9  8\n",
            "2  4  7  6  2  4\n",
            "3  5  9  2  5  1\n",
            "4  4  3  1  5  3\n",
            "5  8  8  9  7  4\n",
            "6  8  8  5  6  4\n"
          ]
        }
      ],
      "source": [
        "import pandas as pd\n",
        "\n",
        "ser = pd.Series(np.random.randint(1, 10, 35))\n",
        "\n",
        "df = pd.DataFrame(ser.values.reshape(7, 5))\n",
        "\n",
        "print(df)"
      ]
    },
    {
      "cell_type": "markdown",
      "metadata": {
        "id": "r25bXiieIhMN"
      },
      "source": [
        "Problem 11 \n",
        "\n",
        "Find the positions of numbers that are multiples of 3 from ser.\n",
        "\n",
        "Input\n",
        "\n",
        "```\n",
        "ser = pd.Series(np.random.randint(1, 10, 7))\n",
        "```"
      ]
    },
    {
      "cell_type": "code",
      "execution_count": null,
      "metadata": {
        "id": "Sa4OR2HNIkrw",
        "outputId": "11795ba8-7f99-4e8b-8e0d-079f8a877bd2"
      },
      "outputs": [
        {
          "name": "stdout",
          "output_type": "stream",
          "text": [
            "(array([1, 3], dtype=int64),)\n"
          ]
        }
      ],
      "source": [
        "ser = pd.Series(np.random.randint(1, 10, 7))\n",
        "positions = np.where(ser % 3 == 0)\n",
        "print(positions)"
      ]
    },
    {
      "cell_type": "markdown",
      "metadata": {
        "id": "rL8B1cy2Ila9"
      },
      "source": [
        "Problem 12\n",
        "\n",
        "Stack ser1 and ser2 vertically and horizontally (to form a dataframe).\n",
        "\n",
        "Input\n",
        "\n",
        "```\n",
        "ser1 = pd.Series(range(5))\n",
        "ser2 = pd.Series(list('abcde'))\n",
        "```"
      ]
    },
    {
      "cell_type": "code",
      "execution_count": null,
      "metadata": {
        "id": "HELmwXrsLDwt",
        "outputId": "79c97350-f65f-4f8f-ff5f-eabec547ad8d"
      },
      "outputs": [
        {
          "name": "stdout",
          "output_type": "stream",
          "text": [
            "0    0\n",
            "1    1\n",
            "2    2\n",
            "3    3\n",
            "4    4\n",
            "0    a\n",
            "1    b\n",
            "2    c\n",
            "3    d\n",
            "4    e\n",
            "dtype: object\n",
            "   0  1\n",
            "0  0  a\n",
            "1  1  b\n",
            "2  2  c\n",
            "3  3  d\n",
            "4  4  e\n"
          ]
        }
      ],
      "source": [
        "import pandas as pd\n",
        "\n",
        "ser1 = pd.Series(range(5))\n",
        "ser2 = pd.Series(list('abcde'))\n",
        "\n",
        "# Stack ser1 and ser2 vertically\n",
        "df_vertical = pd.concat([ser1, ser2], axis=0)\n",
        "print(df_vertical)\n",
        "\n",
        "# Stack ser1 and ser2 horizontally\n",
        "df_horizontal = pd.concat([ser1, ser2], axis=1)\n",
        "print(df_horizontal)\n",
        "\n",
        "\n",
        "\n",
        "\n"
      ]
    },
    {
      "cell_type": "markdown",
      "metadata": {
        "id": "0mSb7fBROfYw"
      },
      "source": [
        "Problem 13\n",
        "\n",
        "Stack ser1 and ser2 vertically and horizontally (to form a dataframe).\n",
        "\n",
        "Input\n",
        "```\n",
        "ser1 = pd.Series(range(5))\n",
        "ser2 = pd.Series(list('abcde'))\n",
        "```"
      ]
    },
    {
      "cell_type": "code",
      "execution_count": null,
      "metadata": {
        "id": "e1AgGPCxOi1c",
        "outputId": "7a2ccd13-3eed-4d80-cb46-a31664d0aef3"
      },
      "outputs": [
        {
          "name": "stdout",
          "output_type": "stream",
          "text": [
            "0    0\n",
            "1    1\n",
            "2    2\n",
            "3    3\n",
            "4    4\n",
            "0    a\n",
            "1    b\n",
            "2    c\n",
            "3    d\n",
            "4    e\n",
            "dtype: object\n",
            "   0  1\n",
            "0  0  a\n",
            "1  1  b\n",
            "2  2  c\n",
            "3  3  d\n",
            "4  4  e\n"
          ]
        }
      ],
      "source": [
        "import pandas as pd\n",
        "\n",
        "ser1 = pd.Series(range(5))\n",
        "ser2 = pd.Series(list('abcde'))\n",
        "\n",
        "# Stack ser1 and ser2 vertically\n",
        "df_vertical = pd.concat([ser1, ser2], axis=0)\n",
        "print(df_vertical)\n",
        "\n",
        "# Stack ser1 and ser2 horizontally\n",
        "df_horizontal = pd.concat([ser1, ser2], axis=1)\n",
        "print(df_horizontal)"
      ]
    },
    {
      "cell_type": "markdown",
      "metadata": {
        "id": "CUpLrTnHPWlJ"
      },
      "source": [
        "Problem 14\n",
        "\n",
        "\n",
        "Get the day of month, week number, day of year and day of week from ser.\n",
        "\n",
        "Input\n",
        "```\n",
        "ser = pd.Series(['01 Jan 2010', '02-02-2011', '20120303', '2013/04/04', '2014-05-05', '2015-06-06T12:20'])\n",
        "```\n",
        "Desired output\n",
        "```\n",
        "Date:  [1, 2, 3, 4, 5, 6]\n",
        "Week number:  [53, 5, 9, 14, 19, 23]\n",
        "Day num of year:  [1, 33, 63, 94, 125, 157]\n",
        "Day of week:  ['Friday', 'Wednesday', 'Saturday', 'Thursday', 'Monday', 'Saturday']\n",
        "```"
      ]
    },
    {
      "cell_type": "code",
      "execution_count": null,
      "metadata": {
        "id": "hMbDsbcWPbYg",
        "outputId": "5efef353-d4c7-4ac3-df4b-b164d10e5147"
      },
      "outputs": [
        {
          "name": "stdout",
          "output_type": "stream",
          "text": [
            "Day of month:  [1, 2, 3, 4, 5, 6]\n",
            "Week number:  [53, 5, 9, 14, 19, 23]\n",
            "Day num of year:  [1, 33, 63, 94, 125, 157]\n",
            "Day of week:  ['Friday', 'Wednesday', 'Saturday', 'Thursday', 'Monday', 'Saturday']\n"
          ]
        },
        {
          "name": "stderr",
          "output_type": "stream",
          "text": [
            "<ipython-input-26-0ff7fedc643a>:10: FutureWarning: Series.dt.weekofyear and Series.dt.week have been deprecated.  Please use Series.dt.isocalendar().week instead.\n",
            "  week_number = dates.dt.week.tolist()\n"
          ]
        }
      ],
      "source": [
        "import pandas as pd\n",
        "\n",
        "ser = pd.Series(['01 Jan 2010', '02-02-2011', '20120303', '2013/04/04', '2014-05-05', '2015-06-06T12:20'])\n",
        "\n",
        "# Convert the series to a datetime series\n",
        "dates = pd.to_datetime(ser)\n",
        "\n",
        "# Extract the required information\n",
        "day_of_month = dates.dt.day.tolist()\n",
        "week_number = dates.dt.week.tolist()\n",
        "day_num_of_year = dates.dt.dayofyear.tolist()\n",
        "day_of_week = dates.dt.day_name().tolist()\n",
        "\n",
        "# Print the results\n",
        "print(\"Day of month: \", day_of_month)\n",
        "print(\"Week number: \", week_number)\n",
        "print(\"Day num of year: \", day_num_of_year)\n",
        "print(\"Day of week: \", day_of_week)"
      ]
    },
    {
      "cell_type": "markdown",
      "metadata": {
        "id": "XQnptv29Pi85"
      },
      "source": [
        "Problem 15\n",
        "\n",
        "From ser, extract words that contain atleast 2 vowels.\n",
        "\n",
        "Input\n",
        "```\n",
        "ser = pd.Series(['Apple', 'Orange', 'Plan', 'Python', 'Money'])\n",
        "```\n",
        "\n",
        "Desired Output\n",
        "```\n",
        "0     Apple\n",
        "1    Orange\n",
        "4     Money\n",
        "dtype: object\n",
        "```"
      ]
    },
    {
      "cell_type": "code",
      "execution_count": null,
      "metadata": {
        "id": "Row625dURklN",
        "outputId": "d6d94f0b-fef2-49e1-945d-efdb893197fe"
      },
      "outputs": [
        {
          "name": "stdout",
          "output_type": "stream",
          "text": [
            "1    Orange\n",
            "4     Money\n",
            "dtype: object\n"
          ]
        }
      ],
      "source": [
        "ser = pd.Series(['Apple', 'Orange', 'Plan', 'Python', 'Money'])\n",
        "output = ser[ser.str.count('[aeiou]') >= 2]\n",
        "print(output)"
      ]
    },
    {
      "cell_type": "markdown",
      "metadata": {
        "id": "TF4K04NjUzgB"
      },
      "source": [
        "Problem 16\n",
        "\n",
        "\n",
        "Check if df has any missing values.\n",
        "\n",
        "Input\n",
        "\n",
        "```\n",
        "df = pd.read_csv('https://raw.githubusercontent.com/selva86/datasets/master/Cars93_miss.csv')\n",
        "```"
      ]
    },
    {
      "cell_type": "code",
      "execution_count": null,
      "metadata": {
        "id": "ly7WDYqwVFb-",
        "outputId": "059bb9ee-6b8c-4d48-c303-dffb9082549d"
      },
      "outputs": [
        {
          "data": {
            "text/plain": [
              "True"
            ]
          },
          "execution_count": 28,
          "metadata": {},
          "output_type": "execute_result"
        }
      ],
      "source": [
        "df = pd.read_csv('https://raw.githubusercontent.com/selva86/datasets/master/Cars93_miss.csv')\n",
        "df.isna().any().any()"
      ]
    },
    {
      "cell_type": "markdown",
      "metadata": {
        "id": "-n_dA4hOVMN7"
      },
      "source": [
        "Problem 17\n",
        "\n",
        "Count the number of missing values in each column of df. Which column has the maximum number of missing values?\n",
        "\n",
        "Input\n",
        "```\n",
        "df = pd.read_csv('https://raw.githubusercontent.com/selva86/datasets/master/Cars93_miss.csv')\n",
        "```"
      ]
    },
    {
      "cell_type": "code",
      "execution_count": null,
      "metadata": {
        "id": "p-VI35v_VOwU",
        "outputId": "34484ba2-1734-4d03-8d04-e7371b60cdc0"
      },
      "outputs": [
        {
          "name": "stdout",
          "output_type": "stream",
          "text": [
            "Number of missing values in each column:\n",
            "Manufacturer           4\n",
            "Model                  1\n",
            "Type                   3\n",
            "Min.Price              7\n",
            "Price                  2\n",
            "Max.Price              5\n",
            "MPG.city               9\n",
            "MPG.highway            2\n",
            "AirBags                6\n",
            "DriveTrain             7\n",
            "Cylinders              5\n",
            "EngineSize             2\n",
            "Horsepower             7\n",
            "RPM                    3\n",
            "Rev.per.mile           6\n",
            "Man.trans.avail        5\n",
            "Fuel.tank.capacity     8\n",
            "Passengers             2\n",
            "Length                 4\n",
            "Wheelbase              1\n",
            "Width                  6\n",
            "Turn.circle            5\n",
            "Rear.seat.room         4\n",
            "Luggage.room          19\n",
            "Weight                 7\n",
            "Origin                 5\n",
            "Make                   3\n",
            "dtype: int64\n",
            "\n",
            "Column with maximum missing values: Luggage.room\n"
          ]
        }
      ],
      "source": [
        "import pandas as pd\n",
        "\n",
        "df = pd.read_csv('https://raw.githubusercontent.com/selva86/datasets/master/Cars93_miss.csv')\n",
        "\n",
        "\n",
        "missing_counts = df.isna().sum()\n",
        "\n",
        "\n",
        "max_missing_column = missing_counts.idxmax()\n",
        "\n",
        "print(\"Number of missing values in each column:\")\n",
        "print(missing_counts)\n",
        "print(f\"\\nColumn with maximum missing values: {max_missing_column}\")"
      ]
    },
    {
      "cell_type": "markdown",
      "metadata": {
        "id": "dJxb3GJEVVyX"
      },
      "source": [
        "Problem 18\n",
        "\n",
        "Replace missing values in Min.Price and Max.Price columns with their respective mean.\n",
        "\n",
        "Input\n",
        "\n",
        "```\n",
        "df = pd.read_csv('https://raw.githubusercontent.com/selva86/datasets/master/Cars93_miss.csv')\n",
        "```"
      ]
    },
    {
      "cell_type": "code",
      "execution_count": null,
      "metadata": {
        "id": "-tkl2yDeVar3"
      },
      "outputs": [],
      "source": [
        "df = pd.read_csv('https://raw.githubusercontent.com/selva86/datasets/master/Cars93_miss.csv')\n",
        "\n",
        "# Calculate the mean of each column\n",
        "mean_min_price = df['Min.Price'].mean()\n",
        "mean_max_price = df['Max.Price'].mean()\n",
        "\n",
        "# Fill missing values with the respective means\n",
        "df['Min.Price'].fillna(mean_min_price, inplace=True)\n",
        "df['Max.Price'].fillna(mean_max_price, inplace=True)"
      ]
    },
    {
      "cell_type": "markdown",
      "metadata": {
        "id": "rRiisy9Z1nWI"
      },
      "source": [
        "Problem 19\n",
        "\n",
        "In df, use apply method to replace the missing values in Min.Price with the column’s mean and those in Max.Price with the column’s median.\n",
        "\n",
        "Input\n",
        "\n",
        "```\n",
        "df = pd.read_csv('https://raw.githubusercontent.com/selva86/datasets/master/Cars93_miss.csv')\n",
        "\n",
        "```"
      ]
    },
    {
      "cell_type": "code",
      "execution_count": null,
      "metadata": {
        "id": "8DhwD67Y2ECu"
      },
      "outputs": [],
      "source": [
        "\n",
        "df = pd.read_csv('https://raw.githubusercontent.com/selva86/datasets/master/Cars93_miss.csv')\n",
        "\n",
        "df['Min.Price'] = df['Min.Price'].apply(lambda x: df['Min.Price'].mean() if pd.isna(x) else x)\n",
        "df['Max.Price'] = df['Max.Price'].apply(lambda x: df['Max.Price'].median() if pd.isna(x) else x)\n",
        "\n"
      ]
    },
    {
      "cell_type": "markdown",
      "metadata": {
        "id": "tSatW9hL2Mqw"
      },
      "source": [
        "Problem 20\n",
        "\n",
        "Get the first column (a) in df as a dataframe (rather than as a Series).\n",
        "\n",
        "Input\n",
        "\n",
        "```\n",
        "df = pd.DataFrame(np.arange(20).reshape(-1, 5), columns=list('abcde'))\n",
        "```"
      ]
    },
    {
      "cell_type": "code",
      "execution_count": null,
      "metadata": {
        "id": "ZUdJDy_92XsA",
        "outputId": "0c2aa36b-9edf-4504-f9b2-cbbc8f630788"
      },
      "outputs": [
        {
          "data": {
            "text/html": [
              "<div>\n",
              "<style scoped>\n",
              "    .dataframe tbody tr th:only-of-type {\n",
              "        vertical-align: middle;\n",
              "    }\n",
              "\n",
              "    .dataframe tbody tr th {\n",
              "        vertical-align: top;\n",
              "    }\n",
              "\n",
              "    .dataframe thead th {\n",
              "        text-align: right;\n",
              "    }\n",
              "</style>\n",
              "<table border=\"1\" class=\"dataframe\">\n",
              "  <thead>\n",
              "    <tr style=\"text-align: right;\">\n",
              "      <th></th>\n",
              "      <th>a</th>\n",
              "    </tr>\n",
              "  </thead>\n",
              "  <tbody>\n",
              "    <tr>\n",
              "      <th>0</th>\n",
              "      <td>0</td>\n",
              "    </tr>\n",
              "    <tr>\n",
              "      <th>1</th>\n",
              "      <td>5</td>\n",
              "    </tr>\n",
              "    <tr>\n",
              "      <th>2</th>\n",
              "      <td>10</td>\n",
              "    </tr>\n",
              "    <tr>\n",
              "      <th>3</th>\n",
              "      <td>15</td>\n",
              "    </tr>\n",
              "  </tbody>\n",
              "</table>\n",
              "</div>"
            ],
            "text/plain": [
              "    a\n",
              "0   0\n",
              "1   5\n",
              "2  10\n",
              "3  15"
            ]
          },
          "execution_count": 6,
          "metadata": {},
          "output_type": "execute_result"
        }
      ],
      "source": [
        "import numpy as np\n",
        "df = pd.DataFrame(np.arange(20).reshape(-1, 5), columns=list('abcde'))\n",
        "df[['a']]"
      ]
    },
    {
      "cell_type": "markdown",
      "metadata": {
        "id": "UeFli2122eto"
      },
      "source": [
        "Problem 21\n",
        "\n",
        "1 - In df, interchange columns 'a' and 'c'.\n",
        "\n",
        "2 - Create a generic function to interchange two columns, without hardcoding column names.\n",
        "\n",
        "3 - Sort the columns in reverse alphabetical order, that is colume 'e' first through column 'a' last.\n",
        "\n",
        "Input\n",
        "\n",
        "```\n",
        "\n",
        "df = pd.DataFrame(np.arange(20).reshape(-1, 5), columns=list('abcde'))\n",
        "```"
      ]
    },
    {
      "cell_type": "code",
      "execution_count": null,
      "metadata": {
        "id": "Yv3hajlx2pA_",
        "outputId": "e9666cf4-5d74-4928-eab3-7cbf15e9213c"
      },
      "outputs": [
        {
          "data": {
            "text/html": [
              "<div>\n",
              "<style scoped>\n",
              "    .dataframe tbody tr th:only-of-type {\n",
              "        vertical-align: middle;\n",
              "    }\n",
              "\n",
              "    .dataframe tbody tr th {\n",
              "        vertical-align: top;\n",
              "    }\n",
              "\n",
              "    .dataframe thead th {\n",
              "        text-align: right;\n",
              "    }\n",
              "</style>\n",
              "<table border=\"1\" class=\"dataframe\">\n",
              "  <thead>\n",
              "    <tr style=\"text-align: right;\">\n",
              "      <th></th>\n",
              "      <th>e</th>\n",
              "      <th>d</th>\n",
              "      <th>c</th>\n",
              "      <th>b</th>\n",
              "      <th>a</th>\n",
              "    </tr>\n",
              "  </thead>\n",
              "  <tbody>\n",
              "    <tr>\n",
              "      <th>0</th>\n",
              "      <td>4</td>\n",
              "      <td>3</td>\n",
              "      <td>2</td>\n",
              "      <td>1</td>\n",
              "      <td>0</td>\n",
              "    </tr>\n",
              "    <tr>\n",
              "      <th>1</th>\n",
              "      <td>9</td>\n",
              "      <td>8</td>\n",
              "      <td>7</td>\n",
              "      <td>6</td>\n",
              "      <td>5</td>\n",
              "    </tr>\n",
              "    <tr>\n",
              "      <th>2</th>\n",
              "      <td>14</td>\n",
              "      <td>13</td>\n",
              "      <td>12</td>\n",
              "      <td>11</td>\n",
              "      <td>10</td>\n",
              "    </tr>\n",
              "    <tr>\n",
              "      <th>3</th>\n",
              "      <td>19</td>\n",
              "      <td>18</td>\n",
              "      <td>17</td>\n",
              "      <td>16</td>\n",
              "      <td>15</td>\n",
              "    </tr>\n",
              "  </tbody>\n",
              "</table>\n",
              "</div>"
            ],
            "text/plain": [
              "    e   d   c   b   a\n",
              "0   4   3   2   1   0\n",
              "1   9   8   7   6   5\n",
              "2  14  13  12  11  10\n",
              "3  19  18  17  16  15"
            ]
          },
          "execution_count": 32,
          "metadata": {},
          "output_type": "execute_result"
        }
      ],
      "source": [
        "#1 - In df, interchange columns 'a' and 'c'.\n",
        "\n",
        "df = pd.DataFrame(np.arange(20).reshape(-1, 5), columns=list('abcde'))\n",
        "\n",
        "df[['c', 'b', 'a', 'd', 'e']]\n",
        "\n",
        "\n",
        "#2 - Create a generic function to interchange two columns, without hardcoding column names.\n",
        "\n",
        "\n",
        "df = pd.DataFrame(np.arange(20).reshape(-1, 5), columns=list('abcde'))\n",
        "\n",
        "def swap_columns(df, col1, col2):\n",
        "    colnames = df.columns.tolist()\n",
        "    i1, i2 = colnames.index(col1), colnames.index(col2)\n",
        "    colnames[i2], colnames[i1] = colnames[i1], colnames[i2]\n",
        "    return df[colnames]\n",
        "\n",
        "swap_columns(df, 'a', 'c')\n",
        "\n",
        "#3- Sort the columns in reverse alphabetical order, that is colume 'e' first through column 'a' last.\n",
        "\n",
        "\n",
        "df = pd.DataFrame(np.arange(20).reshape(-1, 5), columns=list('abcde'))\n",
        "\n",
        "df[sorted(df.columns, reverse=True)]\n"
      ]
    },
    {
      "cell_type": "markdown",
      "metadata": {
        "id": "dwt6lJbE6Gmq"
      },
      "source": [
        "Problem 22\n",
        "\n",
        "From df, filter the 'Manufacturer', 'Model' and 'Type' for every 20th row starting from 1st (row 0).\n",
        "\n",
        "Input\n",
        "\n",
        "```\n",
        "df = pd.read_csv('https://raw.githubusercontent.com/selva86/datasets/master/Cars93_miss.csv')\n",
        "```"
      ]
    },
    {
      "cell_type": "code",
      "execution_count": null,
      "metadata": {
        "id": "KAGjjRlF6LgU",
        "outputId": "e90d3c08-3b73-404c-e953-48c9c3646dd4"
      },
      "outputs": [
        {
          "data": {
            "text/html": [
              "<div>\n",
              "<style scoped>\n",
              "    .dataframe tbody tr th:only-of-type {\n",
              "        vertical-align: middle;\n",
              "    }\n",
              "\n",
              "    .dataframe tbody tr th {\n",
              "        vertical-align: top;\n",
              "    }\n",
              "\n",
              "    .dataframe thead th {\n",
              "        text-align: right;\n",
              "    }\n",
              "</style>\n",
              "<table border=\"1\" class=\"dataframe\">\n",
              "  <thead>\n",
              "    <tr style=\"text-align: right;\">\n",
              "      <th></th>\n",
              "      <th>Manufacturer</th>\n",
              "      <th>Type</th>\n",
              "      <th>Price</th>\n",
              "    </tr>\n",
              "  </thead>\n",
              "  <tbody>\n",
              "    <tr>\n",
              "      <th>0</th>\n",
              "      <td>Acura</td>\n",
              "      <td>Small</td>\n",
              "      <td>15.9</td>\n",
              "    </tr>\n",
              "    <tr>\n",
              "      <th>20</th>\n",
              "      <td>Chrysler</td>\n",
              "      <td>Compact</td>\n",
              "      <td>15.8</td>\n",
              "    </tr>\n",
              "    <tr>\n",
              "      <th>40</th>\n",
              "      <td>Honda</td>\n",
              "      <td>Sporty</td>\n",
              "      <td>19.8</td>\n",
              "    </tr>\n",
              "    <tr>\n",
              "      <th>60</th>\n",
              "      <td>Mercury</td>\n",
              "      <td>Midsize</td>\n",
              "      <td>14.9</td>\n",
              "    </tr>\n",
              "    <tr>\n",
              "      <th>80</th>\n",
              "      <td>Subaru</td>\n",
              "      <td>Small</td>\n",
              "      <td>10.9</td>\n",
              "    </tr>\n",
              "  </tbody>\n",
              "</table>\n",
              "</div>"
            ],
            "text/plain": [
              "   Manufacturer     Type  Price\n",
              "0         Acura    Small   15.9\n",
              "20     Chrysler  Compact   15.8\n",
              "40        Honda   Sporty   19.8\n",
              "60      Mercury  Midsize   14.9\n",
              "80       Subaru    Small   10.9"
            ]
          },
          "execution_count": 9,
          "metadata": {},
          "output_type": "execute_result"
        }
      ],
      "source": [
        "df = pd.read_csv('https://raw.githubusercontent.com/selva86/datasets/master/Cars93_miss.csv')\n",
        "df.iloc[::20, [0, 2, 4]]"
      ]
    },
    {
      "cell_type": "markdown",
      "metadata": {
        "id": "rAUiNmQO6MKX"
      },
      "source": [
        "Problem 23 \n",
        "\n",
        "Find the row position of the 5th largest value of column 'a' in df.\n",
        "\n",
        "Input\n",
        "\n",
        "```\n",
        "df = pd.DataFrame(np.random.randint(1, 30, 30).reshape(10,-1), columns=list('abc'))\n",
        "```"
      ]
    },
    {
      "cell_type": "code",
      "execution_count": null,
      "metadata": {
        "id": "54nyS3vg9gkv",
        "outputId": "56c6b2f9-0f00-42d5-8607-75989ce50f88"
      },
      "outputs": [
        {
          "name": "stdout",
          "output_type": "stream",
          "text": [
            "9\n"
          ]
        }
      ],
      "source": [
        "df = pd.DataFrame(np.random.randint(1, 30, 30).reshape(10,-1), columns=list('abc'))\n",
        "\n",
        "fifth_largest_pos = df['a'].argsort()[::-1][4]\n",
        "print(fifth_largest_pos)"
      ]
    },
    {
      "cell_type": "markdown",
      "metadata": {
        "id": "vlDs2IP19uLw"
      },
      "source": [
        "Problem 24 \n",
        "\n",
        "In ser, find the position of the 2nd largest value greater than the mean.\n",
        "\n",
        "Input\n",
        "```\n",
        "ser = pd.Series(np.random.randint(1, 100, 15))\n",
        "```"
      ]
    },
    {
      "cell_type": "code",
      "execution_count": null,
      "metadata": {
        "id": "WHhwrcE79xqA",
        "outputId": "a3f67b63-2e42-43b4-9c43-870b4115148f"
      },
      "outputs": [
        {
          "name": "stdout",
          "output_type": "stream",
          "text": [
            "Position of the 2nd largest value greater than the mean: 7\n"
          ]
        }
      ],
      "source": [
        "ser = pd.Series(np.random.randint(1, 100, 15))\n",
        "\n",
        "mean = ser.mean()\n",
        "\n",
        "new_ser = ser[ser > mean]\n",
        "\n",
        "sorted_ser = new_ser.sort_values(ascending=False)\n",
        "\n",
        "pos = sorted_ser.index[1]\n",
        "\n",
        "print(\"Position of the 2nd largest value greater than the mean:\", pos)"
      ]
    },
    {
      "cell_type": "markdown",
      "metadata": {
        "id": "pInnY5DR97_s"
      },
      "source": [
        "Problem 25\n",
        "\n",
        "\n",
        "Get one-hot encodings for column 'a' in the dataframe df and append it as columns.\n",
        "\n",
        "Input\n",
        "\n",
        "```\n",
        "df = pd.DataFrame(np.arange(25).reshape(5,-1), columns=list('abcde'))\n",
        "    a   b   c   d   e\n",
        "0   0   1   2   3   4\n",
        "1   5   6   7   8   9\n",
        "2  10  11  12  13  14\n",
        "3  15  16  17  18  19\n",
        "4  20  21  22  23  24\n",
        "```\n",
        "Output\n",
        "\n",
        "```\n",
        "   0  5  10  15  20   b   c   d   e\n",
        "0  1  0   0   0   0   1   2   3   4\n",
        "1  0  1   0   0   0   6   7   8   9\n",
        "2  0  0   1   0   0  11  12  13  14\n",
        "3  0  0   0   1   0  16  17  18  19\n",
        "4  0  0   0   0   1  21  22  23  24\n",
        "```"
      ]
    },
    {
      "cell_type": "code",
      "execution_count": null,
      "metadata": {
        "id": "Q-i2N-4n-Qj3",
        "outputId": "7794f4e1-a324-4184-9984-0539b6b45ffb"
      },
      "outputs": [
        {
          "name": "stdout",
          "output_type": "stream",
          "text": [
            "   0  5  10  15  20   b   c   d   e\n",
            "0  1  0   0   0   0   1   2   3   4\n",
            "1  0  1   0   0   0   6   7   8   9\n",
            "2  0  0   1   0   0  11  12  13  14\n",
            "3  0  0   0   1   0  16  17  18  19\n",
            "4  0  0   0   0   1  21  22  23  24\n"
          ]
        }
      ],
      "source": [
        "import pandas as pd\n",
        "\n",
        "df = pd.DataFrame(np.arange(25).reshape(5,-1), columns=list('abcde'))\n",
        "\n",
        "\n",
        "one_hot = pd.get_dummies(df['a'])\n",
        "\n",
        "result = pd.concat([one_hot, df.drop('a', axis=1)], axis=1)\n",
        "\n",
        "\n",
        "print(result)"
      ]
    },
    {
      "cell_type": "code",
      "execution_count": null,
      "metadata": {
        "id": "oLE8Phvo3Z8C"
      },
      "outputs": [],
      "source": []
    }
  ],
  "metadata": {
    "colab": {
      "provenance": []
    },
    "kernelspec": {
      "display_name": "Python 3",
      "language": "python",
      "name": "python3"
    },
    "language_info": {
      "codemirror_mode": {
        "name": "ipython",
        "version": 3
      },
      "file_extension": ".py",
      "mimetype": "text/x-python",
      "name": "python",
      "nbconvert_exporter": "python",
      "pygments_lexer": "ipython3",
      "version": "3.8.5"
    }
  },
  "nbformat": 4,
  "nbformat_minor": 0
}