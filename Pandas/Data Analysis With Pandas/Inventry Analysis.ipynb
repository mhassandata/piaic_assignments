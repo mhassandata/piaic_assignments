{
 "cells": [
  {
   "cell_type": "markdown",
   "id": "5ce8c903",
   "metadata": {},
   "source": [
    "# Readme First\n",
    "Petal Power Inventory\n",
    "You’re the lead data analyst for a chain of gardening stores called Petal Power. Help them analyze their inventory!\n",
    "\n",
    "If you get stuck during this project or would like to see an experienced developer work through it, click “Get Help“ to see a project walkthrough video.\n",
    "\n",
    "Answer Customer Emails\n",
    "1.\n",
    "Data for all of the locations of Petal Power is in the file inventory.csv. Load the data into a DataFrame called inventory.\n",
    "\n",
    "2.\n",
    "Inspect the first 10 rows of inventory.\n",
    "\n",
    "3.\n",
    "The first 10 rows represent data from your Staten Island location. Select these rows and save them to staten_island.\n",
    "\n",
    "4.\n",
    "A customer just emailed you asking what products are sold at your Staten Island location. Select the column product_description from staten_island and save it to the variable product_request.\n",
    "\n",
    "5.\n",
    "Another customer emails to ask what types of seeds are sold at the Brooklyn location.\n",
    "\n",
    "Select all rows where location is equal to Brooklyn and product_type is equal to seeds and save them to the variable seed_request\n",
    "\n",
    "\n",
    "\n",
    "Inventory\n",
    "6.\n",
    "Add a column to inventory called in_stock which is True if quantity is greater than 0 and False if quantity equals 0.\n",
    "\n",
    "7.\n",
    "Petal Power wants to know how valuable their current inventory is.\n",
    "\n",
    "Create a column called total_value that is equal to price multiplied by quantity.\n",
    "\n",
    "8.\n",
    "The Marketing department wants a complete description of each product for their catalog.\n",
    "\n",
    "The following lambda function combines product_type and product_description into a single string:\n",
    "\n",
    "combine_lambda = lambda row: \\\n",
    "    '{} - {}'.format(row.product_type,\n",
    "                     row.product_description)\n",
    "Paste this function into script.py.\n",
    "\n",
    "9.\n",
    "Using combine_lambda, create a new column in inventory called full_description that has the complete description of each product.\n"
   ]
  },
  {
   "cell_type": "code",
   "execution_count": 1,
   "id": "f81d6386",
   "metadata": {},
   "outputs": [],
   "source": [
    "# %load script.py\n",
    "# import codecademylib\n",
    "import pandas as pd"
   ]
  },
  {
   "cell_type": "code",
   "execution_count": 10,
   "id": "ac20550e",
   "metadata": {},
   "outputs": [],
   "source": [
    "inventory = pd.read_csv('inventory.csv')"
   ]
  },
  {
   "cell_type": "code",
   "execution_count": null,
   "id": "16947332",
   "metadata": {},
   "outputs": [],
   "source": []
  }
 ],
 "metadata": {
  "kernelspec": {
   "display_name": "Python 3",
   "language": "python",
   "name": "python3"
  },
  "language_info": {
   "codemirror_mode": {
    "name": "ipython",
    "version": 3
   },
   "file_extension": ".py",
   "mimetype": "text/x-python",
   "name": "python",
   "nbconvert_exporter": "python",
   "pygments_lexer": "ipython3",
   "version": "3.7.4"
  }
 },
 "nbformat": 4,
 "nbformat_minor": 5
}
