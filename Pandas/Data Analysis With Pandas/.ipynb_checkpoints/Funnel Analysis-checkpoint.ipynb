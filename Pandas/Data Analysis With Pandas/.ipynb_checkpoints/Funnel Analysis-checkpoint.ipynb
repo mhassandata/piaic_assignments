{
 "cells": [
  {
   "cell_type": "markdown",
   "id": "0c4a3ec3",
   "metadata": {},
   "source": [
    "Data files: cart.csv , checkout.csv , purchase.csv , visits.csv"
   ]
  },
  {
   "cell_type": "markdown",
   "id": "0fe4ca63",
   "metadata": {},
   "source": [
    "# Page Visits Funnel\n",
    "\n",
    "Cool T-Shirts Inc. has asked you to analyze data on visits to their website. \n",
    "Your job is to build a funnel,which is a description of how many people continue to the next step of a multi-step process.\n",
    "\n",
    "In this case, our funnel is going to describe the following process:\n",
    "\n",
    "A user visits CoolTShirts.com\n",
    "A user adds a t-shirt to their cart\n",
    "A user clicks “checkout”\n",
    "A user actually purchases a t-shirt\n",
    "\n",
    "Funnel for Cool T-Shirts Inc.\n",
    "\n",
    "1.Inspect the DataFrames using print and head:\n",
    "\n",
    "    - visits lists all of the users who have visited the website\n",
    "    - cart lists all of the users who have added a t-shirt to their cart\n",
    "    - checkout lists all of the users who have started the checkout\n",
    "    - purchase lists all of the users who have purchased a t-shirt\n",
    "\n",
    "2. Combine visits and cart using a left merge.\n",
    "\n",
    "\n",
    "3. How long is your merged DataFrame?\n",
    "\n",
    "\n",
    "4. How many of the timestamps are null for the column cart_time?\n",
    "\n",
    "    What do these null rows mean?\n",
    "\n",
    "\n",
    "5. What percent of users who visited Cool T-Shirts Inc. ended up not placing a t-shirt in their cart?\n",
    "\n",
    "Note: To calculate percentages, it will be helpful to turn either the numerator or the denominator into a float,\n",
    "by using float(), with the number to convert passed in as input. Otherwise, Python will use integer division, which \n",
    "truncates decimal points.\n",
    "\n",
    "\n",
    "6. Repeat the left merge for cart and checkout and count null values. What percentage of users put items in their cart, \n",
    "but did not proceed to checkout?\n",
    "\n",
    "\n",
    "7. Merge all four steps of the funnel, in order, using a series of left merges. Save the results to the variable all_data.\n",
    "\n",
    "    Examine the result using print and head\n",
    "\n",
    "\n",
    "8. What percentage of users proceeded to checkout, but did not purchase a t-shirt?\n",
    "\n",
    "9. Which step of the funnel is weakest (i.e., has the highest percentage of users not completing it)?\n",
    "\n",
    "How might Cool T-Shirts Inc. change their website to fix this problem?\n",
    "\n",
    "### Average Time to Purchase\n",
    "10. Using the giant merged DataFrame all_data that you created, let’s calculate the average time from initial visit to\n",
    "    final purchase. \n",
    "    Start by adding the following column to your DataFrame:\n",
    "\n",
    "all_data['time_to_purchase'] = all_data.purchase_time - all_data.visit_time\n",
    "\n",
    "11. Examine the results using:\n",
    "\n",
    "    print(all_data.time_to_purchase)\n",
    "\n",
    "12. Calculate the average time to purchase using the following code:\n",
    "\n",
    "    print(all_data.time_to_purchase.mean())\n"
   ]
  },
  {
   "cell_type": "markdown",
   "id": "d701fbc5",
   "metadata": {},
   "source": [
    "## 1.Inspect the DataFrames using print and head:\n",
    "\n",
    "- visits lists all of the users who have visited the website\n",
    "- cart lists all of the users who have added a t-shirt to their cart\n",
    "- checkout lists all of the users who have started the checkout\n",
    "- purchase lists all of the users who have purchased a t-shirt"
   ]
  },
  {
   "cell_type": "code",
   "execution_count": 3,
   "id": "90ca1260",
   "metadata": {},
   "outputs": [
    {
     "name": "stdout",
     "output_type": "stream",
     "text": [
      "                                user_id            cart_time\n",
      "0  2be90e7c-9cca-44e0-bcc5-124b945ff168  2017-11-07 20:45:00\n",
      "1  4397f73f-1da3-4ab3-91af-762792e25973  2017-05-27 01:35:00\n",
      "2  a9db3d4b-0a0a-4398-a55a-ebb2c7adf663  2017-03-04 10:38:00\n",
      "3  b594862a-36c5-47d5-b818-6e9512b939b3  2017-09-27 08:22:00\n",
      "4  a68a16e2-94f0-4ce8-8ce3-784af0bbb974  2017-07-26 15:48:00\n"
     ]
    }
   ],
   "source": [
    "import pandas as pd\n",
    "df = pd.read_csv('cart.csv')\n",
    "print(df.head())"
   ]
  },
  {
   "cell_type": "code",
   "execution_count": 4,
   "id": "cdd108e3",
   "metadata": {},
   "outputs": [
    {
     "name": "stdout",
     "output_type": "stream",
     "text": [
      "                                user_id        checkout_time\n",
      "0  d33bdc47-4afa-45bc-b4e4-dbe948e34c0d  2017-06-25 09:29:00\n",
      "1  4ac186f0-9954-4fea-8a27-c081e428e34e  2017-04-07 20:11:00\n",
      "2  3c9c78a7-124a-4b77-8d2e-e1926e011e7d  2017-07-13 11:38:00\n",
      "3  89fe330a-8966-4756-8f7c-3bdbcd47279a  2017-04-20 16:15:00\n",
      "4  3ccdaf69-2d30-40de-b083-51372881aedd  2017-01-08 20:52:00\n"
     ]
    }
   ],
   "source": [
    "df_1 = pd.read_csv('checkout.csv')\n",
    "print(df_1.head())"
   ]
  },
  {
   "cell_type": "code",
   "execution_count": 6,
   "id": "28dc361e",
   "metadata": {},
   "outputs": [
    {
     "data": {
      "text/html": [
       "<div>\n",
       "<style scoped>\n",
       "    .dataframe tbody tr th:only-of-type {\n",
       "        vertical-align: middle;\n",
       "    }\n",
       "\n",
       "    .dataframe tbody tr th {\n",
       "        vertical-align: top;\n",
       "    }\n",
       "\n",
       "    .dataframe thead th {\n",
       "        text-align: right;\n",
       "    }\n",
       "</style>\n",
       "<table border=\"1\" class=\"dataframe\">\n",
       "  <thead>\n",
       "    <tr style=\"text-align: right;\">\n",
       "      <th></th>\n",
       "      <th>user_id</th>\n",
       "      <th>purchase_time</th>\n",
       "    </tr>\n",
       "  </thead>\n",
       "  <tbody>\n",
       "    <tr>\n",
       "      <th>0</th>\n",
       "      <td>4b44ace4-2721-47a0-b24b-15fbfa2abf85</td>\n",
       "      <td>2017-05-11 04:25:00</td>\n",
       "    </tr>\n",
       "    <tr>\n",
       "      <th>1</th>\n",
       "      <td>02e684ae-a448-408f-a9ff-dcb4a5c99aac</td>\n",
       "      <td>2017-09-05 08:45:00</td>\n",
       "    </tr>\n",
       "    <tr>\n",
       "      <th>2</th>\n",
       "      <td>4b4bc391-749e-4b90-ab8f-4f6e3c84d6dc</td>\n",
       "      <td>2017-11-20 20:49:00</td>\n",
       "    </tr>\n",
       "    <tr>\n",
       "      <th>3</th>\n",
       "      <td>a5dbb25f-3c36-4103-9030-9f7c6241cd8d</td>\n",
       "      <td>2017-01-22 15:18:00</td>\n",
       "    </tr>\n",
       "    <tr>\n",
       "      <th>4</th>\n",
       "      <td>46a3186d-7f5a-4ab9-87af-84d05bfd4867</td>\n",
       "      <td>2017-06-11 11:32:00</td>\n",
       "    </tr>\n",
       "  </tbody>\n",
       "</table>\n",
       "</div>"
      ],
      "text/plain": [
       "                                user_id        purchase_time\n",
       "0  4b44ace4-2721-47a0-b24b-15fbfa2abf85  2017-05-11 04:25:00\n",
       "1  02e684ae-a448-408f-a9ff-dcb4a5c99aac  2017-09-05 08:45:00\n",
       "2  4b4bc391-749e-4b90-ab8f-4f6e3c84d6dc  2017-11-20 20:49:00\n",
       "3  a5dbb25f-3c36-4103-9030-9f7c6241cd8d  2017-01-22 15:18:00\n",
       "4  46a3186d-7f5a-4ab9-87af-84d05bfd4867  2017-06-11 11:32:00"
      ]
     },
     "execution_count": 6,
     "metadata": {},
     "output_type": "execute_result"
    }
   ],
   "source": [
    "df_2 = pd.read_csv('purchase.csv')\n",
    "df_2.head()"
   ]
  },
  {
   "cell_type": "code",
   "execution_count": 7,
   "id": "08a03be9",
   "metadata": {},
   "outputs": [
    {
     "data": {
      "text/html": [
       "<div>\n",
       "<style scoped>\n",
       "    .dataframe tbody tr th:only-of-type {\n",
       "        vertical-align: middle;\n",
       "    }\n",
       "\n",
       "    .dataframe tbody tr th {\n",
       "        vertical-align: top;\n",
       "    }\n",
       "\n",
       "    .dataframe thead th {\n",
       "        text-align: right;\n",
       "    }\n",
       "</style>\n",
       "<table border=\"1\" class=\"dataframe\">\n",
       "  <thead>\n",
       "    <tr style=\"text-align: right;\">\n",
       "      <th></th>\n",
       "      <th>user_id</th>\n",
       "      <th>visit_time</th>\n",
       "    </tr>\n",
       "  </thead>\n",
       "  <tbody>\n",
       "    <tr>\n",
       "      <th>0</th>\n",
       "      <td>943647ef-3682-4750-a2e1-918ba6f16188</td>\n",
       "      <td>2017-04-07 15:14:00</td>\n",
       "    </tr>\n",
       "    <tr>\n",
       "      <th>1</th>\n",
       "      <td>0c3a3dd0-fb64-4eac-bf84-ba069ce409f2</td>\n",
       "      <td>2017-01-26 14:24:00</td>\n",
       "    </tr>\n",
       "    <tr>\n",
       "      <th>2</th>\n",
       "      <td>6e0b2d60-4027-4d9a-babd-0e7d40859fb1</td>\n",
       "      <td>2017-08-20 08:23:00</td>\n",
       "    </tr>\n",
       "    <tr>\n",
       "      <th>3</th>\n",
       "      <td>6879527e-c5a6-4d14-b2da-50b85212b0ab</td>\n",
       "      <td>2017-11-04 18:15:00</td>\n",
       "    </tr>\n",
       "    <tr>\n",
       "      <th>4</th>\n",
       "      <td>a84327ff-5daa-4ba1-b789-d5b4caf81e96</td>\n",
       "      <td>2017-02-27 11:25:00</td>\n",
       "    </tr>\n",
       "  </tbody>\n",
       "</table>\n",
       "</div>"
      ],
      "text/plain": [
       "                                user_id           visit_time\n",
       "0  943647ef-3682-4750-a2e1-918ba6f16188  2017-04-07 15:14:00\n",
       "1  0c3a3dd0-fb64-4eac-bf84-ba069ce409f2  2017-01-26 14:24:00\n",
       "2  6e0b2d60-4027-4d9a-babd-0e7d40859fb1  2017-08-20 08:23:00\n",
       "3  6879527e-c5a6-4d14-b2da-50b85212b0ab  2017-11-04 18:15:00\n",
       "4  a84327ff-5daa-4ba1-b789-d5b4caf81e96  2017-02-27 11:25:00"
      ]
     },
     "execution_count": 7,
     "metadata": {},
     "output_type": "execute_result"
    }
   ],
   "source": [
    "df_3 = pd.read_csv('visits.csv')\n",
    "df_3.head()"
   ]
  },
  {
   "cell_type": "markdown",
   "id": "b529fedc",
   "metadata": {},
   "source": [
    "## 2. Combine visits and cart using a left merge."
   ]
  },
  {
   "cell_type": "code",
   "execution_count": 10,
   "id": "00ec4a05",
   "metadata": {},
   "outputs": [
    {
     "data": {
      "text/html": [
       "<div>\n",
       "<style scoped>\n",
       "    .dataframe tbody tr th:only-of-type {\n",
       "        vertical-align: middle;\n",
       "    }\n",
       "\n",
       "    .dataframe tbody tr th {\n",
       "        vertical-align: top;\n",
       "    }\n",
       "\n",
       "    .dataframe thead th {\n",
       "        text-align: right;\n",
       "    }\n",
       "</style>\n",
       "<table border=\"1\" class=\"dataframe\">\n",
       "  <thead>\n",
       "    <tr style=\"text-align: right;\">\n",
       "      <th></th>\n",
       "      <th>user_id</th>\n",
       "      <th>visit_time</th>\n",
       "      <th>cart_time</th>\n",
       "    </tr>\n",
       "  </thead>\n",
       "  <tbody>\n",
       "    <tr>\n",
       "      <th>0</th>\n",
       "      <td>0c3a3dd0-fb64-4eac-bf84-ba069ce409f2</td>\n",
       "      <td>2017-01-26 14:24:00</td>\n",
       "      <td>2017-01-26 14:44:00</td>\n",
       "    </tr>\n",
       "    <tr>\n",
       "      <th>1</th>\n",
       "      <td>6e0b2d60-4027-4d9a-babd-0e7d40859fb1</td>\n",
       "      <td>2017-08-20 08:23:00</td>\n",
       "      <td>2017-08-20 08:31:00</td>\n",
       "    </tr>\n",
       "    <tr>\n",
       "      <th>2</th>\n",
       "      <td>486480e2-98c3-4d51-8f4b-b1c07228ce84</td>\n",
       "      <td>2017-01-27 16:34:00</td>\n",
       "      <td>2017-01-27 16:44:00</td>\n",
       "    </tr>\n",
       "    <tr>\n",
       "      <th>3</th>\n",
       "      <td>1868e912-b38c-4ef0-8824-5665c42288e5</td>\n",
       "      <td>2017-03-17 11:48:00</td>\n",
       "      <td>2017-03-17 11:56:00</td>\n",
       "    </tr>\n",
       "    <tr>\n",
       "      <th>4</th>\n",
       "      <td>6d11f38d-03f5-486e-a62d-e05a2e39786b</td>\n",
       "      <td>2017-09-15 16:08:00</td>\n",
       "      <td>2017-09-15 16:30:00</td>\n",
       "    </tr>\n",
       "    <tr>\n",
       "      <th>...</th>\n",
       "      <td>...</td>\n",
       "      <td>...</td>\n",
       "      <td>...</td>\n",
       "    </tr>\n",
       "    <tr>\n",
       "      <th>343</th>\n",
       "      <td>d2cb350b-2201-4290-b2e0-84a8bf0d6883</td>\n",
       "      <td>2017-08-08 16:05:00</td>\n",
       "      <td>2017-08-08 16:07:00</td>\n",
       "    </tr>\n",
       "    <tr>\n",
       "      <th>344</th>\n",
       "      <td>5565358d-c9c2-4491-8299-78f0428521dc</td>\n",
       "      <td>2017-01-11 17:49:00</td>\n",
       "      <td>2017-01-11 18:17:00</td>\n",
       "    </tr>\n",
       "    <tr>\n",
       "      <th>345</th>\n",
       "      <td>f46c88d0-2441-40a8-97fe-6841ff6f050d</td>\n",
       "      <td>2017-09-06 08:42:00</td>\n",
       "      <td>2017-09-06 09:02:00</td>\n",
       "    </tr>\n",
       "    <tr>\n",
       "      <th>346</th>\n",
       "      <td>1f2eb2e0-7afe-4ebd-acc4-9534d6ad9eed</td>\n",
       "      <td>2017-11-21 17:53:00</td>\n",
       "      <td>2017-11-21 18:13:00</td>\n",
       "    </tr>\n",
       "    <tr>\n",
       "      <th>347</th>\n",
       "      <td>f783c680-1d9a-437d-9f45-7827299b78fa</td>\n",
       "      <td>2017-06-25 08:07:00</td>\n",
       "      <td>2017-06-25 08:08:00</td>\n",
       "    </tr>\n",
       "  </tbody>\n",
       "</table>\n",
       "<p>348 rows × 3 columns</p>\n",
       "</div>"
      ],
      "text/plain": [
       "                                  user_id           visit_time  \\\n",
       "0    0c3a3dd0-fb64-4eac-bf84-ba069ce409f2  2017-01-26 14:24:00   \n",
       "1    6e0b2d60-4027-4d9a-babd-0e7d40859fb1  2017-08-20 08:23:00   \n",
       "2    486480e2-98c3-4d51-8f4b-b1c07228ce84  2017-01-27 16:34:00   \n",
       "3    1868e912-b38c-4ef0-8824-5665c42288e5  2017-03-17 11:48:00   \n",
       "4    6d11f38d-03f5-486e-a62d-e05a2e39786b  2017-09-15 16:08:00   \n",
       "..                                    ...                  ...   \n",
       "343  d2cb350b-2201-4290-b2e0-84a8bf0d6883  2017-08-08 16:05:00   \n",
       "344  5565358d-c9c2-4491-8299-78f0428521dc  2017-01-11 17:49:00   \n",
       "345  f46c88d0-2441-40a8-97fe-6841ff6f050d  2017-09-06 08:42:00   \n",
       "346  1f2eb2e0-7afe-4ebd-acc4-9534d6ad9eed  2017-11-21 17:53:00   \n",
       "347  f783c680-1d9a-437d-9f45-7827299b78fa  2017-06-25 08:07:00   \n",
       "\n",
       "               cart_time  \n",
       "0    2017-01-26 14:44:00  \n",
       "1    2017-08-20 08:31:00  \n",
       "2    2017-01-27 16:44:00  \n",
       "3    2017-03-17 11:56:00  \n",
       "4    2017-09-15 16:30:00  \n",
       "..                   ...  \n",
       "343  2017-08-08 16:07:00  \n",
       "344  2017-01-11 18:17:00  \n",
       "345  2017-09-06 09:02:00  \n",
       "346  2017-11-21 18:13:00  \n",
       "347  2017-06-25 08:08:00  \n",
       "\n",
       "[348 rows x 3 columns]"
      ]
     },
     "execution_count": 10,
     "metadata": {},
     "output_type": "execute_result"
    }
   ],
   "source": [
    "visit_cart_join = df_3.merge(df,on = 'user_id')\n",
    "visit_cart_join"
   ]
  },
  {
   "cell_type": "markdown",
   "id": "5e9e1b43",
   "metadata": {},
   "source": [
    "## 3. How long is your merged DataFrame?"
   ]
  },
  {
   "cell_type": "code",
   "execution_count": 11,
   "id": "083a2c35",
   "metadata": {},
   "outputs": [
    {
     "data": {
      "text/plain": [
       "(348, 3)"
      ]
     },
     "execution_count": 11,
     "metadata": {},
     "output_type": "execute_result"
    }
   ],
   "source": [
    "visit_cart_join.shape"
   ]
  },
  {
   "cell_type": "markdown",
   "id": "3b6aa253",
   "metadata": {},
   "source": [
    "## 4.  How many of the timestamps are null for the column cart_time?\n",
    "\n",
    "## What do these null rows mean?"
   ]
  },
  {
   "cell_type": "code",
   "execution_count": 16,
   "id": "871b2901",
   "metadata": {},
   "outputs": [
    {
     "name": "stdout",
     "output_type": "stream",
     "text": [
      "Null values of cart time colum before merged =  0\n",
      "Null values of cart time colum after merged =  0\n"
     ]
    }
   ],
   "source": [
    "print(\"Null values of cart time colum before merged = \", df['cart_time'].isnull().sum())\n",
    "print(\"Null values of cart time colum after merged = \",visit_cart_join['cart_time'].isnull().sum())"
   ]
  },
  {
   "cell_type": "markdown",
   "id": "c0321917",
   "metadata": {},
   "source": [
    "## 5. What percent of users who visited Cool T-Shirts Inc. ended up not placing a t-shirt in their cart?"
   ]
  },
  {
   "cell_type": "code",
   "execution_count": null,
   "id": "6c183bf0",
   "metadata": {},
   "outputs": [],
   "source": []
  }
 ],
 "metadata": {
  "kernelspec": {
   "display_name": "Python 3 (ipykernel)",
   "language": "python",
   "name": "python3"
  },
  "language_info": {
   "codemirror_mode": {
    "name": "ipython",
    "version": 3
   },
   "file_extension": ".py",
   "mimetype": "text/x-python",
   "name": "python",
   "nbconvert_exporter": "python",
   "pygments_lexer": "ipython3",
   "version": "3.9.13"
  }
 },
 "nbformat": 4,
 "nbformat_minor": 5
}
