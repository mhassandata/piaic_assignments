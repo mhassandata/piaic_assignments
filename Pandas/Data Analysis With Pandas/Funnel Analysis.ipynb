{
 "cells": [
  {
   "cell_type": "markdown",
   "id": "0c4a3ec3",
   "metadata": {},
   "source": [
    "Data files: cart.csv , checkout.csv , purchase.csv , visits.csv"
   ]
  },
  {
   "cell_type": "markdown",
   "id": "0fe4ca63",
   "metadata": {},
   "source": [
    "# Page Visits Funnel\n",
    "\n",
    "Cool T-Shirts Inc. has asked you to analyze data on visits to their website. \n",
    "Your job is to build a funnel,which is a description of how many people continue to the next step of a multi-step process.\n",
    "\n",
    "In this case, our funnel is going to describe the following process:\n",
    "\n",
    "A user visits CoolTShirts.com\n",
    "A user adds a t-shirt to their cart\n",
    "A user clicks “checkout”\n",
    "A user actually purchases a t-shirt\n",
    "\n",
    "Funnel for Cool T-Shirts Inc.\n",
    "\n",
    "1.Inspect the DataFrames using print and head:\n",
    "\n",
    "    - visits lists all of the users who have visited the website\n",
    "    - cart lists all of the users who have added a t-shirt to their cart\n",
    "    - checkout lists all of the users who have started the checkout\n",
    "    - purchase lists all of the users who have purchased a t-shirt\n",
    "\n",
    "2. Combine visits and cart using a left merge.\n",
    "\n",
    "\n",
    "3. How long is your merged DataFrame?\n",
    "\n",
    "\n",
    "4. How many of the timestamps are null for the column cart_time?\n",
    "\n",
    "    What do these null rows mean?\n",
    "\n",
    "\n",
    "5. What percent of users who visited Cool T-Shirts Inc. ended up not placing a t-shirt in their cart?\n",
    "\n",
    "Note: To calculate percentages, it will be helpful to turn either the numerator or the denominator into a float,\n",
    "by using float(), with the number to convert passed in as input. Otherwise, Python will use integer division, which \n",
    "truncates decimal points.\n",
    "\n",
    "\n",
    "6. Repeat the left merge for cart and checkout and count null values. What percentage of users put items in their cart, \n",
    "but did not proceed to checkout?\n",
    "\n",
    "\n",
    "7. Merge all four steps of the funnel, in order, using a series of left merges. Save the results to the variable all_data.\n",
    "\n",
    "    Examine the result using print and head\n",
    "\n",
    "\n",
    "8. What percentage of users proceeded to checkout, but did not purchase a t-shirt?\n",
    "\n",
    "9. Which step of the funnel is weakest (i.e., has the highest percentage of users not completing it)?\n",
    "\n",
    "How might Cool T-Shirts Inc. change their website to fix this problem?\n",
    "\n",
    "### Average Time to Purchase\n",
    "10. Using the giant merged DataFrame all_data that you created, let’s calculate the average time from initial visit to\n",
    "    final purchase. \n",
    "    Start by adding the following column to your DataFrame:\n",
    "\n",
    "all_data['time_to_purchase'] = all_data.purchase_time - all_data.visit_time\n",
    "\n",
    "11. Examine the results using:\n",
    "\n",
    "    print(all_data.time_to_purchase)\n",
    "\n",
    "12. Calculate the average time to purchase using the following code:\n",
    "\n",
    "    print(all_data.time_to_purchase.mean())\n"
   ]
  },
  {
   "cell_type": "code",
   "execution_count": null,
   "id": "90ca1260",
   "metadata": {},
   "outputs": [],
   "source": []
  }
 ],
 "metadata": {
  "kernelspec": {
   "display_name": "Python 3",
   "language": "python",
   "name": "python3"
  },
  "language_info": {
   "codemirror_mode": {
    "name": "ipython",
    "version": 3
   },
   "file_extension": ".py",
   "mimetype": "text/x-python",
   "name": "python",
   "nbconvert_exporter": "python",
   "pygments_lexer": "ipython3",
   "version": "3.7.4"
  }
 },
 "nbformat": 4,
 "nbformat_minor": 5
}
