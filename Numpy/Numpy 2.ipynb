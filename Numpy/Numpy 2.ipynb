{
 "cells": [
  {
   "cell_type": "markdown",
   "metadata": {},
   "source": [
    "                                                 Basic Numpy Exercises \n",
    "                                               Compiled by: Dr. Noman Islam"
   ]
  },
  {
   "cell_type": "markdown",
   "metadata": {},
   "source": [
    "#### 1. Generate a 1D NumPy array containing numbers from -2 to 2 in increments of 0.2. Use optional start and step arguments of np.arange() function."
   ]
  },
  {
   "cell_type": "code",
   "execution_count": 1,
   "metadata": {},
   "outputs": [],
   "source": [
    "import numpy as np"
   ]
  },
  {
   "cell_type": "code",
   "execution_count": 2,
   "metadata": {},
   "outputs": [
    {
     "data": {
      "text/plain": [
       "array([-2.0000000e+00, -1.8000000e+00, -1.6000000e+00, -1.4000000e+00,\n",
       "       -1.2000000e+00, -1.0000000e+00, -8.0000000e-01, -6.0000000e-01,\n",
       "       -4.0000000e-01, -2.0000000e-01, -4.4408921e-16,  2.0000000e-01,\n",
       "        4.0000000e-01,  6.0000000e-01,  8.0000000e-01,  1.0000000e+00,\n",
       "        1.2000000e+00,  1.4000000e+00,  1.6000000e+00,  1.8000000e+00,\n",
       "        2.0000000e+00])"
      ]
     },
     "execution_count": 2,
     "metadata": {},
     "output_type": "execute_result"
    }
   ],
   "source": [
    "#one way to do this question\n",
    "result = np.arange(-2, 2+0.2, 0.2)\n",
    "result"
   ]
  },
  {
   "cell_type": "code",
   "execution_count": 3,
   "metadata": {},
   "outputs": [
    {
     "data": {
      "text/plain": [
       "array([-2.0000000e+00, -1.8000000e+00, -1.6000000e+00, -1.4000000e+00,\n",
       "       -1.2000000e+00, -1.0000000e+00, -8.0000000e-01, -6.0000000e-01,\n",
       "       -4.0000000e-01, -2.0000000e-01, -4.4408921e-16,  2.0000000e-01,\n",
       "        4.0000000e-01,  6.0000000e-01,  8.0000000e-01,  1.0000000e+00,\n",
       "        1.2000000e+00,  1.4000000e+00,  1.6000000e+00,  1.8000000e+00])"
      ]
     },
     "execution_count": 3,
     "metadata": {},
     "output_type": "execute_result"
    }
   ],
   "source": [
    "#Another way to do the same program\n",
    "arr1D = np.arange(-2, 2, 0.2)\n",
    "arr1D"
   ]
  },
  {
   "cell_type": "code",
   "execution_count": 4,
   "metadata": {},
   "outputs": [
    {
     "data": {
      "text/plain": [
       "array([-2.0000000e+00, -1.8000000e+00, -1.6000000e+00, -1.4000000e+00,\n",
       "       -1.2000000e+00, -1.0000000e+00, -8.0000000e-01, -6.0000000e-01,\n",
       "       -4.0000000e-01, -2.0000000e-01, -4.4408921e-16,  2.0000000e-01,\n",
       "        4.0000000e-01,  6.0000000e-01,  8.0000000e-01,  1.0000000e+00,\n",
       "        1.2000000e+00,  1.4000000e+00,  1.6000000e+00,  1.8000000e+00,\n",
       "        2.0000000e+00])"
      ]
     },
     "execution_count": 4,
     "metadata": {},
     "output_type": "execute_result"
    }
   ],
   "source": [
    "#Another way to do this question\n",
    "start = -2\n",
    "stop = 2\n",
    "step = 0.2\n",
    "array = np.arange(start, stop + step, step)\n",
    "array"
   ]
  },
  {
   "cell_type": "markdown",
   "metadata": {},
   "source": [
    "#### 2. Generate another 1D NumPy array containing 11 equally spaced values between 0.5 and 1.5. Extract every second element of the array"
   ]
  },
  {
   "cell_type": "code",
   "execution_count": 7,
   "metadata": {},
   "outputs": [
    {
     "data": {
      "text/plain": [
       "array([0.5])"
      ]
     },
     "execution_count": 7,
     "metadata": {},
     "output_type": "execute_result"
    }
   ],
   "source": [
    "#one way to do\n",
    "equal11spaced = np.arange(0.5, 1.5, 11)\n",
    "second_element = equal11spaced[::2]\n",
    "second_element"
   ]
  },
  {
   "cell_type": "code",
   "execution_count": 8,
   "metadata": {},
   "outputs": [
    {
     "data": {
      "text/plain": [
       "array([0.5])"
      ]
     },
     "execution_count": 8,
     "metadata": {},
     "output_type": "execute_result"
    }
   ],
   "source": [
    "start = 0.5\n",
    "stop = 1.5\n",
    "step = 11\n",
    "array = np.arange(start, stop, step)\n",
    "second_ele = array[::2]\n",
    "second_ele"
   ]
  },
  {
   "cell_type": "markdown",
   "metadata": {},
   "source": [
    "#### 3. Create a 4x4 array with arbitrary values.Extract every element from the second row.\n"
   ]
  },
  {
   "cell_type": "code",
   "execution_count": 9,
   "metadata": {},
   "outputs": [
    {
     "data": {
      "text/plain": [
       "array([[ 1,  2,  3,  4],\n",
       "       [ 5,  6,  7,  8],\n",
       "       [ 9, 10, 11, 12],\n",
       "       [13, 14, 15, 16]])"
      ]
     },
     "execution_count": 9,
     "metadata": {},
     "output_type": "execute_result"
    }
   ],
   "source": [
    "array = np.array([[1, 2, 3, 4], [5, 6, 7, 8], [9, 10, 11, 12], [13, 14, 15, 16]])\n",
    "array"
   ]
  },
  {
   "cell_type": "code",
   "execution_count": 10,
   "metadata": {},
   "outputs": [
    {
     "data": {
      "text/plain": [
       "array([5, 6, 7, 8])"
      ]
     },
     "execution_count": 10,
     "metadata": {},
     "output_type": "execute_result"
    }
   ],
   "source": [
    "#One way \n",
    "second_row = array[1, :]\n",
    "second_row"
   ]
  },
  {
   "cell_type": "code",
   "execution_count": 11,
   "metadata": {},
   "outputs": [
    {
     "data": {
      "text/plain": [
       "array([5, 6, 7, 8])"
      ]
     },
     "execution_count": 11,
     "metadata": {},
     "output_type": "execute_result"
    }
   ],
   "source": [
    "#Another way with negative indexing\n",
    "second_row = array[-3 , :]\n",
    "second_row"
   ]
  },
  {
   "cell_type": "markdown",
   "metadata": {},
   "source": [
    "#### 4. Extract every element from the third column"
   ]
  },
  {
   "cell_type": "code",
   "execution_count": 12,
   "metadata": {},
   "outputs": [
    {
     "data": {
      "text/plain": [
       "array([ 4,  8, 12, 16])"
      ]
     },
     "execution_count": 12,
     "metadata": {},
     "output_type": "execute_result"
    }
   ],
   "source": [
    "#Element of third columns\n",
    "third_col = array[: :, 3]\n",
    "third_col"
   ]
  },
  {
   "cell_type": "markdown",
   "metadata": {},
   "source": [
    "#### Extract every element from the second column"
   ]
  },
  {
   "cell_type": "code",
   "execution_count": 13,
   "metadata": {},
   "outputs": [
    {
     "data": {
      "text/plain": [
       "array([ 3,  7, 11, 15])"
      ]
     },
     "execution_count": 13,
     "metadata": {},
     "output_type": "execute_result"
    }
   ],
   "source": [
    "second_col = array[: :, 2]\n",
    "second_col"
   ]
  },
  {
   "cell_type": "markdown",
   "metadata": {},
   "source": [
    "#### 5. Assign a value of 0.21 to upper left 2x2 subarray."
   ]
  },
  {
   "cell_type": "code",
   "execution_count": 15,
   "metadata": {},
   "outputs": [
    {
     "data": {
      "text/plain": [
       "array([[ 0.21,  0.21,  3.  ,  4.  ],\n",
       "       [ 0.21,  0.21,  7.  ,  8.  ],\n",
       "       [ 9.  , 10.  , 11.  , 12.  ],\n",
       "       [13.  , 14.  , 15.  , 16.  ]])"
      ]
     },
     "execution_count": 15,
     "metadata": {},
     "output_type": "execute_result"
    }
   ],
   "source": [
    "array = np.array([[1, 2, 3, 4], [5, 6, 7, 8], [9, 10, 11, 12], [13, 14.0, 15, 16]])\n",
    "array[:2, :2] = 0.21\n",
    "array"
   ]
  },
  {
   "cell_type": "markdown",
   "metadata": {},
   "source": [
    "#### 6. Read an 2D array from the file exercise1_4.dat. You can usethe function np.loadtxt():\n",
    "data = np.loadtxt(‘exercise1_4.dat’)\n",
    "\n",
    "#### Split the array into four subblocks (upper left, upper right, lower left, lower right) using np.split(). Construct then the full array again with np.concatenate(). You can visualize the various arrays with matplotlib’s imshow(), i.e. import pylab pylab.imshow(data)"
   ]
  },
  {
   "cell_type": "code",
   "execution_count": 16,
   "metadata": {},
   "outputs": [
    {
     "name": "stderr",
     "output_type": "stream",
     "text": [
      "C:\\Users\\Muhammad Hassan\\AppData\\Local\\Temp\\ipykernel_10260\\4085471076.py:3: UserWarning: loadtxt: input contained no data: \"exercise1_4.dat\"\n",
      "  data = np.loadtxt('exercise1_4.dat')\n"
     ]
    },
    {
     "ename": "IndexError",
     "evalue": "tuple index out of range",
     "output_type": "error",
     "traceback": [
      "\u001b[1;31m---------------------------------------------------------------------------\u001b[0m",
      "\u001b[1;31mIndexError\u001b[0m                                Traceback (most recent call last)",
      "\u001b[1;32m~\\AppData\\Local\\Temp\\ipykernel_10260\\4085471076.py\u001b[0m in \u001b[0;36m<module>\u001b[1;34m\u001b[0m\n\u001b[0;32m      3\u001b[0m \u001b[0mdata\u001b[0m \u001b[1;33m=\u001b[0m \u001b[0mnp\u001b[0m\u001b[1;33m.\u001b[0m\u001b[0mloadtxt\u001b[0m\u001b[1;33m(\u001b[0m\u001b[1;34m'exercise1_4.dat'\u001b[0m\u001b[1;33m)\u001b[0m\u001b[1;33m\u001b[0m\u001b[1;33m\u001b[0m\u001b[0m\n\u001b[0;32m      4\u001b[0m \u001b[1;33m\u001b[0m\u001b[0m\n\u001b[1;32m----> 5\u001b[1;33m \u001b[0mhalf_rows\u001b[0m\u001b[1;33m,\u001b[0m \u001b[0mhalf_cols\u001b[0m \u001b[1;33m=\u001b[0m \u001b[0mdata\u001b[0m\u001b[1;33m.\u001b[0m\u001b[0mshape\u001b[0m\u001b[1;33m[\u001b[0m\u001b[1;36m0\u001b[0m\u001b[1;33m]\u001b[0m\u001b[1;33m//\u001b[0m\u001b[1;36m2\u001b[0m\u001b[1;33m,\u001b[0m \u001b[0mdata\u001b[0m\u001b[1;33m.\u001b[0m\u001b[0mshape\u001b[0m\u001b[1;33m[\u001b[0m\u001b[1;36m1\u001b[0m\u001b[1;33m]\u001b[0m\u001b[1;33m//\u001b[0m\u001b[1;36m2\u001b[0m\u001b[1;33m\u001b[0m\u001b[1;33m\u001b[0m\u001b[0m\n\u001b[0m\u001b[0;32m      6\u001b[0m \u001b[1;33m\u001b[0m\u001b[0m\n\u001b[0;32m      7\u001b[0m \u001b[0mupper_left\u001b[0m \u001b[1;33m=\u001b[0m \u001b[0mdata\u001b[0m\u001b[1;33m[\u001b[0m\u001b[1;33m:\u001b[0m\u001b[0mhalf_rows\u001b[0m\u001b[1;33m,\u001b[0m \u001b[1;33m:\u001b[0m\u001b[0mhalf_cols\u001b[0m\u001b[1;33m]\u001b[0m\u001b[1;33m\u001b[0m\u001b[1;33m\u001b[0m\u001b[0m\n",
      "\u001b[1;31mIndexError\u001b[0m: tuple index out of range"
     ]
    }
   ],
   "source": [
    "import pylab\n",
    "\n",
    "data = np.loadtxt('exercise1_4.dat')\n",
    "\n",
    "half_rows, half_cols = data.shape[0]//2, data.shape[1]//2\n",
    "\n",
    "upper_left = data[:half_rows, :half_cols]\n",
    "upper_right = data[:half_rows, half_cols:]\n",
    "lower_left = data[half_rows:, :half_cols]\n",
    "lower_right = data[half_rows:, half_cols:]\n",
    "\n",
    "reconstructed = np.concatenate((np.concatenate((upper_left, upper_right), axis=1),\n",
    "                                np.concatenate((lower_left, lower_right), axis=1)), axis=0)\n",
    "\n",
    "pylab.imshow(reconstructed)\n",
    "pylab.show()"
   ]
  },
  {
   "cell_type": "code",
   "execution_count": null,
   "metadata": {},
   "outputs": [],
   "source": []
  },
  {
   "cell_type": "code",
   "execution_count": null,
   "metadata": {},
   "outputs": [],
   "source": []
  }
 ],
 "metadata": {
  "kernelspec": {
   "display_name": "Python 3 (ipykernel)",
   "language": "python",
   "name": "python3"
  },
  "language_info": {
   "codemirror_mode": {
    "name": "ipython",
    "version": 3
   },
   "file_extension": ".py",
   "mimetype": "text/x-python",
   "name": "python",
   "nbconvert_exporter": "python",
   "pygments_lexer": "ipython3",
   "version": "3.9.13"
  }
 },
 "nbformat": 4,
 "nbformat_minor": 1
}
