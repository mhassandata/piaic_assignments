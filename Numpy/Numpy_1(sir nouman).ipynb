{
 "cells": [
  {
   "cell_type": "markdown",
   "metadata": {},
   "source": [
    "                                                 Basic Numpy Exercises \n",
    "                                               Compiled by: Dr. Noman Islam"
   ]
  },
  {
   "cell_type": "markdown",
   "metadata": {
    "nbpresent": {
     "id": "917ef18c-469b-4727-80a2-b184c52cfa22"
    }
   },
   "source": [
    "#### 1. Create a uniform subdivision of the interval -1.3 to 2.5 with 64 subdivisions."
   ]
  },
  {
   "cell_type": "code",
   "execution_count": 3,
   "metadata": {
    "nbpresent": {
     "id": "6c92717c-d48d-47fb-b538-6f6f7dacbb6c"
    }
   },
   "outputs": [
    {
     "data": {
      "text/plain": [
       "array([-1.3       , -1.23968254, -1.17936508, -1.11904762, -1.05873016,\n",
       "       -0.9984127 , -0.93809524, -0.87777778, -0.81746032, -0.75714286,\n",
       "       -0.6968254 , -0.63650794, -0.57619048, -0.51587302, -0.45555556,\n",
       "       -0.3952381 , -0.33492063, -0.27460317, -0.21428571, -0.15396825,\n",
       "       -0.09365079, -0.03333333,  0.02698413,  0.08730159,  0.14761905,\n",
       "        0.20793651,  0.26825397,  0.32857143,  0.38888889,  0.44920635,\n",
       "        0.50952381,  0.56984127,  0.63015873,  0.69047619,  0.75079365,\n",
       "        0.81111111,  0.87142857,  0.93174603,  0.99206349,  1.05238095,\n",
       "        1.11269841,  1.17301587,  1.23333333,  1.29365079,  1.35396825,\n",
       "        1.41428571,  1.47460317,  1.53492063,  1.5952381 ,  1.65555556,\n",
       "        1.71587302,  1.77619048,  1.83650794,  1.8968254 ,  1.95714286,\n",
       "        2.01746032,  2.07777778,  2.13809524,  2.1984127 ,  2.25873016,\n",
       "        2.31904762,  2.37936508,  2.43968254,  2.5       ])"
      ]
     },
     "execution_count": 3,
     "metadata": {},
     "output_type": "execute_result"
    }
   ],
   "source": [
    "import numpy as np\n",
    "unif_array = np.linspace(-1.3, 2.5, 64)\n",
    "unif_array"
   ]
  },
  {
   "cell_type": "markdown",
   "metadata": {
    "nbpresent": {
     "id": "35f49642-fc18-49d4-928a-b2889273ae9c"
    }
   },
   "source": [
    "#### 2. Generate an array of length  3n  filled with the cyclic pattern 1, 2, 3."
   ]
  },
  {
   "cell_type": "code",
   "execution_count": null,
   "metadata": {
    "collapsed": true,
    "nbpresent": {
     "id": "b0a35365-8f15-4777-9b42-b827bfa5a66a"
    }
   },
   "outputs": [],
   "source": []
  },
  {
   "cell_type": "markdown",
   "metadata": {
    "nbpresent": {
     "id": "f2e862dd-bfb8-49db-a83a-171c8f0699b4"
    }
   },
   "source": [
    "#### 3. Create an array of the first 10 odd integers."
   ]
  },
  {
   "cell_type": "code",
   "execution_count": null,
   "metadata": {
    "collapsed": true,
    "nbpresent": {
     "id": "d17c928a-7a5f-4691-b034-ff6cb47230c5"
    }
   },
   "outputs": [],
   "source": []
  },
  {
   "cell_type": "markdown",
   "metadata": {
    "nbpresent": {
     "id": "a0eacf44-b26e-478d-af06-0f9915396faa"
    }
   },
   "source": [
    "#### 4. Create a 10 x 10 arrays of zeros and then \"frame\" it with a border of ones."
   ]
  },
  {
   "cell_type": "code",
   "execution_count": null,
   "metadata": {
    "collapsed": true,
    "nbpresent": {
     "id": "9bbc71d3-f25e-44ee-841d-d20ac107eb85"
    }
   },
   "outputs": [],
   "source": []
  },
  {
   "cell_type": "markdown",
   "metadata": {},
   "source": [
    "#### 5. Create an 8 x 8 array with a checkerboard pattern of zeros and ones using a slicing+striding approach."
   ]
  },
  {
   "cell_type": "code",
   "execution_count": null,
   "metadata": {
    "collapsed": true,
    "nbpresent": {
     "id": "caba0f19-1c51-4b0e-a192-da3f6d6c2e28"
    }
   },
   "outputs": [],
   "source": []
  }
 ],
 "metadata": {
  "anaconda-cloud": {},
  "celltoolbar": "Raw Cell Format",
  "kernelspec": {
   "display_name": "Python 3 (ipykernel)",
   "language": "python",
   "name": "python3"
  },
  "language_info": {
   "codemirror_mode": {
    "name": "ipython",
    "version": 3
   },
   "file_extension": ".py",
   "mimetype": "text/x-python",
   "name": "python",
   "nbconvert_exporter": "python",
   "pygments_lexer": "ipython3",
   "version": "3.9.13"
  }
 },
 "nbformat": 4,
 "nbformat_minor": 1
}
