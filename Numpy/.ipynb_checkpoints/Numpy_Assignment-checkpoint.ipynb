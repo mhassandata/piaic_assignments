{
 "cells": [
  {
   "cell_type": "markdown",
   "metadata": {
    "id": "3c7NCXD4uwMi"
   },
   "source": [
    "Problem  1\n",
    "\n",
    "Convert a 1D array to a 2D array with 2 rows\n",
    "\n",
    "Input:\n",
    "```\n",
    "np.arange(10)\n",
    "\n",
    "#> array([ 0, 1, 2, 3, 4, 5, 6, 7, 8, 9])\n",
    "```\n",
    "\n",
    "Output:\n",
    "\n",
    "\n",
    "```\n",
    "#> array([[0, 1, 2, 3, 4],\n",
    "#>        [5, 6, 7, 8, 9]])\n",
    "```\n",
    "\n"
   ]
  },
  {
   "cell_type": "code",
   "execution_count": 2,
   "metadata": {
    "id": "8CD3EzszvQX_"
   },
   "outputs": [],
   "source": [
    "import numpy as np"
   ]
  },
  {
   "cell_type": "code",
   "execution_count": 5,
   "metadata": {
    "colab": {
     "base_uri": "https://localhost:8080/"
    },
    "id": "KoTTINtgXaQW",
    "outputId": "fdd75eca-c833-4ae4-eeb4-d167db2839c1"
   },
   "outputs": [
    {
     "name": "stdout",
     "output_type": "stream",
     "text": [
      "[[0 1 2 3 4]\n",
      " [5 6 7 8 9]]\n"
     ]
    },
    {
     "data": {
      "text/plain": [
       "numpy.ndarray"
      ]
     },
     "execution_count": 5,
     "metadata": {},
     "output_type": "execute_result"
    }
   ],
   "source": [
    "arr2D = np.arange(10).reshape(2,5)\n",
    "print(arr2D)\n",
    "type(arr2D)"
   ]
  },
  {
   "cell_type": "markdown",
   "metadata": {
    "id": "Jfm1H1quvQ2v"
   },
   "source": [
    "Problem  2\n",
    "\n",
    "Extract all odd numbers from arr\n",
    "\n",
    "```\n",
    "arr = np.array([0, 1, 2, 3, 4, 5, 6, 7, 8, 9])\n",
    "```\n",
    "\n"
   ]
  },
  {
   "cell_type": "code",
   "execution_count": 6,
   "metadata": {
    "colab": {
     "base_uri": "https://localhost:8080/"
    },
    "id": "E7YIi0covbZW",
    "outputId": "8e0fde39-4cf5-42c3-808c-035037b6c5a9"
   },
   "outputs": [
    {
     "data": {
      "text/plain": [
       "array([1, 3, 5, 7, 9])"
      ]
     },
     "execution_count": 6,
     "metadata": {},
     "output_type": "execute_result"
    }
   ],
   "source": [
    "arr = np.array([0, 1, 2, 3, 4, 5, 6, 7, 8, 9])\n",
    "odd_num = arr[arr%2!=0]\n",
    "odd_num"
   ]
  },
  {
   "cell_type": "markdown",
   "metadata": {
    "id": "DbI3SEjgvkoJ"
   },
   "source": [
    "Problem  3\n",
    "\n",
    "Replace all odd numbers in arr with -1\n",
    "\n",
    "```\n",
    "arr = np.array([0, 1, 2, 3, 4, 5, 6, 7, 8, 9])\n",
    "```\n",
    "\n",
    "Output:\n",
    "\n",
    "\n",
    "```\n",
    "#>  array([ 0, -1,  2, -1,  4, -1,  6, -1,  8, -1])\n",
    "```\n",
    "\n"
   ]
  },
  {
   "cell_type": "code",
   "execution_count": 7,
   "metadata": {
    "id": "h6GIvmpVv71a"
   },
   "outputs": [
    {
     "data": {
      "text/plain": [
       "array([ 0, -1,  2, -1,  4, -1,  6, -1,  8, -1])"
      ]
     },
     "execution_count": 7,
     "metadata": {},
     "output_type": "execute_result"
    }
   ],
   "source": [
    "np.where(arr%2!=0, -1,arr)"
   ]
  },
  {
   "cell_type": "code",
   "execution_count": 8,
   "metadata": {},
   "outputs": [
    {
     "data": {
      "text/plain": [
       "array([0, 1, 2, 3, 4, 5, 6, 7, 8, 9])"
      ]
     },
     "execution_count": 8,
     "metadata": {},
     "output_type": "execute_result"
    }
   ],
   "source": [
    "arr"
   ]
  },
  {
   "cell_type": "markdown",
   "metadata": {
    "id": "DVPkniOuwHj_"
   },
   "source": [
    "Problem  4\n",
    "\n",
    "Replace all odd numbers in arr with -1 without changing arr\n",
    "\n",
    "Input:\n",
    "\n",
    "`arr = np.array([0, 1, 2, 3, 4, 5, 6, 7, 8, 9])`\n",
    "\n",
    "Desired Output:\n",
    "\n",
    "```\n",
    "out\n",
    "#>  array([ 0, -1,  2, -1,  4, -1,  6, -1,  8, -1])\n",
    "arr\n",
    "#>  array([0, 1, 2, 3, 4, 5, 6, 7, 8, 9])\n",
    "```\n",
    "\n",
    "\n"
   ]
  },
  {
   "cell_type": "code",
   "execution_count": 9,
   "metadata": {
    "id": "oNPugS2awTLZ"
   },
   "outputs": [
    {
     "name": "stdout",
     "output_type": "stream",
     "text": [
      "[ 0 -1  2 -1  4 -1  6 -1  8 -1]\n",
      "[0 1 2 3 4 5 6 7 8 9]\n"
     ]
    }
   ],
   "source": [
    "odd_num_1 = np.where(arr%2!=0, -1,arr)\n",
    "print(odd_num_1)\n",
    "print(arr)"
   ]
  },
  {
   "cell_type": "markdown",
   "metadata": {
    "id": "jXUu_NSCwfDP"
   },
   "source": [
    "Problem  5\n",
    "\n",
    "Stack arrays a and b vertically\n",
    "\n",
    "Input\n",
    "\n",
    "\n",
    "\n",
    "```\n",
    "a = np.arange(10).reshape(2,-1)\n",
    "b = np.repeat(1, 10).reshape(2,-1)\n",
    "```\n",
    "\n",
    "\n",
    "Desired Output:\n",
    "\n",
    "\n",
    "```\n",
    "array([[0, 1, 2, 3, 4],\n",
    "       [5, 6, 7, 8, 9],\n",
    "       [1, 1, 1, 1, 1],\n",
    "       [1, 1, 1, 1, 1]])\n",
    "```\n",
    "\n",
    "\n"
   ]
  },
  {
   "cell_type": "code",
   "execution_count": 10,
   "metadata": {
    "id": "ZeSCX31zwvKK"
   },
   "outputs": [
    {
     "data": {
      "text/plain": [
       "array([[0, 1, 2, 3, 4],\n",
       "       [5, 6, 7, 8, 9],\n",
       "       [1, 1, 1, 1, 1],\n",
       "       [1, 1, 1, 1, 1]])"
      ]
     },
     "execution_count": 10,
     "metadata": {},
     "output_type": "execute_result"
    }
   ],
   "source": [
    "a = np.arange(10).reshape(2, -1)\n",
    "b = np.repeat(1, 10).reshape(2, -1)\n",
    "np.vstack((a,b))"
   ]
  },
  {
   "cell_type": "markdown",
   "metadata": {
    "id": "dWoOzOMQw0E5"
   },
   "source": [
    "Problem  6\n",
    "\n",
    "Stack the arrays a and b horizontally.\n",
    "\n",
    "Input\n",
    "\n",
    "\n",
    "```\n",
    "a = np.arange(10).reshape(2,-1)\n",
    "b = np.repeat(1, 10).reshape(2,-1)\n",
    "```\n",
    "\n",
    "\n",
    "Desired Output:\n",
    "\n",
    "\n",
    "\n",
    "```\n",
    "array([[0, 1, 2, 3, 4, 1, 1, 1, 1, 1],\n",
    "       [5, 6, 7, 8, 9, 1, 1, 1, 1, 1]])\n",
    "```\n",
    "\n",
    "\n"
   ]
  },
  {
   "cell_type": "code",
   "execution_count": 11,
   "metadata": {
    "id": "CPbTohhww-h4"
   },
   "outputs": [
    {
     "data": {
      "text/plain": [
       "array([[0, 1, 2, 3, 4, 1, 1, 1, 1, 1],\n",
       "       [5, 6, 7, 8, 9, 1, 1, 1, 1, 1]])"
      ]
     },
     "execution_count": 11,
     "metadata": {},
     "output_type": "execute_result"
    }
   ],
   "source": [
    "a = np.arange(10).reshape(2,-1)\n",
    "b = np.repeat(1, 10).reshape(2,-1)\n",
    "np.hstack((a,b))"
   ]
  },
  {
   "cell_type": "markdown",
   "metadata": {
    "id": "qiU8NCeexCLB"
   },
   "source": [
    "Problem  7\n",
    "\n",
    "Create the following pattern without hardcoding. Use only numpy functions and the below input array a.\n",
    "\n",
    "Input:\n",
    "\n",
    "\n",
    "\n",
    "```\n",
    "a = np.array([1,2,3])\n",
    "```\n",
    "\n",
    "\n",
    "Desired Output:\n",
    "\n",
    "\n",
    "\n",
    "```\n",
    "#> array([1, 1, 1, 2, 2, 2, 3, 3, 3, 1, 2, 3, 1, 2, 3, 1, 2, 3])\n",
    "```\n",
    "\n",
    "\n"
   ]
  },
  {
   "cell_type": "code",
   "execution_count": 10,
   "metadata": {
    "id": "ucqs8mKuxOu_"
   },
   "outputs": [
    {
     "name": "stdout",
     "output_type": "stream",
     "text": [
      "[1 1 1 2 2 2 3 3 3 1 1 1 2 2 2 3 3 3 1 1 1 2 2 2 3 3 3 1 1 1 2 2 2 3 3 3]\n"
     ]
    }
   ],
   "source": [
    "a = np.array([1, 2, 3])\n",
    "b = np.repeat(a, 3)\n",
    "c = np.tile(b,4)\n",
    "\n",
    "print(c)\n"
   ]
  },
  {
   "cell_type": "code",
   "execution_count": 11,
   "metadata": {},
   "outputs": [
    {
     "data": {
      "text/plain": [
       "array([1, 1, 1, 2, 2, 2, 3, 3, 3, 1, 2, 3, 1, 2, 3, 1, 2, 3])"
      ]
     },
     "execution_count": 11,
     "metadata": {},
     "output_type": "execute_result"
    }
   ],
   "source": [
    "a=np.array([1,2,3])\n",
    "np.hstack((np.repeat(a,3),a,a,a))"
   ]
  },
  {
   "cell_type": "markdown",
   "metadata": {
    "id": "z714O_AoyOKW"
   },
   "source": [
    "Problem  8\n",
    "\n",
    "From array a remove all items present in array b\n",
    "\n",
    "Input:\n",
    "\n",
    "\n",
    "```\n",
    "a = np.array([1,2,3,4,5])\n",
    "b = np.array([5,6,7,8,9])\n",
    "```\n",
    "\n",
    "Desired Output:\n",
    "\n",
    "```\n",
    "array([1,2,3,4])\n",
    "```\n",
    "\n",
    "\n"
   ]
  },
  {
   "cell_type": "code",
   "execution_count": 13,
   "metadata": {},
   "outputs": [
    {
     "name": "stdout",
     "output_type": "stream",
     "text": [
      "[1 2 3 4]\n"
     ]
    }
   ],
   "source": [
    "a = np.array([1, 2, 3, 4, 5])\n",
    "b = np.array([5, 6, 7, 8, 9])\n",
    "\n",
    "result = a[~np.isin(a, b)]\n",
    "\n",
    "print(result)"
   ]
  },
  {
   "cell_type": "code",
   "execution_count": 14,
   "metadata": {
    "id": "9S49aVovyY3D"
   },
   "outputs": [
    {
     "name": "stdout",
     "output_type": "stream",
     "text": [
      "[1 2 3 4]\n"
     ]
    }
   ],
   "source": [
    "a = np.array([1, 2, 3, 4, 5])\n",
    "b = np.array([5, 6, 7, 8, 9])\n",
    "\n",
    "output = np.setdiff1d(a, b)\n",
    "\n",
    "print(output)\n"
   ]
  },
  {
   "cell_type": "code",
   "execution_count": 17,
   "metadata": {},
   "outputs": [
    {
     "data": {
      "text/plain": [
       "array([6, 7, 8, 9])"
      ]
     },
     "execution_count": 17,
     "metadata": {},
     "output_type": "execute_result"
    }
   ],
   "source": [
    "output2 = np.setdiff1d(b,a)\n",
    "output2"
   ]
  },
  {
   "cell_type": "markdown",
   "metadata": {
    "id": "EAfoETZyyZi2"
   },
   "source": [
    "Problem  9\n",
    "\n",
    "Get the positions where elements of a and b match\n",
    "\n",
    "Input:\n",
    "\n",
    "\n",
    "\n",
    "```\n",
    "a = np.array([1,2,3,2,3,4,3,4,5,6])\n",
    "b = np.array([7,2,10,2,7,4,9,4,9,8])\n",
    "```\n",
    "\n",
    "\n",
    "Desired Output:\n",
    "\n",
    "\n",
    "\n",
    "```\n",
    "(array([1, 3, 5, 7]),)\n",
    "```\n",
    "\n"
   ]
  },
  {
   "cell_type": "code",
   "execution_count": 18,
   "metadata": {
    "id": "pTW1JS-OysyM"
   },
   "outputs": [
    {
     "name": "stdout",
     "output_type": "stream",
     "text": [
      "(array([1, 3, 5, 7], dtype=int64),)\n"
     ]
    }
   ],
   "source": [
    "a = np.array([1, 2, 3, 2, 3, 4, 3, 4, 5, 6])\n",
    "b = np.array([7, 2, 10, 2, 7, 4, 9, 4, 9, 8])\n",
    "result = np.where(np.isin(a, b))\n",
    "print(result)"
   ]
  },
  {
   "cell_type": "markdown",
   "metadata": {
    "id": "0wj25KsAyxfv"
   },
   "source": [
    "Problem  10\n",
    "\n",
    "Swap columns 1 and 2 in the array arr.\n",
    "\n",
    "```\n",
    "arr = np.arange(9).reshape(3,3)\n",
    "```\n",
    "\n",
    "Output:\n",
    "\n",
    "\n",
    "\n",
    "```\n",
    "array([[1, 0, 2],\n",
    "      [4, 3, 5],\n",
    "      [7, 6, 8]])\n",
    "```\n",
    "\n",
    "\n"
   ]
  },
  {
   "cell_type": "code",
   "execution_count": 19,
   "metadata": {
    "id": "V16xM0yjzfI0"
   },
   "outputs": [
    {
     "name": "stdout",
     "output_type": "stream",
     "text": [
      "[[0 2 1]\n",
      " [3 5 4]\n",
      " [6 8 7]]\n"
     ]
    }
   ],
   "source": [
    "arr = np.arange(9).reshape(3, 3)\n",
    "arr[:, [2, 1]] = arr[:, [1, 2]]\n",
    "\n",
    "print(arr)"
   ]
  },
  {
   "cell_type": "markdown",
   "metadata": {
    "id": "T3JTUp181MAR"
   },
   "source": [
    "Problem  11\n",
    "\n",
    "From the array a, replace all values greater than 30 to 30 and less than 10 to 10.\n",
    "\n",
    "Input:\n",
    "\n",
    "\n",
    "```\n",
    "np.random.seed(100)\n",
    "a = np.random.uniform(1,50, 20)\n",
    "```\n"
   ]
  },
  {
   "cell_type": "code",
   "execution_count": 20,
   "metadata": {
    "id": "Ju77O_4x1TJl"
   },
   "outputs": [
    {
     "name": "stdout",
     "output_type": "stream",
     "text": [
      "[30.         30.         30.         30.         10.         19.113799\n",
      " 30.         30.         21.36928186 30.         30.         30.\n",
      " 28.61390471 17.14815668 30.         30.         30.         26.6192109\n",
      " 30.         30.        ]\n"
     ]
    }
   ],
   "source": [
    "np.random.seed(100)\n",
    "a = np.random.uniform(1, 150, 20)\n",
    "result = np.clip(a,10,30)\n",
    "print(result)"
   ]
  },
  {
   "cell_type": "markdown",
   "metadata": {
    "id": "LHQfYYtLrz5e"
   },
   "source": [
    "Problem  12\n",
    "\n",
    "Compute the counts of unique values row-wise.\n",
    "\n",
    "Input:\n",
    "\n",
    "\n",
    "\n",
    "```\n",
    "np.random.seed(100)\n",
    "arr = np.random.randint(1,11,size=(6, 10))\n",
    "arr\n",
    "> array([[ 9,  9,  4,  8,  8,  1,  5,  3,  6,  3],\n",
    ">        [ 3,  3,  2,  1,  9,  5,  1, 10,  7,  3],\n",
    ">        [ 5,  2,  6,  4,  5,  5,  4,  8,  2,  2],\n",
    ">        [ 8,  8,  1,  3, 10, 10,  4,  3,  6,  9],\n",
    ">        [ 2,  1,  8,  7,  3,  1,  9,  3,  6,  2],\n",
    ">        [ 9,  2,  6,  5,  3,  9,  4,  6,  1, 10]])\n",
    "```\n",
    "\n",
    "\n",
    "\n",
    "Desired Output:\n",
    "\n",
    "\n",
    "\n",
    "```\n",
    "> [[1, 0, 2, 1, 1, 1, 0, 2, 2, 0],\n",
    ">  [2, 1, 3, 0, 1, 0, 1, 0, 1, 1],\n",
    ">  [0, 3, 0, 2, 3, 1, 0, 1, 0, 0],\n",
    ">  [1, 0, 2, 1, 0, 1, 0, 2, 1, 2],\n",
    ">  [2, 2, 2, 0, 0, 1, 1, 1, 1, 0],\n",
    ">  [1, 1, 1, 1, 1, 2, 0, 0, 2, 1]]\n",
    "```\n",
    "\n"
   ]
  },
  {
   "cell_type": "code",
   "execution_count": 33,
   "metadata": {
    "id": "MwEiQ9wssF1G"
   },
   "outputs": [
    {
     "data": {
      "text/plain": [
       "(array([[ 1,  3,  3,  4,  5,  6,  8,  8,  9,  9],\n",
       "        [ 5,  3, 10,  2,  1,  7,  1,  9,  3,  3],\n",
       "        [ 5,  2,  8,  6,  4,  2,  4,  5,  2,  5],\n",
       "        [10,  9,  3,  1,  4,  6,  3, 10,  8,  8],\n",
       "        [ 1,  2,  3,  8,  9,  6,  7,  3,  1,  2],\n",
       "        [ 9, 10,  6,  6,  4,  1,  5,  3,  2,  9]]),\n",
       " array([9, 8, 3, 6, 7, 0, 4, 2, 5, 1], dtype=int64))"
      ]
     },
     "execution_count": 33,
     "metadata": {},
     "output_type": "execute_result"
    }
   ],
   "source": [
    "np.random.seed(100)\n",
    "arr = np.random.randint(1,11,size=(6, 10))\n",
    "arr\n",
    "np.unique(arr, axis=1, return_inverse=True)"
   ]
  },
  {
   "cell_type": "markdown",
   "metadata": {
    "id": "j5DBowUpsTSR"
   },
   "source": [
    "Problem  13\n",
    "\n",
    "Compute the one-hot encodings (dummy binary variables for each unique value in the array)"
   ]
  },
  {
   "cell_type": "code",
   "execution_count": 34,
   "metadata": {
    "id": "9_W66J-VwNnJ"
   },
   "outputs": [
    {
     "name": "stdout",
     "output_type": "stream",
     "text": [
      "[[1. 0. 0.]\n",
      " [0. 1. 0.]\n",
      " [0. 0. 1.]]\n",
      "[[0. 0. 1.]\n",
      " [0. 1. 0.]\n",
      " [1. 0. 0.]]\n"
     ]
    }
   ],
   "source": [
    "import numpy as np\n",
    "\n",
    "def one_hot_encoding(arr):\n",
    "    unique_values = np.unique(arr)\n",
    "    one_hot_matrix = np.zeros((len(arr), len(unique_values)))\n",
    "    for i, value in enumerate(arr):\n",
    "        index = np.where(unique_values == value)[0][0]\n",
    "        one_hot_matrix[i, index] = 1\n",
    "    return one_hot_matrix\n",
    "print(one_hot_encoding([1,2,3]))\n",
    "print(one_hot_encoding([3,2,1]))"
   ]
  },
  {
   "cell_type": "markdown",
   "metadata": {
    "id": "ku1ShYriwWg5"
   },
   "source": [
    "Problem  14\n",
    "\n",
    "Create the ranks for the given numeric array a.\n",
    "\n",
    "Input:\n",
    "\n",
    "\n",
    "\n",
    "```\n",
    "np.random.seed(10)\n",
    "a = np.random.randint(20, size=10)\n",
    "print(a)\n",
    "#> [ 9  4 15  0 17 16 17  8  9  0]\n",
    "```\n",
    "\n",
    "Desired output:\n",
    "\n",
    "```\n",
    "[4 2 6 0 8 7 9 3 5 1]\n",
    "```"
   ]
  },
  {
   "cell_type": "code",
   "execution_count": 37,
   "metadata": {
    "id": "MTqYk__owkLS"
   },
   "outputs": [
    {
     "name": "stdout",
     "output_type": "stream",
     "text": [
      "[ 9  4 15  0 17 16 17  8  9  0]\n"
     ]
    }
   ],
   "source": [
    "np.random.seed(10)\n",
    "a = np.random.randint(20, size=10)\n",
    "print(a)\n",
    "sorted_indices = np.argsort(a)\n",
    "ranks = np.empty_like(sorted_indices)\n",
    "ranks[sorted_indices] = np.arange(len(a))\n",
    "ranks = len(a) - 1 - ranks"
   ]
  },
  {
   "cell_type": "markdown",
   "metadata": {
    "id": "GTX22O_CwBCn"
   },
   "source": [
    "Problem  15\n",
    "\n",
    "Create a rank array of the same shape as a given numeric array a.\n",
    "\n",
    "Input:\n",
    "\n",
    "\n",
    "\n",
    "```\n",
    "np.random.seed(10)\n",
    "a = np.random.randint(20, size=[2,5])\n",
    "print(a)\n",
    "#> [[ 9  4 15  0 17]\n",
    "#>  [16 17  8  9  0]]\n",
    "```\n",
    "\n",
    "\n",
    "Desired output:\n",
    "\n",
    "\n",
    "\n",
    "```\n",
    "#> [[4 2 6 0 8]\n",
    "#>  [7 9 3 5 1]]\n",
    "```\n",
    "\n"
   ]
  },
  {
   "cell_type": "code",
   "execution_count": 39,
   "metadata": {
    "id": "8Jrl4Xf8wL6n"
   },
   "outputs": [
    {
     "name": "stdout",
     "output_type": "stream",
     "text": [
      "[[ 9  4 15  0 17]\n",
      " [16 17  8  9  0]]\n",
      "[[5 7 3 9 1]\n",
      " [2 0 6 4 8]]\n"
     ]
    }
   ],
   "source": [
    "np.random.seed(10)\n",
    "a = np.random.randint(20, size=[2,5])\n",
    "print(a)\n",
    "flat_array = a.flatten()\n",
    "sorted_indices = np.argsort(flat_array)\n",
    "ranks = np.empty_like(sorted_indices)\n",
    "ranks[sorted_indices] = np.arange(len(flat_array))\n",
    "ranks = len(flat_array) - 1 - ranks\n",
    "\n",
    "rank_array = ranks.reshape(a.shape)\n",
    "print(rank_array)"
   ]
  },
  {
   "cell_type": "markdown",
   "metadata": {
    "id": "JX1wmQYXwsZP"
   },
   "source": [
    "Problem  16\n",
    "\n",
    "Compute the min-by-max for each row for given 2d numpy array\n",
    "\n",
    "Input:\n",
    "\n",
    "```\n",
    "np.random.seed(100)\n",
    "a = np.random.randint(1,10, [5,3])\n",
    "a\n",
    "#> array([[9, 9, 4],\n",
    "#>        [8, 8, 1],\n",
    "#>        [5, 3, 6],\n",
    "#>        [3, 3, 3],\n",
    "#>        [2, 1, 9]])\n",
    "```\n",
    "\n",
    "Desired Output:\n",
    "\n",
    "```\n",
    "array([ 0.44444444,  0.125     ,  0.5       ,  1.        ,  0.11111111])\n",
    "```"
   ]
  },
  {
   "cell_type": "code",
   "execution_count": 45,
   "metadata": {
    "id": "9u7Vg5F-wtwu"
   },
   "outputs": [
    {
     "name": "stdout",
     "output_type": "stream",
     "text": [
      "[0.44444444 0.125      0.5        1.         0.11111111]\n"
     ]
    }
   ],
   "source": [
    "np.random.seed(100)\n",
    "a = np.random.randint(1, 10, [5,3])\n",
    "min_by_max = np.min(a, axis=1) / np.max(a, axis=1)\n",
    "print(min_by_max)"
   ]
  },
  {
   "cell_type": "markdown",
   "metadata": {
    "id": "pLwGxnDdwvNZ"
   },
   "source": [
    "Problem  17\n",
    "\n",
    "Find the duplicate entries (2nd occurrence onwards) in the given numpy array and mark them as True. First time occurrences should be False\n",
    "\n",
    "Input\n",
    "```\n",
    "np.random.seed(100)\n",
    "a = np.random.randint(0, 5, 10)\n",
    "print('Array: ', a)\n",
    "#> Array: [0 0 3 0 2 4 2 2 2 2]\n",
    "```\n",
    "Desired Output:\n",
    "```\n",
    "#> [False  True False  True False False  True  True  True  True]\n",
    "```"
   ]
  },
  {
   "cell_type": "code",
   "execution_count": 52,
   "metadata": {
    "id": "iFzMSHx-xWTX"
   },
   "outputs": [
    {
     "name": "stdout",
     "output_type": "stream",
     "text": [
      "Array:  [0 0 3 0 2 4 2 2 2 2]\n",
      "Duplicates:  [ True  True False  True  True False  True  True  True  True]\n"
     ]
    }
   ],
   "source": [
    "np.random.seed(100)\n",
    "a = np.random.randint(0, 5, 10)\n",
    "print('Array: ', a)\n",
    "\n",
    "unique, counts = np.unique(a, return_counts=True)\n",
    "duplicates = np.isin(a, unique[counts > 1])\n",
    "print('Duplicates: ', duplicates)"
   ]
  },
  {
   "cell_type": "markdown",
   "metadata": {
    "id": "gE2QG7lfwvKP"
   },
   "source": [
    "Problem  18\n",
    "\n",
    "Drop all nan values from a 1D numpy array\n",
    "\n",
    "Input:\n",
    "```\n",
    "np.array([1,2,3,np.nan,5,6,7,np.nan])\n",
    "```\n",
    "Desired Output:\n",
    "```\n",
    "array([ 1.,  2.,  3.,  5.,  6.,  7.])\n",
    "```"
   ]
  },
  {
   "cell_type": "code",
   "execution_count": 58,
   "metadata": {
    "id": "jrEnT6SQxmuL"
   },
   "outputs": [
    {
     "data": {
      "text/plain": [
       "array([1., 2., 3., 5., 6., 7.])"
      ]
     },
     "execution_count": 58,
     "metadata": {},
     "output_type": "execute_result"
    }
   ],
   "source": [
    "a = np.array([1,2,3, np.nan,5,6,7,np.nan])\n",
    "not_na = a[~np.isnan(a)]\n",
    "not_na"
   ]
  },
  {
   "cell_type": "markdown",
   "metadata": {
    "id": "aDvGrDytx7Jh"
   },
   "source": [
    "Problem 19\n",
    "\n",
    "Find all the peaks in a 1D numpy array a. Peaks are points surrounded by smaller values on both sides.\n",
    "\n",
    "Input:\n",
    "```\n",
    "a = np.array([1, 3, 7, 1, 2, 6, 0, 1])\n",
    "```\n",
    "Desired Output:\n",
    "```\n",
    "#> array([2, 5])\n",
    "```"
   ]
  },
  {
   "cell_type": "code",
   "execution_count": 3,
   "metadata": {
    "id": "PVAt2DVGxnUc"
   },
   "outputs": [
    {
     "name": "stdout",
     "output_type": "stream",
     "text": [
      "[2 5]\n"
     ]
    }
   ],
   "source": [
    "a = np.array([1,3,7,1,2,6,0,1])\n",
    "\n",
    "def find_peaks(arr):\n",
    "    peaks = []\n",
    "    for i in range(1, len(arr) - 1):\n",
    "        if arr[i] > arr[i - 1] and arr[i] > arr[i + 1]:\n",
    "            peaks.append(i)\n",
    "    return np.array(peaks)\n",
    "\n",
    "a = np.array([1, 3, 7, 1, 2, 6, 0, 1])\n",
    "peaks = find_peaks(a)\n",
    "print(peaks)\n",
    "#> [2, 5]\n"
   ]
  },
  {
   "cell_type": "code",
   "execution_count": 4,
   "metadata": {},
   "outputs": [
    {
     "name": "stdout",
     "output_type": "stream",
     "text": [
      "[3 5]\n"
     ]
    }
   ],
   "source": [
    "b = np.array([1, 2, 7, 8, 2, 10, 0, 11])\n",
    "peaks = find_peaks(b)\n",
    "print(peaks)"
   ]
  },
  {
   "cell_type": "markdown",
   "metadata": {
    "id": "ueqd1H7WyHT6"
   },
   "source": [
    "Problem 20\n",
    "\n",
    "Subtract the 1d array b_1d from the 2d array a_2d, such that each item of b_1d subtracts from respective row of a_2d.\n",
    "\n",
    "\n",
    "Input\n",
    "```\n",
    "a_2d = np.array([[3,3,3],[4,4,4],[5,5,5]])\n",
    "b_1d = np.array([1,1,1]\n",
    "\n",
    "```\n",
    "Desired Output:\n",
    "```\n",
    "#> [[2 2 2]\n",
    "#>  [2 2 2]\n",
    "#>  [2 2 2]]\n",
    "```"
   ]
  },
  {
   "cell_type": "code",
   "execution_count": 11,
   "metadata": {
    "id": "usT-gMqOySyG"
   },
   "outputs": [
    {
     "name": "stdout",
     "output_type": "stream",
     "text": [
      "[[2 2 2]\n",
      " [3 3 3]\n",
      " [4 4 4]]\n"
     ]
    }
   ],
   "source": [
    "a_2d = np.array([[3,3,3],[4,4,4],[5,5,5]])\n",
    "b_1d = np.array([1,1,1])\n",
    "\n",
    "sub_Array = a_2d - b_1d[:, None]\n",
    "print(sub_Array)"
   ]
  },
  {
   "cell_type": "markdown",
   "metadata": {
    "id": "HWe3-R9C3rMi"
   },
   "source": [
    "Problem 21\n",
    "\n",
    "Find the index of 5th repetition of number 1 in x.\n",
    "\n",
    "Input:\n",
    "\n",
    "```\n",
    "x = np.array([1, 2, 1, 1, 3, 4, 3, 1, 1, 2, 1, 1, 2])\n",
    "```\n",
    "\n"
   ]
  },
  {
   "cell_type": "code",
   "execution_count": 14,
   "metadata": {
    "id": "EvD16zlJ3wVZ"
   },
   "outputs": [
    {
     "data": {
      "text/plain": [
       "8"
      ]
     },
     "execution_count": 14,
     "metadata": {},
     "output_type": "execute_result"
    }
   ],
   "source": [
    "x = np.array([1, 2, 1, 1, 3, 4, 3, 1, 1, 2, 1, 1, 2])\n",
    "index = np.where(x == 1)[0][4]\n",
    "index"
   ]
  },
  {
   "cell_type": "markdown",
   "metadata": {
    "id": "I791Ruie3xBD"
   },
   "source": [
    "Problem 22\n",
    "\n",
    "Create a numpy array of length 10, starting from 5 and has a step of 3 between consecutive numbers"
   ]
  },
  {
   "cell_type": "code",
   "execution_count": 16,
   "metadata": {
    "id": "kzFiZ_SC39em"
   },
   "outputs": [
    {
     "data": {
      "text/plain": [
       "array([ 5,  8, 11, 14, 17, 20, 23, 26, 29, 32])"
      ]
     },
     "execution_count": 16,
     "metadata": {},
     "output_type": "execute_result"
    }
   ],
   "source": [
    "np.arange(5,5+3*10,3)"
   ]
  },
  {
   "cell_type": "markdown",
   "metadata": {
    "id": "QyQmrqM43-SS"
   },
   "source": [
    "Problem 23\n",
    "\n",
    " From the given 1d array arr, generate a 2d matrix using strides, with a window length of 4 and strides of 2, like [[0,1,2,3], [2,3,4,5], [4,5,6,7]..]\n",
    "\n",
    "Input:\n",
    "```\n",
    "arr = np.arange(15) \n",
    "arr\n",
    "#> array([ 0,  1,  2,  3,  4,  5,  6,  7,  8,  9, 10, 11, 12, 13, 14])\n",
    "```\n",
    "\n",
    "Desired Output:\n",
    "```\n",
    "#> [[ 0  1  2  3]\n",
    "#>  [ 2  3  4  5]\n",
    "#>  [ 4  5  6  7]\n",
    "#>  [ 6  7  8  9]\n",
    "#>  [ 8  9 10 11]\n",
    "#>  [10 11 12 13]]\n",
    "```"
   ]
  },
  {
   "cell_type": "code",
   "execution_count": 17,
   "metadata": {
    "id": "My6d6SyU4NhC"
   },
   "outputs": [
    {
     "data": {
      "text/plain": [
       "array([ 0,  1,  2,  3,  4,  5,  6,  7,  8,  9, 10, 11, 12, 13, 14])"
      ]
     },
     "execution_count": 17,
     "metadata": {},
     "output_type": "execute_result"
    }
   ],
   "source": [
    "arr = np.arange(15)\n",
    "arr"
   ]
  },
  {
   "cell_type": "code",
   "execution_count": 21,
   "metadata": {},
   "outputs": [
    {
     "data": {
      "text/plain": [
       "array([[ 0,  1,  2],\n",
       "       [ 3,  4,  5],\n",
       "       [ 6,  7,  8],\n",
       "       [ 9, 10, 11],\n",
       "       [12, 13, 14]])"
      ]
     },
     "execution_count": 21,
     "metadata": {},
     "output_type": "execute_result"
    }
   ],
   "source": [
    "np.arange(15).reshape(5,3)"
   ]
  },
  {
   "cell_type": "markdown",
   "metadata": {},
   "source": [
    "# End"
   ]
  },
  {
   "cell_type": "code",
   "execution_count": null,
   "metadata": {},
   "outputs": [],
   "source": []
  }
 ],
 "metadata": {
  "colab": {
   "provenance": []
  },
  "kernelspec": {
   "display_name": "Python 3 (ipykernel)",
   "language": "python",
   "name": "python3"
  },
  "language_info": {
   "codemirror_mode": {
    "name": "ipython",
    "version": 3
   },
   "file_extension": ".py",
   "mimetype": "text/x-python",
   "name": "python",
   "nbconvert_exporter": "python",
   "pygments_lexer": "ipython3",
   "version": "3.9.13"
  }
 },
 "nbformat": 4,
 "nbformat_minor": 1
}
