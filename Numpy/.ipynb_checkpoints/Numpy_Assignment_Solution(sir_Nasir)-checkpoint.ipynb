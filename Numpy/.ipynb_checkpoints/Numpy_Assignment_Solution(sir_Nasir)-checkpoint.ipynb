{
 "cells": [
  {
   "cell_type": "markdown",
   "metadata": {
    "id": "489PN1QZm4pJ"
   },
   "source": [
    "PIAIC 168751- MAAH NOOR Numpy Assignment \n",
    "\n",
    "\n",
    "```\n",
    "# This is formatted as code\n",
    "```\n",
    "\n"
   ]
  },
  {
   "cell_type": "markdown",
   "metadata": {
    "id": "3c7NCXD4uwMi"
   },
   "source": [
    "Problem  1\n",
    "\n",
    "Convert a 1D array to a 2D array with 2 rows\n",
    "\n",
    "Input:\n",
    "```\n",
    "np.arange(10)\n",
    "\n",
    "#> array([ 0, 1, 2, 3, 4, 5, 6, 7, 8, 9])\n",
    "```\n",
    "\n",
    "Output:\n",
    "\n",
    "\n",
    "```\n",
    "#> array([[0, 1, 2, 3, 4],\n",
    "#>        [5, 6, 7, 8, 9]])\n",
    "```\n",
    "\n"
   ]
  },
  {
   "cell_type": "code",
   "execution_count": null,
   "metadata": {
    "colab": {
     "base_uri": "https://localhost:8080/"
    },
    "id": "8CD3EzszvQX_",
    "outputId": "2396bc70-a34a-418b-9388-d28015d26635"
   },
   "outputs": [
    {
     "data": {
      "text/plain": [
       "array([[0, 1, 2, 3, 4],\n",
       "       [5, 6, 7, 8, 9]])"
      ]
     },
     "execution_count": 24,
     "metadata": {},
     "output_type": "execute_result"
    }
   ],
   "source": [
    "import numpy as np\n",
    "arr = np.arange(10)\n",
    "newarr = arr.reshape(2,5)\n",
    "newarr"
   ]
  },
  {
   "cell_type": "markdown",
   "metadata": {
    "id": "Jfm1H1quvQ2v"
   },
   "source": [
    "Problem  2\n",
    "\n",
    "Extract all odd numbers from arr\n",
    "\n",
    "```\n",
    "arr = np.array([0, 1, 2, 3, 4, 5, 6, 7, 8, 9])\n",
    "```\n",
    "\n"
   ]
  },
  {
   "cell_type": "code",
   "execution_count": null,
   "metadata": {
    "colab": {
     "base_uri": "https://localhost:8080/"
    },
    "id": "E7YIi0covbZW",
    "outputId": "ce814dad-2043-419e-caa4-c60eb55183c2"
   },
   "outputs": [
    {
     "data": {
      "text/plain": [
       "array([1, 3, 5, 7, 9])"
      ]
     },
     "execution_count": 25,
     "metadata": {},
     "output_type": "execute_result"
    }
   ],
   "source": [
    "odd_list = arr[(arr%2!=0)]\n",
    "odd_list"
   ]
  },
  {
   "cell_type": "markdown",
   "metadata": {
    "id": "DbI3SEjgvkoJ"
   },
   "source": [
    "Problem  3\n",
    "\n",
    "Replace all odd numbers in arr with -1\n",
    "\n",
    "```\n",
    "arr = np.array([0, 1, 2, 3, 4, 5, 6, 7, 8, 9])\n",
    "```\n",
    "\n",
    "Output:\n",
    "\n",
    "\n",
    "```\n",
    "#>  array([ 0, -1,  2, -1,  4, -1,  6, -1,  8, -1])\n",
    "```\n",
    "\n"
   ]
  },
  {
   "cell_type": "code",
   "execution_count": null,
   "metadata": {
    "colab": {
     "base_uri": "https://localhost:8080/"
    },
    "id": "h6GIvmpVv71a",
    "outputId": "c3087176-48d6-4e8c-c4db-9eb1106f1cd3"
   },
   "outputs": [
    {
     "data": {
      "text/plain": [
       "array([ 0, -1,  2, -1,  4, -1,  6, -1,  8, -1])"
      ]
     },
     "execution_count": 26,
     "metadata": {},
     "output_type": "execute_result"
    }
   ],
   "source": [
    "arr[(arr%2!=0)]=-1\n",
    "arr"
   ]
  },
  {
   "cell_type": "markdown",
   "metadata": {
    "id": "DVPkniOuwHj_"
   },
   "source": [
    "Problem  4\n",
    "\n",
    "Replace all odd numbers in arr with -1 without changing arr\n",
    "\n",
    "Input:\n",
    "\n",
    "`arr = np.array([0, 1, 2, 3, 4, 5, 6, 7, 8, 9])`\n",
    "\n",
    "Desired Output:\n",
    "\n",
    "```\n",
    "out\n",
    "#>  array([ 0, -1,  2, -1,  4, -1,  6, -1,  8, -1])\n",
    "arr\n",
    "#>  array([0, 1, 2, 3, 4, 5, 6, 7, 8, 9])\n",
    "```\n",
    "\n",
    "\n"
   ]
  },
  {
   "cell_type": "code",
   "execution_count": null,
   "metadata": {
    "colab": {
     "base_uri": "https://localhost:8080/"
    },
    "id": "oNPugS2awTLZ",
    "outputId": "92f86baa-78be-4145-a047-ce11aba0fa62"
   },
   "outputs": [
    {
     "name": "stdout",
     "output_type": "stream",
     "text": [
      "[ 0 -1  2 -1  4 -1  6 -1  8 -1]\n",
      "[0 1 2 3 4 5 6 7 8 9]\n"
     ]
    }
   ],
   "source": [
    "arr = np.array([0, 1, 2, 3, 4, 5, 6, 7, 8, 9])\n",
    "out = np.where(arr%2!=0,-1,arr)\n",
    "print(out)\n",
    "print(arr)"
   ]
  },
  {
   "cell_type": "markdown",
   "metadata": {
    "id": "jXUu_NSCwfDP"
   },
   "source": [
    "Problem  5\n",
    "\n",
    "Stack arrays a and b vertically\n",
    "\n",
    "Input\n",
    "\n",
    "\n",
    "\n",
    "```\n",
    "a = np.arange(10).reshape(2,-1)\n",
    "b = np.repeat(1, 10).reshape(2,-1)\n",
    "```\n",
    "\n",
    "\n",
    "Desired Output:\n",
    "\n",
    "\n",
    "```\n",
    "array([[0, 1, 2, 3, 4],\n",
    "       [5, 6, 7, 8, 9],\n",
    "       [1, 1, 1, 1, 1],\n",
    "       [1, 1, 1, 1, 1]])\n",
    "```\n",
    "\n",
    "\n"
   ]
  },
  {
   "cell_type": "code",
   "execution_count": null,
   "metadata": {
    "colab": {
     "base_uri": "https://localhost:8080/"
    },
    "id": "ZeSCX31zwvKK",
    "outputId": "aa5e25b3-45f8-4510-ab94-99d34a67e9aa"
   },
   "outputs": [
    {
     "data": {
      "text/plain": [
       "array([[0, 1, 2, 3, 4],\n",
       "       [5, 6, 7, 8, 9],\n",
       "       [1, 1, 1, 1, 1],\n",
       "       [1, 1, 1, 1, 1]])"
      ]
     },
     "execution_count": 28,
     "metadata": {},
     "output_type": "execute_result"
    }
   ],
   "source": [
    "a = np.arange(10).reshape(2,-1)\n",
    "b = np.repeat(1, 10).reshape(2,-1)\n",
    "np.vstack((a,b))"
   ]
  },
  {
   "cell_type": "markdown",
   "metadata": {
    "id": "dWoOzOMQw0E5"
   },
   "source": [
    "Problem  6\n",
    "\n",
    "Stack the arrays a and b horizontally.\n",
    "\n",
    "Input\n",
    "\n",
    "\n",
    "```\n",
    "a = np.arange(10).reshape(2,-1)\n",
    "b = np.repeat(1, 10).reshape(2,-1)\n",
    "```\n",
    "\n",
    "\n",
    "Desired Output:\n",
    "\n",
    "\n",
    "\n",
    "```\n",
    "array([[0, 1, 2, 3, 4, 1, 1, 1, 1, 1],\n",
    "       [5, 6, 7, 8, 9, 1, 1, 1, 1, 1]])\n",
    "```\n",
    "\n",
    "\n"
   ]
  },
  {
   "cell_type": "code",
   "execution_count": null,
   "metadata": {
    "colab": {
     "base_uri": "https://localhost:8080/"
    },
    "id": "CPbTohhww-h4",
    "outputId": "a0eea8aa-69a7-4fad-ba34-7cc1548038cf"
   },
   "outputs": [
    {
     "data": {
      "text/plain": [
       "array([[0, 1, 2, 3, 4, 1, 1, 1, 1, 1],\n",
       "       [5, 6, 7, 8, 9, 1, 1, 1, 1, 1]])"
      ]
     },
     "execution_count": 29,
     "metadata": {},
     "output_type": "execute_result"
    }
   ],
   "source": [
    "a = np.arange(10).reshape(2,-1)\n",
    "b = np.repeat(1, 10).reshape(2,-1)\n",
    "np.hstack((a,b))"
   ]
  },
  {
   "cell_type": "markdown",
   "metadata": {
    "id": "qiU8NCeexCLB"
   },
   "source": [
    "Problem  7\n",
    "\n",
    "Create the following pattern without hardcoding. Use only numpy functions and the below input array a.\n",
    "\n",
    "Input:\n",
    "\n",
    "\n",
    "\n",
    "```\n",
    "a = np.array([1,2,3])\n",
    "```\n",
    "\n",
    "\n",
    "Desired Output:\n",
    "\n",
    "\n",
    "\n",
    "```\n",
    "#> array([1, 1, 1, 2, 2, 2, 3, 3, 3, 1, 2, 3, 1, 2, 3, 1, 2, 3])\n",
    "```\n",
    "\n",
    "\n"
   ]
  },
  {
   "cell_type": "code",
   "execution_count": null,
   "metadata": {
    "colab": {
     "base_uri": "https://localhost:8080/"
    },
    "id": "ucqs8mKuxOu_",
    "outputId": "2bcd199b-5767-4eb8-f75a-c10483e191aa"
   },
   "outputs": [
    {
     "data": {
      "text/plain": [
       "array([1, 1, 1, 2, 2, 2, 3, 3, 3, 1, 2, 3, 1, 2, 3, 1, 2, 3])"
      ]
     },
     "execution_count": 30,
     "metadata": {},
     "output_type": "execute_result"
    }
   ],
   "source": [
    "a = np.array([1,2,3])\n",
    "b= np.concatenate((a,a))\n",
    "c= len(a)\n",
    "x= np.repeat(a,c)\n",
    "y= np.tile(a,c)\n",
    "z= np.concatenate((x,y))\n",
    "z"
   ]
  },
  {
   "cell_type": "markdown",
   "metadata": {
    "id": "z714O_AoyOKW"
   },
   "source": [
    "Problem  8\n",
    "\n",
    "From array a remove all items present in array b\n",
    "\n",
    "Input:\n",
    "\n",
    "\n",
    "```\n",
    "a = np.array([1,2,3,4,5])\n",
    "b = np.array([5,6,7,8,9])\n",
    "```\n",
    "\n",
    "Desired Output:\n",
    "\n",
    "```\n",
    "array([1,2,3,4])\n",
    "```\n",
    "\n",
    "\n"
   ]
  },
  {
   "cell_type": "code",
   "execution_count": null,
   "metadata": {
    "colab": {
     "base_uri": "https://localhost:8080/"
    },
    "id": "9S49aVovyY3D",
    "outputId": "ac0c1123-1454-41c6-da7e-c61686c1b14b"
   },
   "outputs": [
    {
     "data": {
      "text/plain": [
       "array([1, 2, 3, 4])"
      ]
     },
     "execution_count": 31,
     "metadata": {},
     "output_type": "execute_result"
    }
   ],
   "source": [
    "a = np.array([1,2,3,4,5])\n",
    "b = np.array([5,6,7,8,9])\n",
    "c = np.in1d(a,b,invert=True)\n",
    "out = a[c]\n",
    "out"
   ]
  },
  {
   "cell_type": "markdown",
   "metadata": {
    "id": "EAfoETZyyZi2"
   },
   "source": [
    "Problem  9\n",
    "\n",
    "Get the positions where elements of a and b match\n",
    "\n",
    "Input:\n",
    "\n",
    "\n",
    "\n",
    "```\n",
    "a = np.array([1,2,3,2,3,4,3,4,5,6])\n",
    "b = np.array([7,2,10,2,7,4,9,4,9,8])\n",
    "```\n",
    "\n",
    "\n",
    "Desired Output:\n",
    "\n",
    "\n",
    "\n",
    "```\n",
    "(array([1, 3, 5, 7]),)\n",
    "```\n",
    "\n"
   ]
  },
  {
   "cell_type": "code",
   "execution_count": null,
   "metadata": {
    "colab": {
     "base_uri": "https://localhost:8080/"
    },
    "id": "pTW1JS-OysyM",
    "outputId": "1f8fccaf-3054-4fc1-8939-0e3ade604ac4"
   },
   "outputs": [
    {
     "data": {
      "text/plain": [
       "array([1, 3, 5, 7])"
      ]
     },
     "execution_count": 32,
     "metadata": {},
     "output_type": "execute_result"
    }
   ],
   "source": [
    "a = np.array([1,2,3,2,3,4,3,4,5,6])\n",
    "b = np.array([7,2,10,2,7,4,9,4,9,8])\n",
    "c= np.array(np.where(a==b)).ravel()\n",
    "c"
   ]
  },
  {
   "cell_type": "markdown",
   "metadata": {
    "id": "0wj25KsAyxfv"
   },
   "source": [
    "Problem  10\n",
    "\n",
    "Swap columns 1 and 2 in the array arr.\n",
    "\n",
    "```\n",
    "arr = np.arange(9).reshape(3,3)\n",
    "```\n",
    "\n",
    "Output:\n",
    "\n",
    "\n",
    "\n",
    "```\n",
    "array([[1, 0, 2],\n",
    "      [4, 3, 5],\n",
    "      [7, 6, 8]])\n",
    "```\n",
    "\n",
    "\n"
   ]
  },
  {
   "cell_type": "code",
   "execution_count": null,
   "metadata": {
    "colab": {
     "base_uri": "https://localhost:8080/"
    },
    "id": "V16xM0yjzfI0",
    "outputId": "c9c33ee1-23d2-4526-be5d-72c171b8a85e"
   },
   "outputs": [
    {
     "data": {
      "text/plain": [
       "array([[1, 0, 2],\n",
       "       [4, 3, 5],\n",
       "       [7, 6, 8]])"
      ]
     },
     "execution_count": 33,
     "metadata": {},
     "output_type": "execute_result"
    }
   ],
   "source": [
    "arr = np.arange(9).reshape(3,3)\n",
    "arr[:, [1, 0]] = arr[:, [0, 1]]\n",
    "arr"
   ]
  },
  {
   "cell_type": "markdown",
   "metadata": {
    "id": "T3JTUp181MAR"
   },
   "source": [
    "Problem  11\n",
    "\n",
    "From the array a, replace all values greater than 30 to 30 and less than 10 to 10.\n",
    "\n",
    "Input:\n",
    "\n",
    "\n",
    "```\n",
    "np.random.seed(100)\n",
    "a = np.random.uniform(1,50, 20)\n",
    "```\n"
   ]
  },
  {
   "cell_type": "code",
   "execution_count": null,
   "metadata": {
    "colab": {
     "base_uri": "https://localhost:8080/"
    },
    "id": "Ju77O_4x1TJl",
    "outputId": "fdbbabe8-0097-4955-e435-383ca2065efd"
   },
   "outputs": [
    {
     "data": {
      "text/plain": [
       "array([27.62684215, 14.64009987, 21.80136195, 30.        , 10.        ,\n",
       "       10.        , 30.        , 30.        , 10.        , 29.17957314,\n",
       "       30.        , 11.25090398, 10.08108276, 10.        , 11.76517714,\n",
       "       30.        , 30.        , 10.        , 30.        , 14.42961361])"
      ]
     },
     "execution_count": 34,
     "metadata": {},
     "output_type": "execute_result"
    }
   ],
   "source": [
    "np.random.seed(100)\n",
    "a = np.random.uniform(1,50, 20)\n",
    "a[a>30]=30\n",
    "a[a<10]=10\n",
    "a"
   ]
  },
  {
   "cell_type": "markdown",
   "metadata": {
    "id": "LHQfYYtLrz5e"
   },
   "source": [
    "Problem  12\n",
    "\n",
    "Compute the counts of unique values row-wise.\n",
    "\n",
    "Input:\n",
    "\n",
    "\n",
    "\n",
    "```\n",
    "np.random.seed(100)\n",
    "arr = np.random.randint(1,11,size=(6, 10))\n",
    "arr\n",
    "> array([[ 9,  9,  4,  8,  8,  1,  5,  3,  6,  3],\n",
    ">        [ 3,  3,  2,  1,  9,  5,  1, 10,  7,  3],\n",
    ">        [ 5,  2,  6,  4,  5,  5,  4,  8,  2,  2],\n",
    ">        [ 8,  8,  1,  3, 10, 10,  4,  3,  6,  9],\n",
    ">        [ 2,  1,  8,  7,  3,  1,  9,  3,  6,  2],\n",
    ">        [ 9,  2,  6,  5,  3,  9,  4,  6,  1, 10]])\n",
    "```\n",
    "\n",
    "\n",
    "\n",
    "Desired Output:\n",
    "\n",
    "\n",
    "\n",
    "```\n",
    "> [[1, 0, 2, 1, 1, 1, 0, 2, 2, 0],\n",
    ">  [2, 1, 3, 0, 1, 0, 1, 0, 1, 1],\n",
    ">  [0, 3, 0, 2, 3, 1, 0, 1, 0, 0],\n",
    ">  [1, 0, 2, 1, 0, 1, 0, 2, 1, 2],\n",
    ">  [2, 2, 2, 0, 0, 1, 1, 1, 1, 0],\n",
    ">  [1, 1, 1, 1, 1, 2, 0, 0, 2, 1]]\n",
    "```\n",
    "\n"
   ]
  },
  {
   "cell_type": "code",
   "execution_count": null,
   "metadata": {
    "colab": {
     "base_uri": "https://localhost:8080/"
    },
    "id": "MwEiQ9wssF1G",
    "outputId": "1fbf9d1a-e632-418d-a2ed-f5a321afeb6c"
   },
   "outputs": [
    {
     "data": {
      "text/plain": [
       "array([[1, 0, 2, 1, 1, 1, 0, 2, 2, 0],\n",
       "       [2, 1, 3, 0, 1, 0, 1, 0, 1, 1],\n",
       "       [0, 3, 0, 2, 3, 1, 0, 1, 0, 0],\n",
       "       [1, 0, 2, 1, 0, 1, 0, 2, 1, 2],\n",
       "       [2, 2, 2, 0, 0, 1, 1, 1, 1, 0],\n",
       "       [1, 1, 1, 1, 1, 2, 0, 0, 2, 1]])"
      ]
     },
     "execution_count": 35,
     "metadata": {},
     "output_type": "execute_result"
    }
   ],
   "source": [
    "def my_func(argum):\n",
    "  dum=np.arange(1,11)\n",
    "  u,c= np.unique(argum, return_counts=True)\n",
    "  missing= set(dum)^set(u)\n",
    "  for x in missing:\n",
    "    c=np.insert(c,x-1,0)\n",
    "  return c\n",
    "\n",
    "np.random.seed(100)\n",
    "arr = np.random.randint(1,11,size=(6, 10))\n",
    "\n",
    "np.apply_along_axis(my_func,1,arr)\n"
   ]
  },
  {
   "cell_type": "markdown",
   "metadata": {
    "id": "j5DBowUpsTSR"
   },
   "source": [
    "Problem  13\n",
    "\n",
    "Compute the one-hot encodings (dummy binary variables for each unique value in the array)"
   ]
  },
  {
   "cell_type": "code",
   "execution_count": null,
   "metadata": {
    "colab": {
     "base_uri": "https://localhost:8080/"
    },
    "id": "9_W66J-VwNnJ",
    "outputId": "1fa4fa9b-8c2a-4599-eea9-4595d4e1fde5"
   },
   "outputs": [
    {
     "data": {
      "text/plain": [
       "array([[0., 1., 0.],\n",
       "       [0., 0., 1.],\n",
       "       [0., 1., 0.],\n",
       "       [0., 1., 0.],\n",
       "       [0., 1., 0.],\n",
       "       [1., 0., 0.]])"
      ]
     },
     "execution_count": 46,
     "metadata": {},
     "output_type": "execute_result"
    }
   ],
   "source": [
    "np.random.seed(101) \n",
    "arr = np.random.randint(1,4, size=6)\n",
    "def one_hot_encodings(arr):\n",
    "    uniqs = np.unique(arr)\n",
    "    out = np.zeros((arr.shape[0], uniqs.shape[0]))\n",
    "    for i, k in enumerate(arr):\n",
    "        out[i, k-1] = 1\n",
    "    return out\n",
    "\n",
    "one_hot_encodings(arr)"
   ]
  },
  {
   "cell_type": "markdown",
   "metadata": {
    "id": "ku1ShYriwWg5"
   },
   "source": [
    "Problem  14\n",
    "\n",
    "Create the ranks for the given numeric array a.\n",
    "\n",
    "Input:\n",
    "\n",
    "\n",
    "\n",
    "```\n",
    "np.random.seed(10)\n",
    "a = np.random.randint(20, size=10)\n",
    "print(a)\n",
    "#> [ 9  4 15  0 17 16 17  8  9  0]\n",
    "```\n",
    "\n",
    "Desired output:\n",
    "\n",
    "```\n",
    "[4 2 6 0 8 7 9 3 5 1]\n",
    "```"
   ]
  },
  {
   "cell_type": "code",
   "execution_count": null,
   "metadata": {
    "colab": {
     "base_uri": "https://localhost:8080/"
    },
    "id": "MTqYk__owkLS",
    "outputId": "499d7cbb-ccf7-4b1f-87f5-a0ebcd34fca6"
   },
   "outputs": [
    {
     "data": {
      "text/plain": [
       "array([4, 2, 6, 0, 8, 7, 9, 3, 5, 1])"
      ]
     },
     "execution_count": 36,
     "metadata": {},
     "output_type": "execute_result"
    }
   ],
   "source": [
    "arr=np.array([ 9 , 4 ,15 , 0 ,17, 16, 17 , 8 , 9 , 0])\n",
    "rank = arr.argsort()\n",
    "rank = rank.argsort()\n",
    "rank"
   ]
  },
  {
   "cell_type": "markdown",
   "metadata": {
    "id": "GTX22O_CwBCn"
   },
   "source": [
    "Problem  15\n",
    "\n",
    "Create a rank array of the same shape as a given numeric array a.\n",
    "\n",
    "Input:\n",
    "\n",
    "\n",
    "\n",
    "```\n",
    "np.random.seed(10)\n",
    "a = np.random.randint(20, size=[2,5])\n",
    "print(a)\n",
    "#> [[ 9  4 15  0 17]\n",
    "#>  [16 17  8  9  0]]\n",
    "```\n",
    "\n",
    "\n",
    "Desired output:\n",
    "\n",
    "\n",
    "\n",
    "```\n",
    "#> [[4 2 6 0 8]\n",
    "#>  [7 9 3 5 1]]\n",
    "```\n",
    "\n"
   ]
  },
  {
   "cell_type": "code",
   "execution_count": null,
   "metadata": {
    "colab": {
     "base_uri": "https://localhost:8080/"
    },
    "id": "8Jrl4Xf8wL6n",
    "outputId": "8c83ac37-ffe5-4294-f1e3-d8d1851b46f6"
   },
   "outputs": [
    {
     "name": "stdout",
     "output_type": "stream",
     "text": [
      "[[ 9  4 15  0 17]\n",
      " [16 17  8  9  0]]\n"
     ]
    },
    {
     "data": {
      "text/plain": [
       "array([[4, 2, 6, 0, 8],\n",
       "       [7, 9, 3, 5, 1]])"
      ]
     },
     "execution_count": 37,
     "metadata": {},
     "output_type": "execute_result"
    }
   ],
   "source": [
    "np.random.seed(10)\n",
    "a = np.random.randint(20, size=[2,5])\n",
    "print(a)\n",
    "rank = arr.argsort()\n",
    "rank = rank.argsort()\n",
    "rank.reshape((2,5))"
   ]
  },
  {
   "cell_type": "markdown",
   "metadata": {
    "id": "JX1wmQYXwsZP"
   },
   "source": [
    "Problem  16\n",
    "\n",
    "Compute the min-by-max for each row for given 2d numpy array\n",
    "\n",
    "Input:\n",
    "\n",
    "```\n",
    "np.random.seed(100)\n",
    "a = np.random.randint(1,10, [5,3])\n",
    "a\n",
    "#> array([[9, 9, 4],\n",
    "#>        [8, 8, 1],\n",
    "#>        [5, 3, 6],\n",
    "#>        [3, 3, 3],\n",
    "#>        [2, 1, 9]])\n",
    "```\n",
    "\n",
    "Desired Output:\n",
    "\n",
    "```\n",
    "array([ 0.44444444,  0.125     ,  0.5       ,  1.        ,  0.11111111])\n",
    "```"
   ]
  },
  {
   "cell_type": "code",
   "execution_count": null,
   "metadata": {
    "colab": {
     "base_uri": "https://localhost:8080/"
    },
    "id": "9u7Vg5F-wtwu",
    "outputId": "f8017775-6c89-46ea-8413-25c466d28bd8"
   },
   "outputs": [
    {
     "data": {
      "text/plain": [
       "array([0.44444444, 0.125     , 0.5       , 1.        , 0.11111111])"
      ]
     },
     "execution_count": 38,
     "metadata": {},
     "output_type": "execute_result"
    }
   ],
   "source": [
    "def my_func1(abc):\n",
    "  return abc[np.argmin(abc)]/abc[np.argmax(abc)]\n",
    "np.random.seed(100)\n",
    "arr = np.random.randint(1,10, [5,3])\n",
    "np.apply_along_axis(my_func1,1,arr)"
   ]
  },
  {
   "cell_type": "markdown",
   "metadata": {
    "id": "pLwGxnDdwvNZ"
   },
   "source": [
    "Problem  17\n",
    "\n",
    "Find the duplicate entries (2nd occurrence onwards) in the given numpy array and mark them as True. First time occurrences should be False\n",
    "\n",
    "Input\n",
    "```\n",
    "np.random.seed(100)\n",
    "a = np.random.randint(0, 5, 10)\n",
    "print('Array: ', a)\n",
    "#> Array: [0 0 3 0 2 4 2 2 2 2]\n",
    "```\n",
    "Desired Output:\n",
    "```\n",
    "#> [False  True False  True False False  True  True  True  True]\n",
    "```"
   ]
  },
  {
   "cell_type": "code",
   "execution_count": null,
   "metadata": {
    "colab": {
     "base_uri": "https://localhost:8080/"
    },
    "id": "iFzMSHx-xWTX",
    "outputId": "cc44f753-4972-4e3d-c8c9-e22f02ab022e"
   },
   "outputs": [
    {
     "data": {
      "text/plain": [
       "array([0, 1, 0, 1, 0, 0, 1, 1, 1, 1])"
      ]
     },
     "execution_count": 39,
     "metadata": {},
     "output_type": "execute_result"
    }
   ],
   "source": [
    "arr = np.array([0, 0, 3, 0, 2 ,4 ,2, 2, 2, 2])\n",
    "u, c = np.unique(arr, return_index=True)\n",
    "arr[:]=True\n",
    "arr[c]=False\n",
    "arr"
   ]
  },
  {
   "cell_type": "markdown",
   "metadata": {
    "id": "gE2QG7lfwvKP"
   },
   "source": [
    "Problem  18\n",
    "\n",
    "Drop all nan values from a 1D numpy array\n",
    "\n",
    "Input:\n",
    "```\n",
    "np.array([1,2,3,np.nan,5,6,7,np.nan])\n",
    "```\n",
    "Desired Output:\n",
    "```\n",
    "array([ 1.,  2.,  3.,  5.,  6.,  7.])\n",
    "```"
   ]
  },
  {
   "cell_type": "code",
   "execution_count": null,
   "metadata": {
    "colab": {
     "base_uri": "https://localhost:8080/"
    },
    "id": "jrEnT6SQxmuL",
    "outputId": "f09db751-3196-4e09-f99e-cb74a07a6850"
   },
   "outputs": [
    {
     "data": {
      "text/plain": [
       "array([1., 2., 3., 5., 6., 7.])"
      ]
     },
     "execution_count": 40,
     "metadata": {},
     "output_type": "execute_result"
    }
   ],
   "source": [
    "arr= np.array([1,2,3,np.nan,5,6,7,np.nan])\n",
    "x= np.argwhere(np.isnan(arr))\n",
    "y= np.delete(arr,x)\n",
    "y"
   ]
  },
  {
   "cell_type": "markdown",
   "metadata": {
    "id": "aDvGrDytx7Jh"
   },
   "source": [
    "Problem 19\n",
    "\n",
    "Find all the peaks in a 1D numpy array a. Peaks are points surrounded by smaller values on both sides.\n",
    "\n",
    "Input:\n",
    "```\n",
    "a = np.array([1, 3, 7, 1, 2, 6, 0, 1])\n",
    "```\n",
    "Desired Output:\n",
    "```\n",
    "#> array([2, 5])\n",
    "```"
   ]
  },
  {
   "cell_type": "code",
   "execution_count": null,
   "metadata": {
    "colab": {
     "base_uri": "https://localhost:8080/"
    },
    "id": "PVAt2DVGxnUc",
    "outputId": "78bea5e2-d666-4968-8d9f-f29d22852fb9"
   },
   "outputs": [
    {
     "data": {
      "text/plain": [
       "array([2, 5])"
      ]
     },
     "execution_count": 41,
     "metadata": {},
     "output_type": "execute_result"
    }
   ],
   "source": [
    "a = np.array([1, 3, 7, 1, 2, 6, 0, 1])\n",
    "x= np.where(np.diff(np.diff(a))<0)\n",
    "y= (np.array(x)).ravel()\n",
    "y+1"
   ]
  },
  {
   "cell_type": "markdown",
   "metadata": {
    "id": "ueqd1H7WyHT6"
   },
   "source": [
    "Problem 20\n",
    "\n",
    "Subtract the 1d array b_1d from the 2d array a_2d, such that each item of b_1d subtracts from respective row of a_2d.\n",
    "\n",
    "\n",
    "Input\n",
    "```\n",
    "a_2d = np.array([[3,3,3],[4,4,4],[5,5,5]])\n",
    "b_1d = np.array([1,1,1]\n",
    "\n",
    "```\n",
    "Desired Output:\n",
    "```\n",
    "#> [[2 2 2]\n",
    "#>  [2 2 2]\n",
    "#>  [2 2 2]]\n",
    "```"
   ]
  },
  {
   "cell_type": "code",
   "execution_count": null,
   "metadata": {
    "colab": {
     "base_uri": "https://localhost:8080/"
    },
    "id": "usT-gMqOySyG",
    "outputId": "8622c44f-711f-48a9-9775-128024bb4bbc"
   },
   "outputs": [
    {
     "data": {
      "text/plain": [
       "array([[2, 2, 2],\n",
       "       [2, 2, 2],\n",
       "       [2, 2, 2]])"
      ]
     },
     "execution_count": 42,
     "metadata": {},
     "output_type": "execute_result"
    }
   ],
   "source": [
    "a_2d = np.array([[3,3,3],[4,4,4],[5,5,5]])\n",
    "b_1d = np.array([1,2,3])\n",
    "b_1d = np.repeat(b_1d,3).reshape((3,3))\n",
    "outp= a_2d-b_1d\n",
    "outp"
   ]
  },
  {
   "cell_type": "markdown",
   "metadata": {
    "id": "HWe3-R9C3rMi"
   },
   "source": [
    "Problem 21\n",
    "\n",
    "Find the index of 5th repetition of number 1 in x.\n",
    "\n",
    "Input:\n",
    "\n",
    "```\n",
    "x = np.array([1, 2, 1, 1, 3, 4, 3, 1, 1, 2, 1, 1, 2])\n",
    "```\n",
    "\n"
   ]
  },
  {
   "cell_type": "code",
   "execution_count": null,
   "metadata": {
    "colab": {
     "base_uri": "https://localhost:8080/"
    },
    "id": "EvD16zlJ3wVZ",
    "outputId": "a8723dca-7a69-4286-e222-0875a702b298"
   },
   "outputs": [
    {
     "data": {
      "text/plain": [
       "8"
      ]
     },
     "execution_count": 43,
     "metadata": {},
     "output_type": "execute_result"
    }
   ],
   "source": [
    "x = np.array([1, 2, 1, 1, 3, 4, 3, 1, 1, 2, 1, 1, 2])\n",
    "np.argsort(x)[4]"
   ]
  },
  {
   "cell_type": "markdown",
   "metadata": {
    "id": "I791Ruie3xBD"
   },
   "source": [
    "Problem 22\n",
    "\n",
    "Create a numpy array of length 10, starting from 5 and has a step of 3 between consecutive numbers"
   ]
  },
  {
   "cell_type": "code",
   "execution_count": null,
   "metadata": {
    "colab": {
     "base_uri": "https://localhost:8080/"
    },
    "id": "kzFiZ_SC39em",
    "outputId": "15442161-a827-4979-e4a1-3ff3ad7d95e5"
   },
   "outputs": [
    {
     "data": {
      "text/plain": [
       "array([ 5,  8, 11, 14, 17, 20, 23, 26, 29, 32])"
      ]
     },
     "execution_count": 44,
     "metadata": {},
     "output_type": "execute_result"
    }
   ],
   "source": [
    "arr= 5+ np.arange(0,10)*3\n",
    "arr"
   ]
  },
  {
   "cell_type": "markdown",
   "metadata": {
    "id": "QyQmrqM43-SS"
   },
   "source": [
    "Problem 23\n",
    "\n",
    " From the given 1d array arr, generate a 2d matrix using strides, with a window length of 4 and strides of 2, like [[0,1,2,3], [2,3,4,5], [4,5,6,7]..]\n",
    "\n",
    "Input:\n",
    "```\n",
    "arr = np.arange(15) \n",
    "arr\n",
    "#> array([ 0,  1,  2,  3,  4,  5,  6,  7,  8,  9, 10, 11, 12, 13, 14])\n",
    "```\n",
    "\n",
    "Desired Output:\n",
    "```\n",
    "#> [[ 0  1  2  3]\n",
    "#>  [ 2  3  4  5]\n",
    "#>  [ 4  5  6  7]\n",
    "#>  [ 6  7  8  9]\n",
    "#>  [ 8  9 10 11]\n",
    "#>  [10 11 12 13]]\n",
    "```"
   ]
  },
  {
   "cell_type": "code",
   "execution_count": null,
   "metadata": {
    "colab": {
     "base_uri": "https://localhost:8080/"
    },
    "id": "My6d6SyU4NhC",
    "outputId": "39606ae0-8604-409e-ab9a-ce453332cb04"
   },
   "outputs": [
    {
     "data": {
      "text/plain": [
       "array([            1, 3298534883328,        196608])"
      ]
     },
     "execution_count": 45,
     "metadata": {},
     "output_type": "execute_result"
    }
   ],
   "source": [
    "# arr = np.arange(15) \n",
    "arr= np.array([[1,3,4],[3,4,6],[9,8,6]])\n",
    "np.lib.stride_tricks.as_strided(arr,shape=(3,),strides=(3,))"
   ]
  },
  {
   "cell_type": "markdown",
   "metadata": {
    "id": "M7Vn6W854Oym"
   },
   "source": []
  }
 ],
 "metadata": {
  "colab": {
   "provenance": []
  },
  "kernelspec": {
   "display_name": "Python 3 (ipykernel)",
   "language": "python",
   "name": "python3"
  },
  "language_info": {
   "codemirror_mode": {
    "name": "ipython",
    "version": 3
   },
   "file_extension": ".py",
   "mimetype": "text/x-python",
   "name": "python",
   "nbconvert_exporter": "python",
   "pygments_lexer": "ipython3",
   "version": "3.9.13"
  }
 },
 "nbformat": 4,
 "nbformat_minor": 1
}
