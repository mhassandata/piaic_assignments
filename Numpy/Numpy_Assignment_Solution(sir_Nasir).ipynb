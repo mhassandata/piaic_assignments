{
  "nbformat": 4,
  "nbformat_minor": 0,
  "metadata": {
    "colab": {
      "provenance": []
    },
    "kernelspec": {
      "name": "python3",
      "display_name": "Python 3"
    },
    "language_info": {
      "name": "python"
    }
  },
  "cells": [
    {
      "cell_type": "markdown",
      "source": [
        "PIAIC 168751- MAAH NOOR Numpy Assignment \n",
        "\n",
        "\n",
        "```\n",
        "# This is formatted as code\n",
        "```\n",
        "\n"
      ],
      "metadata": {
        "id": "489PN1QZm4pJ"
      }
    },
    {
      "cell_type": "markdown",
      "source": [
        "Problem  1\n",
        "\n",
        "Convert a 1D array to a 2D array with 2 rows\n",
        "\n",
        "Input:\n",
        "```\n",
        "np.arange(10)\n",
        "\n",
        "#> array([ 0, 1, 2, 3, 4, 5, 6, 7, 8, 9])\n",
        "```\n",
        "\n",
        "Output:\n",
        "\n",
        "\n",
        "```\n",
        "#> array([[0, 1, 2, 3, 4],\n",
        "#>        [5, 6, 7, 8, 9]])\n",
        "```\n",
        "\n"
      ],
      "metadata": {
        "id": "3c7NCXD4uwMi"
      }
    },
    {
      "cell_type": "code",
      "source": [
        "import numpy as np\n",
        "arr = np.arange(10)\n",
        "newarr = arr.reshape(2,5)\n",
        "newarr"
      ],
      "metadata": {
        "id": "8CD3EzszvQX_",
        "colab": {
          "base_uri": "https://localhost:8080/"
        },
        "outputId": "2396bc70-a34a-418b-9388-d28015d26635"
      },
      "execution_count": null,
      "outputs": [
        {
          "output_type": "execute_result",
          "data": {
            "text/plain": [
              "array([[0, 1, 2, 3, 4],\n",
              "       [5, 6, 7, 8, 9]])"
            ]
          },
          "metadata": {},
          "execution_count": 24
        }
      ]
    },
    {
      "cell_type": "markdown",
      "source": [
        "Problem  2\n",
        "\n",
        "Extract all odd numbers from arr\n",
        "\n",
        "```\n",
        "arr = np.array([0, 1, 2, 3, 4, 5, 6, 7, 8, 9])\n",
        "```\n",
        "\n"
      ],
      "metadata": {
        "id": "Jfm1H1quvQ2v"
      }
    },
    {
      "cell_type": "code",
      "source": [
        "odd_list = arr[(arr%2!=0)]\n",
        "odd_list"
      ],
      "metadata": {
        "id": "E7YIi0covbZW",
        "colab": {
          "base_uri": "https://localhost:8080/"
        },
        "outputId": "ce814dad-2043-419e-caa4-c60eb55183c2"
      },
      "execution_count": null,
      "outputs": [
        {
          "output_type": "execute_result",
          "data": {
            "text/plain": [
              "array([1, 3, 5, 7, 9])"
            ]
          },
          "metadata": {},
          "execution_count": 25
        }
      ]
    },
    {
      "cell_type": "markdown",
      "source": [
        "Problem  3\n",
        "\n",
        "Replace all odd numbers in arr with -1\n",
        "\n",
        "```\n",
        "arr = np.array([0, 1, 2, 3, 4, 5, 6, 7, 8, 9])\n",
        "```\n",
        "\n",
        "Output:\n",
        "\n",
        "\n",
        "```\n",
        "#>  array([ 0, -1,  2, -1,  4, -1,  6, -1,  8, -1])\n",
        "```\n",
        "\n"
      ],
      "metadata": {
        "id": "DbI3SEjgvkoJ"
      }
    },
    {
      "cell_type": "code",
      "source": [
        "arr[(arr%2!=0)]=-1\n",
        "arr"
      ],
      "metadata": {
        "id": "h6GIvmpVv71a",
        "colab": {
          "base_uri": "https://localhost:8080/"
        },
        "outputId": "c3087176-48d6-4e8c-c4db-9eb1106f1cd3"
      },
      "execution_count": null,
      "outputs": [
        {
          "output_type": "execute_result",
          "data": {
            "text/plain": [
              "array([ 0, -1,  2, -1,  4, -1,  6, -1,  8, -1])"
            ]
          },
          "metadata": {},
          "execution_count": 26
        }
      ]
    },
    {
      "cell_type": "markdown",
      "source": [
        "Problem  4\n",
        "\n",
        "Replace all odd numbers in arr with -1 without changing arr\n",
        "\n",
        "Input:\n",
        "\n",
        "`arr = np.array([0, 1, 2, 3, 4, 5, 6, 7, 8, 9])`\n",
        "\n",
        "Desired Output:\n",
        "\n",
        "```\n",
        "out\n",
        "#>  array([ 0, -1,  2, -1,  4, -1,  6, -1,  8, -1])\n",
        "arr\n",
        "#>  array([0, 1, 2, 3, 4, 5, 6, 7, 8, 9])\n",
        "```\n",
        "\n",
        "\n"
      ],
      "metadata": {
        "id": "DVPkniOuwHj_"
      }
    },
    {
      "cell_type": "code",
      "source": [
        "arr = np.array([0, 1, 2, 3, 4, 5, 6, 7, 8, 9])\n",
        "out = np.where(arr%2!=0,-1,arr)\n",
        "print(out)\n",
        "print(arr)"
      ],
      "metadata": {
        "id": "oNPugS2awTLZ",
        "colab": {
          "base_uri": "https://localhost:8080/"
        },
        "outputId": "92f86baa-78be-4145-a047-ce11aba0fa62"
      },
      "execution_count": null,
      "outputs": [
        {
          "output_type": "stream",
          "name": "stdout",
          "text": [
            "[ 0 -1  2 -1  4 -1  6 -1  8 -1]\n",
            "[0 1 2 3 4 5 6 7 8 9]\n"
          ]
        }
      ]
    },
    {
      "cell_type": "markdown",
      "source": [
        "Problem  5\n",
        "\n",
        "Stack arrays a and b vertically\n",
        "\n",
        "Input\n",
        "\n",
        "\n",
        "\n",
        "```\n",
        "a = np.arange(10).reshape(2,-1)\n",
        "b = np.repeat(1, 10).reshape(2,-1)\n",
        "```\n",
        "\n",
        "\n",
        "Desired Output:\n",
        "\n",
        "\n",
        "```\n",
        "array([[0, 1, 2, 3, 4],\n",
        "       [5, 6, 7, 8, 9],\n",
        "       [1, 1, 1, 1, 1],\n",
        "       [1, 1, 1, 1, 1]])\n",
        "```\n",
        "\n",
        "\n"
      ],
      "metadata": {
        "id": "jXUu_NSCwfDP"
      }
    },
    {
      "cell_type": "code",
      "source": [
        "a = np.arange(10).reshape(2,-1)\n",
        "b = np.repeat(1, 10).reshape(2,-1)\n",
        "np.vstack((a,b))"
      ],
      "metadata": {
        "id": "ZeSCX31zwvKK",
        "colab": {
          "base_uri": "https://localhost:8080/"
        },
        "outputId": "aa5e25b3-45f8-4510-ab94-99d34a67e9aa"
      },
      "execution_count": null,
      "outputs": [
        {
          "output_type": "execute_result",
          "data": {
            "text/plain": [
              "array([[0, 1, 2, 3, 4],\n",
              "       [5, 6, 7, 8, 9],\n",
              "       [1, 1, 1, 1, 1],\n",
              "       [1, 1, 1, 1, 1]])"
            ]
          },
          "metadata": {},
          "execution_count": 28
        }
      ]
    },
    {
      "cell_type": "markdown",
      "source": [
        "Problem  6\n",
        "\n",
        "Stack the arrays a and b horizontally.\n",
        "\n",
        "Input\n",
        "\n",
        "\n",
        "```\n",
        "a = np.arange(10).reshape(2,-1)\n",
        "b = np.repeat(1, 10).reshape(2,-1)\n",
        "```\n",
        "\n",
        "\n",
        "Desired Output:\n",
        "\n",
        "\n",
        "\n",
        "```\n",
        "array([[0, 1, 2, 3, 4, 1, 1, 1, 1, 1],\n",
        "       [5, 6, 7, 8, 9, 1, 1, 1, 1, 1]])\n",
        "```\n",
        "\n",
        "\n"
      ],
      "metadata": {
        "id": "dWoOzOMQw0E5"
      }
    },
    {
      "cell_type": "code",
      "source": [
        "a = np.arange(10).reshape(2,-1)\n",
        "b = np.repeat(1, 10).reshape(2,-1)\n",
        "np.hstack((a,b))"
      ],
      "metadata": {
        "id": "CPbTohhww-h4",
        "colab": {
          "base_uri": "https://localhost:8080/"
        },
        "outputId": "a0eea8aa-69a7-4fad-ba34-7cc1548038cf"
      },
      "execution_count": null,
      "outputs": [
        {
          "output_type": "execute_result",
          "data": {
            "text/plain": [
              "array([[0, 1, 2, 3, 4, 1, 1, 1, 1, 1],\n",
              "       [5, 6, 7, 8, 9, 1, 1, 1, 1, 1]])"
            ]
          },
          "metadata": {},
          "execution_count": 29
        }
      ]
    },
    {
      "cell_type": "markdown",
      "source": [
        "Problem  7\n",
        "\n",
        "Create the following pattern without hardcoding. Use only numpy functions and the below input array a.\n",
        "\n",
        "Input:\n",
        "\n",
        "\n",
        "\n",
        "```\n",
        "a = np.array([1,2,3])\n",
        "```\n",
        "\n",
        "\n",
        "Desired Output:\n",
        "\n",
        "\n",
        "\n",
        "```\n",
        "#> array([1, 1, 1, 2, 2, 2, 3, 3, 3, 1, 2, 3, 1, 2, 3, 1, 2, 3])\n",
        "```\n",
        "\n",
        "\n"
      ],
      "metadata": {
        "id": "qiU8NCeexCLB"
      }
    },
    {
      "cell_type": "code",
      "source": [
        "a = np.array([1,2,3])\n",
        "b= np.concatenate((a,a))\n",
        "c= len(a)\n",
        "x= np.repeat(a,c)\n",
        "y= np.tile(a,c)\n",
        "z= np.concatenate((x,y))\n",
        "z"
      ],
      "metadata": {
        "id": "ucqs8mKuxOu_",
        "colab": {
          "base_uri": "https://localhost:8080/"
        },
        "outputId": "2bcd199b-5767-4eb8-f75a-c10483e191aa"
      },
      "execution_count": null,
      "outputs": [
        {
          "output_type": "execute_result",
          "data": {
            "text/plain": [
              "array([1, 1, 1, 2, 2, 2, 3, 3, 3, 1, 2, 3, 1, 2, 3, 1, 2, 3])"
            ]
          },
          "metadata": {},
          "execution_count": 30
        }
      ]
    },
    {
      "cell_type": "markdown",
      "source": [
        "Problem  8\n",
        "\n",
        "From array a remove all items present in array b\n",
        "\n",
        "Input:\n",
        "\n",
        "\n",
        "```\n",
        "a = np.array([1,2,3,4,5])\n",
        "b = np.array([5,6,7,8,9])\n",
        "```\n",
        "\n",
        "Desired Output:\n",
        "\n",
        "```\n",
        "array([1,2,3,4])\n",
        "```\n",
        "\n",
        "\n"
      ],
      "metadata": {
        "id": "z714O_AoyOKW"
      }
    },
    {
      "cell_type": "code",
      "source": [
        "a = np.array([1,2,3,4,5])\n",
        "b = np.array([5,6,7,8,9])\n",
        "c = np.in1d(a,b,invert=True)\n",
        "out = a[c]\n",
        "out"
      ],
      "metadata": {
        "id": "9S49aVovyY3D",
        "colab": {
          "base_uri": "https://localhost:8080/"
        },
        "outputId": "ac0c1123-1454-41c6-da7e-c61686c1b14b"
      },
      "execution_count": null,
      "outputs": [
        {
          "output_type": "execute_result",
          "data": {
            "text/plain": [
              "array([1, 2, 3, 4])"
            ]
          },
          "metadata": {},
          "execution_count": 31
        }
      ]
    },
    {
      "cell_type": "markdown",
      "source": [
        "Problem  9\n",
        "\n",
        "Get the positions where elements of a and b match\n",
        "\n",
        "Input:\n",
        "\n",
        "\n",
        "\n",
        "```\n",
        "a = np.array([1,2,3,2,3,4,3,4,5,6])\n",
        "b = np.array([7,2,10,2,7,4,9,4,9,8])\n",
        "```\n",
        "\n",
        "\n",
        "Desired Output:\n",
        "\n",
        "\n",
        "\n",
        "```\n",
        "(array([1, 3, 5, 7]),)\n",
        "```\n",
        "\n"
      ],
      "metadata": {
        "id": "EAfoETZyyZi2"
      }
    },
    {
      "cell_type": "code",
      "source": [
        "a = np.array([1,2,3,2,3,4,3,4,5,6])\n",
        "b = np.array([7,2,10,2,7,4,9,4,9,8])\n",
        "c= np.array(np.where(a==b)).ravel()\n",
        "c"
      ],
      "metadata": {
        "id": "pTW1JS-OysyM",
        "colab": {
          "base_uri": "https://localhost:8080/"
        },
        "outputId": "1f8fccaf-3054-4fc1-8939-0e3ade604ac4"
      },
      "execution_count": null,
      "outputs": [
        {
          "output_type": "execute_result",
          "data": {
            "text/plain": [
              "array([1, 3, 5, 7])"
            ]
          },
          "metadata": {},
          "execution_count": 32
        }
      ]
    },
    {
      "cell_type": "markdown",
      "source": [
        "Problem  10\n",
        "\n",
        "Swap columns 1 and 2 in the array arr.\n",
        "\n",
        "```\n",
        "arr = np.arange(9).reshape(3,3)\n",
        "```\n",
        "\n",
        "Output:\n",
        "\n",
        "\n",
        "\n",
        "```\n",
        "array([[1, 0, 2],\n",
        "      [4, 3, 5],\n",
        "      [7, 6, 8]])\n",
        "```\n",
        "\n",
        "\n"
      ],
      "metadata": {
        "id": "0wj25KsAyxfv"
      }
    },
    {
      "cell_type": "code",
      "source": [
        "arr = np.arange(9).reshape(3,3)\n",
        "arr[:, [1, 0]] = arr[:, [0, 1]]\n",
        "arr"
      ],
      "metadata": {
        "id": "V16xM0yjzfI0",
        "colab": {
          "base_uri": "https://localhost:8080/"
        },
        "outputId": "c9c33ee1-23d2-4526-be5d-72c171b8a85e"
      },
      "execution_count": null,
      "outputs": [
        {
          "output_type": "execute_result",
          "data": {
            "text/plain": [
              "array([[1, 0, 2],\n",
              "       [4, 3, 5],\n",
              "       [7, 6, 8]])"
            ]
          },
          "metadata": {},
          "execution_count": 33
        }
      ]
    },
    {
      "cell_type": "markdown",
      "source": [
        "Problem  11\n",
        "\n",
        "From the array a, replace all values greater than 30 to 30 and less than 10 to 10.\n",
        "\n",
        "Input:\n",
        "\n",
        "\n",
        "```\n",
        "np.random.seed(100)\n",
        "a = np.random.uniform(1,50, 20)\n",
        "```\n"
      ],
      "metadata": {
        "id": "T3JTUp181MAR"
      }
    },
    {
      "cell_type": "code",
      "source": [
        "np.random.seed(100)\n",
        "a = np.random.uniform(1,50, 20)\n",
        "a[a>30]=30\n",
        "a[a<10]=10\n",
        "a"
      ],
      "metadata": {
        "id": "Ju77O_4x1TJl",
        "colab": {
          "base_uri": "https://localhost:8080/"
        },
        "outputId": "fdbbabe8-0097-4955-e435-383ca2065efd"
      },
      "execution_count": null,
      "outputs": [
        {
          "output_type": "execute_result",
          "data": {
            "text/plain": [
              "array([27.62684215, 14.64009987, 21.80136195, 30.        , 10.        ,\n",
              "       10.        , 30.        , 30.        , 10.        , 29.17957314,\n",
              "       30.        , 11.25090398, 10.08108276, 10.        , 11.76517714,\n",
              "       30.        , 30.        , 10.        , 30.        , 14.42961361])"
            ]
          },
          "metadata": {},
          "execution_count": 34
        }
      ]
    },
    {
      "cell_type": "markdown",
      "source": [
        "Problem  12\n",
        "\n",
        "Compute the counts of unique values row-wise.\n",
        "\n",
        "Input:\n",
        "\n",
        "\n",
        "\n",
        "```\n",
        "np.random.seed(100)\n",
        "arr = np.random.randint(1,11,size=(6, 10))\n",
        "arr\n",
        "> array([[ 9,  9,  4,  8,  8,  1,  5,  3,  6,  3],\n",
        ">        [ 3,  3,  2,  1,  9,  5,  1, 10,  7,  3],\n",
        ">        [ 5,  2,  6,  4,  5,  5,  4,  8,  2,  2],\n",
        ">        [ 8,  8,  1,  3, 10, 10,  4,  3,  6,  9],\n",
        ">        [ 2,  1,  8,  7,  3,  1,  9,  3,  6,  2],\n",
        ">        [ 9,  2,  6,  5,  3,  9,  4,  6,  1, 10]])\n",
        "```\n",
        "\n",
        "\n",
        "\n",
        "Desired Output:\n",
        "\n",
        "\n",
        "\n",
        "```\n",
        "> [[1, 0, 2, 1, 1, 1, 0, 2, 2, 0],\n",
        ">  [2, 1, 3, 0, 1, 0, 1, 0, 1, 1],\n",
        ">  [0, 3, 0, 2, 3, 1, 0, 1, 0, 0],\n",
        ">  [1, 0, 2, 1, 0, 1, 0, 2, 1, 2],\n",
        ">  [2, 2, 2, 0, 0, 1, 1, 1, 1, 0],\n",
        ">  [1, 1, 1, 1, 1, 2, 0, 0, 2, 1]]\n",
        "```\n",
        "\n"
      ],
      "metadata": {
        "id": "LHQfYYtLrz5e"
      }
    },
    {
      "cell_type": "code",
      "source": [
        "def my_func(argum):\n",
        "  dum=np.arange(1,11)\n",
        "  u,c= np.unique(argum, return_counts=True)\n",
        "  missing= set(dum)^set(u)\n",
        "  for x in missing:\n",
        "    c=np.insert(c,x-1,0)\n",
        "  return c\n",
        "\n",
        "np.random.seed(100)\n",
        "arr = np.random.randint(1,11,size=(6, 10))\n",
        "\n",
        "np.apply_along_axis(my_func,1,arr)\n"
      ],
      "metadata": {
        "id": "MwEiQ9wssF1G",
        "colab": {
          "base_uri": "https://localhost:8080/"
        },
        "outputId": "1fbf9d1a-e632-418d-a2ed-f5a321afeb6c"
      },
      "execution_count": null,
      "outputs": [
        {
          "output_type": "execute_result",
          "data": {
            "text/plain": [
              "array([[1, 0, 2, 1, 1, 1, 0, 2, 2, 0],\n",
              "       [2, 1, 3, 0, 1, 0, 1, 0, 1, 1],\n",
              "       [0, 3, 0, 2, 3, 1, 0, 1, 0, 0],\n",
              "       [1, 0, 2, 1, 0, 1, 0, 2, 1, 2],\n",
              "       [2, 2, 2, 0, 0, 1, 1, 1, 1, 0],\n",
              "       [1, 1, 1, 1, 1, 2, 0, 0, 2, 1]])"
            ]
          },
          "metadata": {},
          "execution_count": 35
        }
      ]
    },
    {
      "cell_type": "markdown",
      "source": [
        "Problem  13\n",
        "\n",
        "Compute the one-hot encodings (dummy binary variables for each unique value in the array)"
      ],
      "metadata": {
        "id": "j5DBowUpsTSR"
      }
    },
    {
      "cell_type": "code",
      "source": [
        "np.random.seed(101) \n",
        "arr = np.random.randint(1,4, size=6)\n",
        "def one_hot_encodings(arr):\n",
        "    uniqs = np.unique(arr)\n",
        "    out = np.zeros((arr.shape[0], uniqs.shape[0]))\n",
        "    for i, k in enumerate(arr):\n",
        "        out[i, k-1] = 1\n",
        "    return out\n",
        "\n",
        "one_hot_encodings(arr)"
      ],
      "metadata": {
        "id": "9_W66J-VwNnJ",
        "outputId": "1fa4fa9b-8c2a-4599-eea9-4595d4e1fde5",
        "colab": {
          "base_uri": "https://localhost:8080/"
        }
      },
      "execution_count": null,
      "outputs": [
        {
          "output_type": "execute_result",
          "data": {
            "text/plain": [
              "array([[0., 1., 0.],\n",
              "       [0., 0., 1.],\n",
              "       [0., 1., 0.],\n",
              "       [0., 1., 0.],\n",
              "       [0., 1., 0.],\n",
              "       [1., 0., 0.]])"
            ]
          },
          "metadata": {},
          "execution_count": 46
        }
      ]
    },
    {
      "cell_type": "markdown",
      "source": [
        "Problem  14\n",
        "\n",
        "Create the ranks for the given numeric array a.\n",
        "\n",
        "Input:\n",
        "\n",
        "\n",
        "\n",
        "```\n",
        "np.random.seed(10)\n",
        "a = np.random.randint(20, size=10)\n",
        "print(a)\n",
        "#> [ 9  4 15  0 17 16 17  8  9  0]\n",
        "```\n",
        "\n",
        "Desired output:\n",
        "\n",
        "```\n",
        "[4 2 6 0 8 7 9 3 5 1]\n",
        "```"
      ],
      "metadata": {
        "id": "ku1ShYriwWg5"
      }
    },
    {
      "cell_type": "code",
      "source": [
        "arr=np.array([ 9 , 4 ,15 , 0 ,17, 16, 17 , 8 , 9 , 0])\n",
        "rank = arr.argsort()\n",
        "rank = rank.argsort()\n",
        "rank"
      ],
      "metadata": {
        "id": "MTqYk__owkLS",
        "colab": {
          "base_uri": "https://localhost:8080/"
        },
        "outputId": "499d7cbb-ccf7-4b1f-87f5-a0ebcd34fca6"
      },
      "execution_count": null,
      "outputs": [
        {
          "output_type": "execute_result",
          "data": {
            "text/plain": [
              "array([4, 2, 6, 0, 8, 7, 9, 3, 5, 1])"
            ]
          },
          "metadata": {},
          "execution_count": 36
        }
      ]
    },
    {
      "cell_type": "markdown",
      "source": [
        "Problem  15\n",
        "\n",
        "Create a rank array of the same shape as a given numeric array a.\n",
        "\n",
        "Input:\n",
        "\n",
        "\n",
        "\n",
        "```\n",
        "np.random.seed(10)\n",
        "a = np.random.randint(20, size=[2,5])\n",
        "print(a)\n",
        "#> [[ 9  4 15  0 17]\n",
        "#>  [16 17  8  9  0]]\n",
        "```\n",
        "\n",
        "\n",
        "Desired output:\n",
        "\n",
        "\n",
        "\n",
        "```\n",
        "#> [[4 2 6 0 8]\n",
        "#>  [7 9 3 5 1]]\n",
        "```\n",
        "\n"
      ],
      "metadata": {
        "id": "GTX22O_CwBCn"
      }
    },
    {
      "cell_type": "code",
      "source": [
        "np.random.seed(10)\n",
        "a = np.random.randint(20, size=[2,5])\n",
        "print(a)\n",
        "rank = arr.argsort()\n",
        "rank = rank.argsort()\n",
        "rank.reshape((2,5))"
      ],
      "metadata": {
        "id": "8Jrl4Xf8wL6n",
        "colab": {
          "base_uri": "https://localhost:8080/"
        },
        "outputId": "8c83ac37-ffe5-4294-f1e3-d8d1851b46f6"
      },
      "execution_count": null,
      "outputs": [
        {
          "output_type": "stream",
          "name": "stdout",
          "text": [
            "[[ 9  4 15  0 17]\n",
            " [16 17  8  9  0]]\n"
          ]
        },
        {
          "output_type": "execute_result",
          "data": {
            "text/plain": [
              "array([[4, 2, 6, 0, 8],\n",
              "       [7, 9, 3, 5, 1]])"
            ]
          },
          "metadata": {},
          "execution_count": 37
        }
      ]
    },
    {
      "cell_type": "markdown",
      "source": [
        "Problem  16\n",
        "\n",
        "Compute the min-by-max for each row for given 2d numpy array\n",
        "\n",
        "Input:\n",
        "\n",
        "```\n",
        "np.random.seed(100)\n",
        "a = np.random.randint(1,10, [5,3])\n",
        "a\n",
        "#> array([[9, 9, 4],\n",
        "#>        [8, 8, 1],\n",
        "#>        [5, 3, 6],\n",
        "#>        [3, 3, 3],\n",
        "#>        [2, 1, 9]])\n",
        "```\n",
        "\n",
        "Desired Output:\n",
        "\n",
        "```\n",
        "array([ 0.44444444,  0.125     ,  0.5       ,  1.        ,  0.11111111])\n",
        "```"
      ],
      "metadata": {
        "id": "JX1wmQYXwsZP"
      }
    },
    {
      "cell_type": "code",
      "source": [
        "def my_func1(abc):\n",
        "  return abc[np.argmin(abc)]/abc[np.argmax(abc)]\n",
        "np.random.seed(100)\n",
        "arr = np.random.randint(1,10, [5,3])\n",
        "np.apply_along_axis(my_func1,1,arr)"
      ],
      "metadata": {
        "id": "9u7Vg5F-wtwu",
        "colab": {
          "base_uri": "https://localhost:8080/"
        },
        "outputId": "f8017775-6c89-46ea-8413-25c466d28bd8"
      },
      "execution_count": null,
      "outputs": [
        {
          "output_type": "execute_result",
          "data": {
            "text/plain": [
              "array([0.44444444, 0.125     , 0.5       , 1.        , 0.11111111])"
            ]
          },
          "metadata": {},
          "execution_count": 38
        }
      ]
    },
    {
      "cell_type": "markdown",
      "source": [
        "Problem  17\n",
        "\n",
        "Find the duplicate entries (2nd occurrence onwards) in the given numpy array and mark them as True. First time occurrences should be False\n",
        "\n",
        "Input\n",
        "```\n",
        "np.random.seed(100)\n",
        "a = np.random.randint(0, 5, 10)\n",
        "print('Array: ', a)\n",
        "#> Array: [0 0 3 0 2 4 2 2 2 2]\n",
        "```\n",
        "Desired Output:\n",
        "```\n",
        "#> [False  True False  True False False  True  True  True  True]\n",
        "```"
      ],
      "metadata": {
        "id": "pLwGxnDdwvNZ"
      }
    },
    {
      "cell_type": "code",
      "source": [
        "arr = np.array([0, 0, 3, 0, 2 ,4 ,2, 2, 2, 2])\n",
        "u, c = np.unique(arr, return_index=True)\n",
        "arr[:]=True\n",
        "arr[c]=False\n",
        "arr"
      ],
      "metadata": {
        "id": "iFzMSHx-xWTX",
        "colab": {
          "base_uri": "https://localhost:8080/"
        },
        "outputId": "cc44f753-4972-4e3d-c8c9-e22f02ab022e"
      },
      "execution_count": null,
      "outputs": [
        {
          "output_type": "execute_result",
          "data": {
            "text/plain": [
              "array([0, 1, 0, 1, 0, 0, 1, 1, 1, 1])"
            ]
          },
          "metadata": {},
          "execution_count": 39
        }
      ]
    },
    {
      "cell_type": "markdown",
      "source": [
        "Problem  18\n",
        "\n",
        "Drop all nan values from a 1D numpy array\n",
        "\n",
        "Input:\n",
        "```\n",
        "np.array([1,2,3,np.nan,5,6,7,np.nan])\n",
        "```\n",
        "Desired Output:\n",
        "```\n",
        "array([ 1.,  2.,  3.,  5.,  6.,  7.])\n",
        "```"
      ],
      "metadata": {
        "id": "gE2QG7lfwvKP"
      }
    },
    {
      "cell_type": "code",
      "source": [
        "arr= np.array([1,2,3,np.nan,5,6,7,np.nan])\n",
        "x= np.argwhere(np.isnan(arr))\n",
        "y= np.delete(arr,x)\n",
        "y"
      ],
      "metadata": {
        "id": "jrEnT6SQxmuL",
        "colab": {
          "base_uri": "https://localhost:8080/"
        },
        "outputId": "f09db751-3196-4e09-f99e-cb74a07a6850"
      },
      "execution_count": null,
      "outputs": [
        {
          "output_type": "execute_result",
          "data": {
            "text/plain": [
              "array([1., 2., 3., 5., 6., 7.])"
            ]
          },
          "metadata": {},
          "execution_count": 40
        }
      ]
    },
    {
      "cell_type": "markdown",
      "source": [
        "Problem 19\n",
        "\n",
        "Find all the peaks in a 1D numpy array a. Peaks are points surrounded by smaller values on both sides.\n",
        "\n",
        "Input:\n",
        "```\n",
        "a = np.array([1, 3, 7, 1, 2, 6, 0, 1])\n",
        "```\n",
        "Desired Output:\n",
        "```\n",
        "#> array([2, 5])\n",
        "```"
      ],
      "metadata": {
        "id": "aDvGrDytx7Jh"
      }
    },
    {
      "cell_type": "code",
      "source": [
        "a = np.array([1, 3, 7, 1, 2, 6, 0, 1])\n",
        "x= np.where(np.diff(np.diff(a))<0)\n",
        "y= (np.array(x)).ravel()\n",
        "y+1"
      ],
      "metadata": {
        "id": "PVAt2DVGxnUc",
        "colab": {
          "base_uri": "https://localhost:8080/"
        },
        "outputId": "78bea5e2-d666-4968-8d9f-f29d22852fb9"
      },
      "execution_count": null,
      "outputs": [
        {
          "output_type": "execute_result",
          "data": {
            "text/plain": [
              "array([2, 5])"
            ]
          },
          "metadata": {},
          "execution_count": 41
        }
      ]
    },
    {
      "cell_type": "markdown",
      "source": [
        "Problem 20\n",
        "\n",
        "Subtract the 1d array b_1d from the 2d array a_2d, such that each item of b_1d subtracts from respective row of a_2d.\n",
        "\n",
        "\n",
        "Input\n",
        "```\n",
        "a_2d = np.array([[3,3,3],[4,4,4],[5,5,5]])\n",
        "b_1d = np.array([1,1,1]\n",
        "\n",
        "```\n",
        "Desired Output:\n",
        "```\n",
        "#> [[2 2 2]\n",
        "#>  [2 2 2]\n",
        "#>  [2 2 2]]\n",
        "```"
      ],
      "metadata": {
        "id": "ueqd1H7WyHT6"
      }
    },
    {
      "cell_type": "code",
      "source": [
        "a_2d = np.array([[3,3,3],[4,4,4],[5,5,5]])\n",
        "b_1d = np.array([1,2,3])\n",
        "b_1d = np.repeat(b_1d,3).reshape((3,3))\n",
        "outp= a_2d-b_1d\n",
        "outp"
      ],
      "metadata": {
        "id": "usT-gMqOySyG",
        "colab": {
          "base_uri": "https://localhost:8080/"
        },
        "outputId": "8622c44f-711f-48a9-9775-128024bb4bbc"
      },
      "execution_count": null,
      "outputs": [
        {
          "output_type": "execute_result",
          "data": {
            "text/plain": [
              "array([[2, 2, 2],\n",
              "       [2, 2, 2],\n",
              "       [2, 2, 2]])"
            ]
          },
          "metadata": {},
          "execution_count": 42
        }
      ]
    },
    {
      "cell_type": "markdown",
      "source": [
        "Problem 21\n",
        "\n",
        "Find the index of 5th repetition of number 1 in x.\n",
        "\n",
        "Input:\n",
        "\n",
        "```\n",
        "x = np.array([1, 2, 1, 1, 3, 4, 3, 1, 1, 2, 1, 1, 2])\n",
        "```\n",
        "\n"
      ],
      "metadata": {
        "id": "HWe3-R9C3rMi"
      }
    },
    {
      "cell_type": "code",
      "source": [
        "x = np.array([1, 2, 1, 1, 3, 4, 3, 1, 1, 2, 1, 1, 2])\n",
        "np.argsort(x)[4]"
      ],
      "metadata": {
        "id": "EvD16zlJ3wVZ",
        "colab": {
          "base_uri": "https://localhost:8080/"
        },
        "outputId": "a8723dca-7a69-4286-e222-0875a702b298"
      },
      "execution_count": null,
      "outputs": [
        {
          "output_type": "execute_result",
          "data": {
            "text/plain": [
              "8"
            ]
          },
          "metadata": {},
          "execution_count": 43
        }
      ]
    },
    {
      "cell_type": "markdown",
      "source": [
        "Problem 22\n",
        "\n",
        "Create a numpy array of length 10, starting from 5 and has a step of 3 between consecutive numbers"
      ],
      "metadata": {
        "id": "I791Ruie3xBD"
      }
    },
    {
      "cell_type": "code",
      "source": [
        "arr= 5+ np.arange(0,10)*3\n",
        "arr"
      ],
      "metadata": {
        "id": "kzFiZ_SC39em",
        "colab": {
          "base_uri": "https://localhost:8080/"
        },
        "outputId": "15442161-a827-4979-e4a1-3ff3ad7d95e5"
      },
      "execution_count": null,
      "outputs": [
        {
          "output_type": "execute_result",
          "data": {
            "text/plain": [
              "array([ 5,  8, 11, 14, 17, 20, 23, 26, 29, 32])"
            ]
          },
          "metadata": {},
          "execution_count": 44
        }
      ]
    },
    {
      "cell_type": "markdown",
      "source": [
        "Problem 23\n",
        "\n",
        " From the given 1d array arr, generate a 2d matrix using strides, with a window length of 4 and strides of 2, like [[0,1,2,3], [2,3,4,5], [4,5,6,7]..]\n",
        "\n",
        "Input:\n",
        "```\n",
        "arr = np.arange(15) \n",
        "arr\n",
        "#> array([ 0,  1,  2,  3,  4,  5,  6,  7,  8,  9, 10, 11, 12, 13, 14])\n",
        "```\n",
        "\n",
        "Desired Output:\n",
        "```\n",
        "#> [[ 0  1  2  3]\n",
        "#>  [ 2  3  4  5]\n",
        "#>  [ 4  5  6  7]\n",
        "#>  [ 6  7  8  9]\n",
        "#>  [ 8  9 10 11]\n",
        "#>  [10 11 12 13]]\n",
        "```"
      ],
      "metadata": {
        "id": "QyQmrqM43-SS"
      }
    },
    {
      "cell_type": "code",
      "source": [
        "# arr = np.arange(15) \n",
        "arr= np.array([[1,3,4],[3,4,6],[9,8,6]])\n",
        "np.lib.stride_tricks.as_strided(arr,shape=(3,),strides=(3,))"
      ],
      "metadata": {
        "id": "My6d6SyU4NhC",
        "colab": {
          "base_uri": "https://localhost:8080/"
        },
        "outputId": "39606ae0-8604-409e-ab9a-ce453332cb04"
      },
      "execution_count": null,
      "outputs": [
        {
          "output_type": "execute_result",
          "data": {
            "text/plain": [
              "array([            1, 3298534883328,        196608])"
            ]
          },
          "metadata": {},
          "execution_count": 45
        }
      ]
    },
    {
      "cell_type": "markdown",
      "source": [],
      "metadata": {
        "id": "M7Vn6W854Oym"
      }
    }
  ]
}