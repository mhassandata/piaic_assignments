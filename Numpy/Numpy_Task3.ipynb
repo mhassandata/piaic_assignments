{
 "cells": [
  {
   "cell_type": "markdown",
   "metadata": {},
   "source": [
    "# Election Results\n",
    "\n",
    "You’re part of an impartial research group that conducts phone surveys prior to local elections. During this election season, the group conducted a survey to determine how many people would vote for I_Khan vs. S_Sharif in the presidential election.\n",
    "\n",
    "Now that the election has occurred, your group wants to compare the survey responses to the actual results.\n",
    "\n",
    "Was your survey a good indicator? Let’s find out!"
   ]
  },
  {
   "cell_type": "markdown",
   "metadata": {},
   "source": [
    "# PROJECT STEPS"
   ]
  },
  {
   "cell_type": "markdown",
   "metadata": {},
   "source": [
    "1.First, import numpy and matplotlib."
   ]
  },
  {
   "cell_type": "code",
   "execution_count": 2,
   "metadata": {},
   "outputs": [],
   "source": [
    "#type your code here\n",
    "import numpy as np\n",
    "import pandas as pd\n",
    "import matplotlib.pyplot as plt\n"
   ]
  },
  {
   "cell_type": "markdown",
   "metadata": {},
   "source": [
    "2.There is a list given of the different survey responses.\n",
    "\n",
    "Calculate the number of people who answered ‘I_Khan’ and save the answer to the variable total_Khan.\n",
    "\n",
    "Print the variable to the terminal to see its value."
   ]
  },
  {
   "cell_type": "code",
   "execution_count": 3,
   "metadata": {},
   "outputs": [
    {
     "name": "stdout",
     "output_type": "stream",
     "text": [
      "Total number of people vote to Imran Khan =  33\n"
     ]
    }
   ],
   "source": [
    "survey_responses = ['I_Khan', 'S_Sharif', 'I_Khan', 'I_Khan', 'I_Khan','S_Sharif',\n",
    "                    'S_Sharif', 'I_Khan', 'I_Khan', 'I_Khan', 'S_Sharif', 'S_Sharif',\n",
    "                    'I_Khan', 'I_Khan', 'S_Sharif', 'S_Sharif','I_Khan', 'I_Khan', \n",
    "                    'S_Sharif', 'S_Sharif', 'S_Sharif', 'S_Sharif', 'S_Sharif', 'S_Sharif', \n",
    "                    'I_Khan', 'I_Khan', 'I_Khan', 'I_Khan', 'I_Khan', 'I_Khan',\n",
    "                    'S_Sharif', 'S_Sharif', 'I_Khan', 'I_Khan', 'I_Khan', 'S_Sharif',\n",
    "                    'S_Sharif', 'I_Khan', 'I_Khan', 'S_Sharif', 'S_Sharif', 'I_Khan', \n",
    "                    'I_Khan', 'S_Sharif', 'S_Sharif', 'S_Sharif', 'S_Sharif', 'S_Sharif',\n",
    "                    'S_Sharif', 'I_Khan','S_Sharif', 'S_Sharif', 'I_Khan', 'I_Khan', \n",
    "                    'I_Khan', 'S_Sharif', 'S_Sharif', 'I_Khan', 'I_Khan', 'S_Sharif', \n",
    "                    'S_Sharif', 'I_Khan', 'I_Khan', 'S_Sharif', 'S_Sharif', 'S_Sharif', \n",
    "                    'S_Sharif', 'S_Sharif', 'S_Sharif', 'I_Khan']\n",
    "\n",
    "#your code goes here\n",
    "total_khan = survey_responses.count('I_Khan')\n",
    "print(\"Total number of people vote to Imran Khan = \", total_khan)"
   ]
  },
  {
   "cell_type": "code",
   "execution_count": 4,
   "metadata": {},
   "outputs": [
    {
     "name": "stdout",
     "output_type": "stream",
     "text": [
      "Total number of people voted to Shehbaz Sharif =  37\n"
     ]
    }
   ],
   "source": [
    "total_sharif = survey_responses.count('S_Sharif')\n",
    "print(\"Total number of people voted to Shehbaz Sharif = \", total_sharif)"
   ]
  },
  {
   "cell_type": "markdown",
   "metadata": {},
   "source": [
    "3.Calculate the percentage of people in the survey who voted for I_Khan and save it to the variable percentage_I_Khan.\n",
    "\n",
    "Print the variable to the terminal to see its value."
   ]
  },
  {
   "cell_type": "code",
   "execution_count": 5,
   "metadata": {},
   "outputs": [
    {
     "name": "stdout",
     "output_type": "stream",
     "text": [
      "Percentage of people voted I_KHAN =  47.14285714285714\n"
     ]
    }
   ],
   "source": [
    "#type your code here\n",
    "total_survey_responses = len(survey_responses)\n",
    "# total_survey_responses\n",
    "total_khan = survey_responses.count(\"I_Khan\")\n",
    "percentage_I_Khan = (total_khan / total_survey_responses ) * 100\n",
    "print(\"Percentage of people voted I_KHAN = \" ,percentage_I_Khan)"
   ]
  },
  {
   "cell_type": "code",
   "execution_count": 6,
   "metadata": {},
   "outputs": [
    {
     "name": "stdout",
     "output_type": "stream",
     "text": [
      "Percentage of people voted to Shehbaz Sharif =  52.85714285714286\n"
     ]
    }
   ],
   "source": [
    "percentage_s_sharif = (total_sharif / total_survey_responses) * 100\n",
    "print(\"Percentage of people voted to Shehbaz Sharif = \", percentage_s_sharif)"
   ]
  },
  {
   "cell_type": "markdown",
   "metadata": {},
   "source": [
    "4.In the real election, 54% of the 10,000 town population voted for I_Khan. Your supervisors are concerned because this is a very different outcome than what the poll predicted. They want you to determine if there is something wrong with the poll or if given the sample size, it was an entirely reasonable result.\n",
    "\n",
    "Generate a binomial distribution that takes the number of total survey responses, the actual success rate, and the size of the town’s population as its parameters. Then divide the distribution by the number of survey responses. Save your calculation to the variable possible_surveys.\n",
    "\n",
    "######### hint###########\n",
    "possible_surveys = \n",
    "np.random.binomial(total of survey responses, the actual success rate,and the size of the town’s population ) "
   ]
  },
  {
   "cell_type": "code",
   "execution_count": 17,
   "metadata": {},
   "outputs": [
    {
     "name": "stdout",
     "output_type": "stream",
     "text": [
      "[54.15 54.53 52.97 54.82 53.4  54.51 53.24 54.71 54.32 53.91 54.53 54.14\n",
      " 53.89 54.   53.8  54.65 53.89 53.95 53.89 53.63 53.72 53.73 54.45 54.54\n",
      " 53.25 53.26 54.29 53.91 53.04 54.15 53.77 55.23 55.44 53.62 54.46 54.33\n",
      " 55.19 54.45 54.1  53.93 53.53 54.23 54.59 54.28 54.44 54.72 54.94 54.05\n",
      " 54.03 53.99 54.06 53.36 53.56 53.55 54.24 54.29 54.82 54.24 53.43 53.86\n",
      " 54.23 52.89 53.8  54.64 53.92 52.99 54.38 53.66 53.74 54.35 53.57 54.51\n",
      " 53.92 54.43 54.28 54.3  53.42 53.68 53.94 54.3  53.93 53.83 54.74 53.3\n",
      " 53.75 53.67 53.85 53.9  53.62 54.41 54.45 53.77 53.63 53.99 54.42 53.24\n",
      " 54.51 53.89 54.9  53.9 ]\n"
     ]
    }
   ],
   "source": [
    "# set the parameters\n",
    "population_size = 10000\n",
    "survey_responses = 100\n",
    "success_rate = 0.54\n",
    "\n",
    "# generate the binomial distribution\n",
    "possible_surveys = np.random.binomial(population_size, success_rate, size=survey_responses)\n",
    "\n",
    "# divide by the number of survey responses\n",
    "possible_surveys = possible_surveys / survey_responses\n",
    "\n",
    "print(possible_surveys)\n"
   ]
  },
  {
   "cell_type": "code",
   "execution_count": 18,
   "metadata": {},
   "outputs": [
    {
     "name": "stdout",
     "output_type": "stream",
     "text": [
      "[0.71428571 0.78571429 0.71428571 0.74285714 0.65714286 0.9\n",
      " 0.8        0.58571429 0.74285714 0.8        0.75714286 0.75714286\n",
      " 0.8        0.91428571 0.61428571 0.85714286 0.87142857 0.7\n",
      " 0.74285714 0.97142857 0.78571429 0.82857143 0.77142857 0.78571429\n",
      " 0.87142857 0.8        0.78571429 0.85714286 0.71428571 0.87142857\n",
      " 0.74285714 0.8        0.84285714 0.77142857 0.77142857 0.8\n",
      " 0.67142857 0.77142857 0.65714286 0.77142857 0.78571429 0.72857143\n",
      " 0.67142857 0.71428571 0.61428571 0.88571429 0.82857143 0.8\n",
      " 0.8        0.68571429 0.77142857 0.75714286 0.85714286 0.84285714\n",
      " 0.7        0.78571429 0.65714286 0.84285714 0.81428571 0.78571429\n",
      " 0.82857143 0.62857143 0.67142857 0.78571429 0.71428571 0.8\n",
      " 0.68571429 0.65714286 0.81428571 0.68571429]\n"
     ]
    }
   ],
   "source": [
    "# set the parameters\n",
    "population_size = 100\n",
    "survey_responses = 70\n",
    "success_rate = 0.54\n",
    "\n",
    "# generate the binomial distribution\n",
    "possible_surveys = np.random.binomial(population_size, success_rate, size=survey_responses)\n",
    "\n",
    "# divide by the number of survey responses\n",
    "possible_surveys = possible_surveys / survey_responses\n",
    "\n",
    "print(possible_surveys)"
   ]
  },
  {
   "cell_type": "markdown",
   "metadata": {},
   "source": [
    "\n",
    "      #######Optional########\n",
    "5.By using matplotlib Plot a histogram of possible_surveys with a range of 0-1 and 20 bins.\n"
   ]
  },
  {
   "cell_type": "code",
   "execution_count": null,
   "metadata": {},
   "outputs": [],
   "source": [
    "#type your code here\n",
    "\n"
   ]
  },
  {
   "cell_type": "markdown",
   "metadata": {},
   "source": [
    "6.As we saw, 47% of people we surveyed said they would vote for I_Khan, but 54% of people voted for I_Khan in the actual election.\n",
    "\n",
    "Calculate the percentage of surveys that could have an outcome of I_Khan receiving less than 50% of the vote and save it to the variable I_Khan_loss_surveys.\n",
    "\n",
    "Print the variable to the terminal."
   ]
  },
  {
   "cell_type": "code",
   "execution_count": null,
   "metadata": {},
   "outputs": [],
   "source": [
    "#type your code here\n",
    "\n"
   ]
  },
  {
   "cell_type": "markdown",
   "metadata": {},
   "source": [
    "7.With this current poll, about 20% of the time a survey output would predict S_Sharif winning, even if I_Khan won the actual election.\n",
    "\n",
    "Your co-worker points out that your poll would be more accurate if it had more responders.\n",
    "\n",
    "Generate another binomial distribution, but this time, see what would happen if you had instead surveyed 7,000 people. Divide the distribution by the size of the survey and save your findings to large_survey.\n"
   ]
  },
  {
   "cell_type": "code",
   "execution_count": null,
   "metadata": {},
   "outputs": [],
   "source": [
    "#type your code here\n",
    "\n"
   ]
  },
  {
   "cell_type": "markdown",
   "metadata": {},
   "source": [
    "8.Now, recalculate the percentage of surveys that would have an outcome of I_Khan losing and save it to the variable I_Khan_loss_new, and print the value to the terminal.\n",
    "\n",
    "What do we notice about this new value?\n",
    "\n",
    "What advice would you give to your supervisors about predicting results from surveys?\n"
   ]
  },
  {
   "cell_type": "code",
   "execution_count": null,
   "metadata": {},
   "outputs": [],
   "source": [
    "#type your code here\n",
    "\n"
   ]
  }
 ],
 "metadata": {
  "kernelspec": {
   "display_name": "Python 3 (ipykernel)",
   "language": "python",
   "name": "python3"
  },
  "language_info": {
   "codemirror_mode": {
    "name": "ipython",
    "version": 3
   },
   "file_extension": ".py",
   "mimetype": "text/x-python",
   "name": "python",
   "nbconvert_exporter": "python",
   "pygments_lexer": "ipython3",
   "version": "3.9.13"
  }
 },
 "nbformat": 4,
 "nbformat_minor": 2
}
