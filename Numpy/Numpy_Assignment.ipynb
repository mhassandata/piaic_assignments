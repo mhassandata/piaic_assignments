{
  "nbformat": 4,
  "nbformat_minor": 0,
  "metadata": {
    "colab": {
      "provenance": []
    },
    "kernelspec": {
      "name": "python3",
      "display_name": "Python 3"
    },
    "language_info": {
      "name": "python"
    }
  },
  "cells": [
    {
      "cell_type": "markdown",
      "source": [
        "Problem  1\n",
        "\n",
        "Convert a 1D array to a 2D array with 2 rows\n",
        "\n",
        "Input:\n",
        "```\n",
        "np.arange(10)\n",
        "\n",
        "#> array([ 0, 1, 2, 3, 4, 5, 6, 7, 8, 9])\n",
        "```\n",
        "\n",
        "Output:\n",
        "\n",
        "\n",
        "```\n",
        "#> array([[0, 1, 2, 3, 4],\n",
        "#>        [5, 6, 7, 8, 9]])\n",
        "```\n",
        "\n"
      ],
      "metadata": {
        "id": "3c7NCXD4uwMi"
      }
    },
    {
      "cell_type": "code",
      "source": [
        "import numpy as np"
      ],
      "metadata": {
        "id": "8CD3EzszvQX_"
      },
      "execution_count": null,
      "outputs": []
    },
    {
      "cell_type": "code",
      "source": [
        "np.arange(10).reshape(2,5)"
      ],
      "metadata": {
        "id": "KoTTINtgXaQW",
        "outputId": "fdd75eca-c833-4ae4-eeb4-d167db2839c1",
        "colab": {
          "base_uri": "https://localhost:8080/"
        }
      },
      "execution_count": null,
      "outputs": [
        {
          "output_type": "execute_result",
          "data": {
            "text/plain": [
              "array([[0, 1, 2, 3, 4],\n",
              "       [5, 6, 7, 8, 9]])"
            ]
          },
          "metadata": {},
          "execution_count": 6
        }
      ]
    },
    {
      "cell_type": "markdown",
      "source": [
        "Problem  2\n",
        "\n",
        "Extract all odd numbers from arr\n",
        "\n",
        "```\n",
        "arr = np.array([0, 1, 2, 3, 4, 5, 6, 7, 8, 9])\n",
        "```\n",
        "\n"
      ],
      "metadata": {
        "id": "Jfm1H1quvQ2v"
      }
    },
    {
      "cell_type": "code",
      "source": [
        "arr = np.array([0, 1, 2, 3, 4, 5, 6, 7, 8, 9])\n",
        "odd_num = arr[arr%2==0]\n",
        "odd_num"
      ],
      "metadata": {
        "id": "E7YIi0covbZW",
        "outputId": "8e0fde39-4cf5-42c3-808c-035037b6c5a9",
        "colab": {
          "base_uri": "https://localhost:8080/"
        }
      },
      "execution_count": null,
      "outputs": [
        {
          "output_type": "execute_result",
          "data": {
            "text/plain": [
              "array([0, 2, 4, 6, 8])"
            ]
          },
          "metadata": {},
          "execution_count": 8
        }
      ]
    },
    {
      "cell_type": "markdown",
      "source": [
        "Problem  3\n",
        "\n",
        "Replace all odd numbers in arr with -1\n",
        "\n",
        "```\n",
        "arr = np.array([0, 1, 2, 3, 4, 5, 6, 7, 8, 9])\n",
        "```\n",
        "\n",
        "Output:\n",
        "\n",
        "\n",
        "```\n",
        "#>  array([ 0, -1,  2, -1,  4, -1,  6, -1,  8, -1])\n",
        "```\n",
        "\n"
      ],
      "metadata": {
        "id": "DbI3SEjgvkoJ"
      }
    },
    {
      "cell_type": "code",
      "source": [],
      "metadata": {
        "id": "h6GIvmpVv71a"
      },
      "execution_count": null,
      "outputs": []
    },
    {
      "cell_type": "markdown",
      "source": [
        "Problem  4\n",
        "\n",
        "Replace all odd numbers in arr with -1 without changing arr\n",
        "\n",
        "Input:\n",
        "\n",
        "`arr = np.array([0, 1, 2, 3, 4, 5, 6, 7, 8, 9])`\n",
        "\n",
        "Desired Output:\n",
        "\n",
        "```\n",
        "out\n",
        "#>  array([ 0, -1,  2, -1,  4, -1,  6, -1,  8, -1])\n",
        "arr\n",
        "#>  array([0, 1, 2, 3, 4, 5, 6, 7, 8, 9])\n",
        "```\n",
        "\n",
        "\n"
      ],
      "metadata": {
        "id": "DVPkniOuwHj_"
      }
    },
    {
      "cell_type": "code",
      "source": [],
      "metadata": {
        "id": "oNPugS2awTLZ"
      },
      "execution_count": null,
      "outputs": []
    },
    {
      "cell_type": "markdown",
      "source": [
        "Problem  5\n",
        "\n",
        "Stack arrays a and b vertically\n",
        "\n",
        "Input\n",
        "\n",
        "\n",
        "\n",
        "```\n",
        "a = np.arange(10).reshape(2,-1)\n",
        "b = np.repeat(1, 10).reshape(2,-1)\n",
        "```\n",
        "\n",
        "\n",
        "Desired Output:\n",
        "\n",
        "\n",
        "```\n",
        "array([[0, 1, 2, 3, 4],\n",
        "       [5, 6, 7, 8, 9],\n",
        "       [1, 1, 1, 1, 1],\n",
        "       [1, 1, 1, 1, 1]])\n",
        "```\n",
        "\n",
        "\n"
      ],
      "metadata": {
        "id": "jXUu_NSCwfDP"
      }
    },
    {
      "cell_type": "code",
      "source": [],
      "metadata": {
        "id": "ZeSCX31zwvKK"
      },
      "execution_count": null,
      "outputs": []
    },
    {
      "cell_type": "markdown",
      "source": [
        "Problem  6\n",
        "\n",
        "Stack the arrays a and b horizontally.\n",
        "\n",
        "Input\n",
        "\n",
        "\n",
        "```\n",
        "a = np.arange(10).reshape(2,-1)\n",
        "b = np.repeat(1, 10).reshape(2,-1)\n",
        "```\n",
        "\n",
        "\n",
        "Desired Output:\n",
        "\n",
        "\n",
        "\n",
        "```\n",
        "array([[0, 1, 2, 3, 4, 1, 1, 1, 1, 1],\n",
        "       [5, 6, 7, 8, 9, 1, 1, 1, 1, 1]])\n",
        "```\n",
        "\n",
        "\n"
      ],
      "metadata": {
        "id": "dWoOzOMQw0E5"
      }
    },
    {
      "cell_type": "code",
      "source": [],
      "metadata": {
        "id": "CPbTohhww-h4"
      },
      "execution_count": null,
      "outputs": []
    },
    {
      "cell_type": "markdown",
      "source": [
        "Problem  7\n",
        "\n",
        "Create the following pattern without hardcoding. Use only numpy functions and the below input array a.\n",
        "\n",
        "Input:\n",
        "\n",
        "\n",
        "\n",
        "```\n",
        "a = np.array([1,2,3])\n",
        "```\n",
        "\n",
        "\n",
        "Desired Output:\n",
        "\n",
        "\n",
        "\n",
        "```\n",
        "#> array([1, 1, 1, 2, 2, 2, 3, 3, 3, 1, 2, 3, 1, 2, 3, 1, 2, 3])\n",
        "```\n",
        "\n",
        "\n"
      ],
      "metadata": {
        "id": "qiU8NCeexCLB"
      }
    },
    {
      "cell_type": "code",
      "source": [],
      "metadata": {
        "id": "ucqs8mKuxOu_"
      },
      "execution_count": null,
      "outputs": []
    },
    {
      "cell_type": "markdown",
      "source": [
        "Problem  8\n",
        "\n",
        "From array a remove all items present in array b\n",
        "\n",
        "Input:\n",
        "\n",
        "\n",
        "```\n",
        "a = np.array([1,2,3,4,5])\n",
        "b = np.array([5,6,7,8,9])\n",
        "```\n",
        "\n",
        "Desired Output:\n",
        "\n",
        "```\n",
        "array([1,2,3,4])\n",
        "```\n",
        "\n",
        "\n"
      ],
      "metadata": {
        "id": "z714O_AoyOKW"
      }
    },
    {
      "cell_type": "code",
      "source": [],
      "metadata": {
        "id": "9S49aVovyY3D"
      },
      "execution_count": null,
      "outputs": []
    },
    {
      "cell_type": "markdown",
      "source": [
        "Problem  9\n",
        "\n",
        "Get the positions where elements of a and b match\n",
        "\n",
        "Input:\n",
        "\n",
        "\n",
        "\n",
        "```\n",
        "a = np.array([1,2,3,2,3,4,3,4,5,6])\n",
        "b = np.array([7,2,10,2,7,4,9,4,9,8])\n",
        "```\n",
        "\n",
        "\n",
        "Desired Output:\n",
        "\n",
        "\n",
        "\n",
        "```\n",
        "(array([1, 3, 5, 7]),)\n",
        "```\n",
        "\n"
      ],
      "metadata": {
        "id": "EAfoETZyyZi2"
      }
    },
    {
      "cell_type": "code",
      "source": [],
      "metadata": {
        "id": "pTW1JS-OysyM"
      },
      "execution_count": null,
      "outputs": []
    },
    {
      "cell_type": "markdown",
      "source": [
        "Problem  10\n",
        "\n",
        "Swap columns 1 and 2 in the array arr.\n",
        "\n",
        "```\n",
        "arr = np.arange(9).reshape(3,3)\n",
        "```\n",
        "\n",
        "Output:\n",
        "\n",
        "\n",
        "\n",
        "```\n",
        "array([[1, 0, 2],\n",
        "      [4, 3, 5],\n",
        "      [7, 6, 8]])\n",
        "```\n",
        "\n",
        "\n"
      ],
      "metadata": {
        "id": "0wj25KsAyxfv"
      }
    },
    {
      "cell_type": "code",
      "source": [],
      "metadata": {
        "id": "V16xM0yjzfI0"
      },
      "execution_count": null,
      "outputs": []
    },
    {
      "cell_type": "markdown",
      "source": [
        "Problem  11\n",
        "\n",
        "From the array a, replace all values greater than 30 to 30 and less than 10 to 10.\n",
        "\n",
        "Input:\n",
        "\n",
        "\n",
        "```\n",
        "np.random.seed(100)\n",
        "a = np.random.uniform(1,50, 20)\n",
        "```\n"
      ],
      "metadata": {
        "id": "T3JTUp181MAR"
      }
    },
    {
      "cell_type": "code",
      "source": [],
      "metadata": {
        "id": "Ju77O_4x1TJl"
      },
      "execution_count": null,
      "outputs": []
    },
    {
      "cell_type": "markdown",
      "source": [
        "Problem  12\n",
        "\n",
        "Compute the counts of unique values row-wise.\n",
        "\n",
        "Input:\n",
        "\n",
        "\n",
        "\n",
        "```\n",
        "np.random.seed(100)\n",
        "arr = np.random.randint(1,11,size=(6, 10))\n",
        "arr\n",
        "> array([[ 9,  9,  4,  8,  8,  1,  5,  3,  6,  3],\n",
        ">        [ 3,  3,  2,  1,  9,  5,  1, 10,  7,  3],\n",
        ">        [ 5,  2,  6,  4,  5,  5,  4,  8,  2,  2],\n",
        ">        [ 8,  8,  1,  3, 10, 10,  4,  3,  6,  9],\n",
        ">        [ 2,  1,  8,  7,  3,  1,  9,  3,  6,  2],\n",
        ">        [ 9,  2,  6,  5,  3,  9,  4,  6,  1, 10]])\n",
        "```\n",
        "\n",
        "\n",
        "\n",
        "Desired Output:\n",
        "\n",
        "\n",
        "\n",
        "```\n",
        "> [[1, 0, 2, 1, 1, 1, 0, 2, 2, 0],\n",
        ">  [2, 1, 3, 0, 1, 0, 1, 0, 1, 1],\n",
        ">  [0, 3, 0, 2, 3, 1, 0, 1, 0, 0],\n",
        ">  [1, 0, 2, 1, 0, 1, 0, 2, 1, 2],\n",
        ">  [2, 2, 2, 0, 0, 1, 1, 1, 1, 0],\n",
        ">  [1, 1, 1, 1, 1, 2, 0, 0, 2, 1]]\n",
        "```\n",
        "\n"
      ],
      "metadata": {
        "id": "LHQfYYtLrz5e"
      }
    },
    {
      "cell_type": "code",
      "source": [],
      "metadata": {
        "id": "MwEiQ9wssF1G"
      },
      "execution_count": null,
      "outputs": []
    },
    {
      "cell_type": "markdown",
      "source": [
        "Problem  13\n",
        "\n",
        "Compute the one-hot encodings (dummy binary variables for each unique value in the array)"
      ],
      "metadata": {
        "id": "j5DBowUpsTSR"
      }
    },
    {
      "cell_type": "code",
      "source": [],
      "metadata": {
        "id": "9_W66J-VwNnJ"
      },
      "execution_count": null,
      "outputs": []
    },
    {
      "cell_type": "markdown",
      "source": [
        "Problem  14\n",
        "\n",
        "Create the ranks for the given numeric array a.\n",
        "\n",
        "Input:\n",
        "\n",
        "\n",
        "\n",
        "```\n",
        "np.random.seed(10)\n",
        "a = np.random.randint(20, size=10)\n",
        "print(a)\n",
        "#> [ 9  4 15  0 17 16 17  8  9  0]\n",
        "```\n",
        "\n",
        "Desired output:\n",
        "\n",
        "```\n",
        "[4 2 6 0 8 7 9 3 5 1]\n",
        "```"
      ],
      "metadata": {
        "id": "ku1ShYriwWg5"
      }
    },
    {
      "cell_type": "code",
      "source": [],
      "metadata": {
        "id": "MTqYk__owkLS"
      },
      "execution_count": null,
      "outputs": []
    },
    {
      "cell_type": "markdown",
      "source": [
        "Problem  15\n",
        "\n",
        "Create a rank array of the same shape as a given numeric array a.\n",
        "\n",
        "Input:\n",
        "\n",
        "\n",
        "\n",
        "```\n",
        "np.random.seed(10)\n",
        "a = np.random.randint(20, size=[2,5])\n",
        "print(a)\n",
        "#> [[ 9  4 15  0 17]\n",
        "#>  [16 17  8  9  0]]\n",
        "```\n",
        "\n",
        "\n",
        "Desired output:\n",
        "\n",
        "\n",
        "\n",
        "```\n",
        "#> [[4 2 6 0 8]\n",
        "#>  [7 9 3 5 1]]\n",
        "```\n",
        "\n"
      ],
      "metadata": {
        "id": "GTX22O_CwBCn"
      }
    },
    {
      "cell_type": "code",
      "source": [],
      "metadata": {
        "id": "8Jrl4Xf8wL6n"
      },
      "execution_count": null,
      "outputs": []
    },
    {
      "cell_type": "markdown",
      "source": [
        "Problem  16\n",
        "\n",
        "Compute the min-by-max for each row for given 2d numpy array\n",
        "\n",
        "Input:\n",
        "\n",
        "```\n",
        "np.random.seed(100)\n",
        "a = np.random.randint(1,10, [5,3])\n",
        "a\n",
        "#> array([[9, 9, 4],\n",
        "#>        [8, 8, 1],\n",
        "#>        [5, 3, 6],\n",
        "#>        [3, 3, 3],\n",
        "#>        [2, 1, 9]])\n",
        "```\n",
        "\n",
        "Desired Output:\n",
        "\n",
        "```\n",
        "array([ 0.44444444,  0.125     ,  0.5       ,  1.        ,  0.11111111])\n",
        "```"
      ],
      "metadata": {
        "id": "JX1wmQYXwsZP"
      }
    },
    {
      "cell_type": "code",
      "source": [],
      "metadata": {
        "id": "9u7Vg5F-wtwu"
      },
      "execution_count": null,
      "outputs": []
    },
    {
      "cell_type": "markdown",
      "source": [
        "Problem  17\n",
        "\n",
        "Find the duplicate entries (2nd occurrence onwards) in the given numpy array and mark them as True. First time occurrences should be False\n",
        "\n",
        "Input\n",
        "```\n",
        "np.random.seed(100)\n",
        "a = np.random.randint(0, 5, 10)\n",
        "print('Array: ', a)\n",
        "#> Array: [0 0 3 0 2 4 2 2 2 2]\n",
        "```\n",
        "Desired Output:\n",
        "```\n",
        "#> [False  True False  True False False  True  True  True  True]\n",
        "```"
      ],
      "metadata": {
        "id": "pLwGxnDdwvNZ"
      }
    },
    {
      "cell_type": "code",
      "source": [],
      "metadata": {
        "id": "iFzMSHx-xWTX"
      },
      "execution_count": null,
      "outputs": []
    },
    {
      "cell_type": "markdown",
      "source": [
        "Problem  18\n",
        "\n",
        "Drop all nan values from a 1D numpy array\n",
        "\n",
        "Input:\n",
        "```\n",
        "np.array([1,2,3,np.nan,5,6,7,np.nan])\n",
        "```\n",
        "Desired Output:\n",
        "```\n",
        "array([ 1.,  2.,  3.,  5.,  6.,  7.])\n",
        "```"
      ],
      "metadata": {
        "id": "gE2QG7lfwvKP"
      }
    },
    {
      "cell_type": "code",
      "source": [],
      "metadata": {
        "id": "jrEnT6SQxmuL"
      },
      "execution_count": null,
      "outputs": []
    },
    {
      "cell_type": "markdown",
      "source": [
        "Problem 19\n",
        "\n",
        "Find all the peaks in a 1D numpy array a. Peaks are points surrounded by smaller values on both sides.\n",
        "\n",
        "Input:\n",
        "```\n",
        "a = np.array([1, 3, 7, 1, 2, 6, 0, 1])\n",
        "```\n",
        "Desired Output:\n",
        "```\n",
        "#> array([2, 5])\n",
        "```"
      ],
      "metadata": {
        "id": "aDvGrDytx7Jh"
      }
    },
    {
      "cell_type": "code",
      "source": [],
      "metadata": {
        "id": "PVAt2DVGxnUc"
      },
      "execution_count": null,
      "outputs": []
    },
    {
      "cell_type": "markdown",
      "source": [
        "Problem 20\n",
        "\n",
        "Subtract the 1d array b_1d from the 2d array a_2d, such that each item of b_1d subtracts from respective row of a_2d.\n",
        "\n",
        "\n",
        "Input\n",
        "```\n",
        "a_2d = np.array([[3,3,3],[4,4,4],[5,5,5]])\n",
        "b_1d = np.array([1,1,1]\n",
        "\n",
        "```\n",
        "Desired Output:\n",
        "```\n",
        "#> [[2 2 2]\n",
        "#>  [2 2 2]\n",
        "#>  [2 2 2]]\n",
        "```"
      ],
      "metadata": {
        "id": "ueqd1H7WyHT6"
      }
    },
    {
      "cell_type": "code",
      "source": [],
      "metadata": {
        "id": "usT-gMqOySyG"
      },
      "execution_count": null,
      "outputs": []
    },
    {
      "cell_type": "markdown",
      "source": [
        "Problem 21\n",
        "\n",
        "Find the index of 5th repetition of number 1 in x.\n",
        "\n",
        "Input:\n",
        "\n",
        "```\n",
        "x = np.array([1, 2, 1, 1, 3, 4, 3, 1, 1, 2, 1, 1, 2])\n",
        "```\n",
        "\n"
      ],
      "metadata": {
        "id": "HWe3-R9C3rMi"
      }
    },
    {
      "cell_type": "code",
      "source": [],
      "metadata": {
        "id": "EvD16zlJ3wVZ"
      },
      "execution_count": null,
      "outputs": []
    },
    {
      "cell_type": "markdown",
      "source": [
        "Problem 22\n",
        "\n",
        "Create a numpy array of length 10, starting from 5 and has a step of 3 between consecutive numbers"
      ],
      "metadata": {
        "id": "I791Ruie3xBD"
      }
    },
    {
      "cell_type": "code",
      "source": [],
      "metadata": {
        "id": "kzFiZ_SC39em"
      },
      "execution_count": null,
      "outputs": []
    },
    {
      "cell_type": "markdown",
      "source": [
        "Problem 23\n",
        "\n",
        " From the given 1d array arr, generate a 2d matrix using strides, with a window length of 4 and strides of 2, like [[0,1,2,3], [2,3,4,5], [4,5,6,7]..]\n",
        "\n",
        "Input:\n",
        "```\n",
        "arr = np.arange(15) \n",
        "arr\n",
        "#> array([ 0,  1,  2,  3,  4,  5,  6,  7,  8,  9, 10, 11, 12, 13, 14])\n",
        "```\n",
        "\n",
        "Desired Output:\n",
        "```\n",
        "#> [[ 0  1  2  3]\n",
        "#>  [ 2  3  4  5]\n",
        "#>  [ 4  5  6  7]\n",
        "#>  [ 6  7  8  9]\n",
        "#>  [ 8  9 10 11]\n",
        "#>  [10 11 12 13]]\n",
        "```"
      ],
      "metadata": {
        "id": "QyQmrqM43-SS"
      }
    },
    {
      "cell_type": "code",
      "source": [],
      "metadata": {
        "id": "My6d6SyU4NhC"
      },
      "execution_count": null,
      "outputs": []
    },
    {
      "cell_type": "markdown",
      "source": [],
      "metadata": {
        "id": "M7Vn6W854Oym"
      }
    }
  ]
}