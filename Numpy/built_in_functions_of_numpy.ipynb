{
 "cells": [
  {
   "cell_type": "markdown",
   "id": "cc56747d",
   "metadata": {},
   "source": [
    "# Apply Numpy 20 Universal functions \n",
    "\n",
    "NumPy provides several universal functions (ufuncs) that perform element-wise operations on arrays. Some common NumPy ufuncs are:\n",
    "\n",
    "1. abs: Calculates the absolute value element-wise.\n",
    "\n",
    "2. sqrt: Calculates the square root element-wise.\n",
    "\n",
    "3. exp: Calculates the exponential of each element.\n",
    "\n",
    "4. log, log10, log2: Calculates the logarithm with base e, 10, and 2, respectively.\n",
    "\n",
    "5. sin, cos, tan: Trigonometric sine, cosine, and tangent functions.\n",
    "\n",
    "6. sinh, cosh, tanh: Hyperbolic sine, cosine, and tangent functions.\n",
    "\n",
    "7. floor: Rounds each element down to the nearest integer.\n",
    "\n",
    "8. ceil: Rounds each element up to the nearest integer.\n",
    "\n",
    "9. round: Rounds each element to the nearest integer.\n",
    "\n",
    "10. maximum, minimum: Element-wise maximum and minimum of two arrays.\n",
    "\n",
    "11. add, subtract, multiply, divide: Element-wise addition, subtraction, multiplication, and division.\n",
    "\n",
    "12. power: Raises each element to a specified power.\n",
    "\n",
    "13. mod: Element-wise modulus (remainder after division).\n",
    "\n",
    "These functions can be applied to arrays of any shape, including scalars. To use these functions, you need to import NumPy first:"
   ]
  },
  {
   "cell_type": "code",
   "execution_count": 1,
   "id": "a70320ea",
   "metadata": {},
   "outputs": [],
   "source": [
    "import numpy as np\n",
    "a = np.array([1,2,3,4,5,6,7,8,9])"
   ]
  },
  {
   "cell_type": "code",
   "execution_count": 2,
   "id": "4200b458",
   "metadata": {},
   "outputs": [
    {
     "data": {
      "text/plain": [
       "array([1, 2, 3, 4, 5, 6, 7, 8, 9])"
      ]
     },
     "execution_count": 2,
     "metadata": {},
     "output_type": "execute_result"
    }
   ],
   "source": [
    "a"
   ]
  },
  {
   "cell_type": "code",
   "execution_count": 3,
   "id": "cf17fa16",
   "metadata": {},
   "outputs": [
    {
     "data": {
      "text/plain": [
       "array([1, 2, 3, 4, 5, 6, 7, 8, 9])"
      ]
     },
     "execution_count": 3,
     "metadata": {},
     "output_type": "execute_result"
    }
   ],
   "source": [
    "print(np.absolute(a))\n",
    "print(np.a)"
   ]
  },
  {
   "cell_type": "code",
   "execution_count": null,
   "id": "728df0bd",
   "metadata": {},
   "outputs": [],
   "source": [
    "np.sqrt(a)"
   ]
  },
  {
   "cell_type": "code",
   "execution_count": null,
   "id": "ee5d2fbd",
   "metadata": {},
   "outputs": [],
   "source": [
    "np.exp(a)"
   ]
  },
  {
   "cell_type": "code",
   "execution_count": null,
   "id": "2ca0cb17",
   "metadata": {},
   "outputs": [],
   "source": [
    "np.log(a)"
   ]
  },
  {
   "cell_type": "code",
   "execution_count": null,
   "id": "6e069278",
   "metadata": {},
   "outputs": [],
   "source": [
    "np.sin(a)"
   ]
  },
  {
   "cell_type": "code",
   "execution_count": null,
   "id": "fe17971c",
   "metadata": {},
   "outputs": [],
   "source": [
    "np.cos(a)"
   ]
  },
  {
   "cell_type": "code",
   "execution_count": null,
   "id": "b3bf2a0f",
   "metadata": {},
   "outputs": [],
   "source": [
    "np.cos(a)"
   ]
  },
  {
   "cell_type": "code",
   "execution_count": null,
   "id": "3400db0b",
   "metadata": {},
   "outputs": [],
   "source": [
    "np.log(a)"
   ]
  },
  {
   "cell_type": "code",
   "execution_count": null,
   "id": "b1e2bf26",
   "metadata": {},
   "outputs": [],
   "source": [
    "np.log10(a)"
   ]
  },
  {
   "cell_type": "code",
   "execution_count": null,
   "id": "678f00b0",
   "metadata": {},
   "outputs": [],
   "source": [
    "np.floor(a)"
   ]
  },
  {
   "cell_type": "code",
   "execution_count": null,
   "id": "4aa173ed",
   "metadata": {},
   "outputs": [],
   "source": [
    "np.ceil(a)"
   ]
  },
  {
   "cell_type": "code",
   "execution_count": null,
   "id": "f1529145",
   "metadata": {},
   "outputs": [],
   "source": [
    "np.round(a)"
   ]
  },
  {
   "cell_type": "code",
   "execution_count": null,
   "id": "7373bb95",
   "metadata": {},
   "outputs": [],
   "source": [
    "np.max(a)"
   ]
  },
  {
   "cell_type": "code",
   "execution_count": null,
   "id": "590e0fa8",
   "metadata": {},
   "outputs": [],
   "source": [
    "np.min(a)"
   ]
  },
  {
   "cell_type": "code",
   "execution_count": null,
   "id": "8ab5e5a1",
   "metadata": {},
   "outputs": [],
   "source": [
    "a + 5"
   ]
  },
  {
   "cell_type": "code",
   "execution_count": null,
   "id": "568f8430",
   "metadata": {},
   "outputs": [],
   "source": [
    "a - 2"
   ]
  },
  {
   "cell_type": "code",
   "execution_count": null,
   "id": "b6ffc055",
   "metadata": {},
   "outputs": [],
   "source": [
    "a * 5"
   ]
  },
  {
   "cell_type": "code",
   "execution_count": null,
   "id": "73224f13",
   "metadata": {},
   "outputs": [],
   "source": [
    "np.power(a, 2)"
   ]
  },
  {
   "cell_type": "code",
   "execution_count": null,
   "id": "cad6a7fd",
   "metadata": {},
   "outputs": [],
   "source": [
    "np.mod(a,2)"
   ]
  },
  {
   "cell_type": "code",
   "execution_count": null,
   "id": "6e43d6b6",
   "metadata": {},
   "outputs": [],
   "source": []
  }
 ],
 "metadata": {
  "kernelspec": {
   "display_name": "Python 3 (ipykernel)",
   "language": "python",
   "name": "python3"
  },
  "language_info": {
   "codemirror_mode": {
    "name": "ipython",
    "version": 3
   },
   "file_extension": ".py",
   "mimetype": "text/x-python",
   "name": "python",
   "nbconvert_exporter": "python",
   "pygments_lexer": "ipython3",
   "version": "3.9.13"
  }
 },
 "nbformat": 4,
 "nbformat_minor": 5
}
